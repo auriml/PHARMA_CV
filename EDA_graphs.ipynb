{
 "cells": [
  {
   "cell_type": "code",
   "execution_count": 1,
   "metadata": {},
   "outputs": [
    {
     "ename": "ModuleNotFoundError",
     "evalue": "No module named 'bokeh'",
     "output_type": "error",
     "traceback": [
      "\u001b[0;31m---------------------------------------------------------------------------\u001b[0m",
      "\u001b[0;31mModuleNotFoundError\u001b[0m                       Traceback (most recent call last)",
      "\u001b[0;32m<ipython-input-1-0061b469204a>\u001b[0m in \u001b[0;36m<module>\u001b[0;34m\u001b[0m\n\u001b[0;32m----> 1\u001b[0;31m \u001b[0;32mfrom\u001b[0m \u001b[0mbokeh\u001b[0m\u001b[0;34m.\u001b[0m\u001b[0mio\u001b[0m \u001b[0;32mimport\u001b[0m \u001b[0moutput_notebook\u001b[0m\u001b[0;34m,\u001b[0m \u001b[0mshow\u001b[0m\u001b[0;34m\u001b[0m\u001b[0;34m\u001b[0m\u001b[0m\n\u001b[0m\u001b[1;32m      2\u001b[0m \u001b[0moutput_notebook\u001b[0m\u001b[0;34m(\u001b[0m\u001b[0;34m)\u001b[0m\u001b[0;34m\u001b[0m\u001b[0;34m\u001b[0m\u001b[0m\n",
      "\u001b[0;31mModuleNotFoundError\u001b[0m: No module named 'bokeh'"
     ]
    }
   ],
   "source": [
    "from bokeh.io import output_notebook, show\n",
    "output_notebook()"
   ]
  },
  {
   "cell_type": "code",
   "execution_count": 35,
   "metadata": {},
   "outputs": [],
   "source": [
    "import seaborn as sns\n",
    "import matplotlib.pyplot as plt\n",
    "import numpy as np\n",
    "import pandas as pd\n",
    "pd.options.display.max_columns = None\n",
    "pd.options.display.max_rows = 300\n",
    "sns.set_theme(style=\"ticks\", color_codes=True)"
   ]
  },
  {
   "cell_type": "code",
   "execution_count": 36,
   "metadata": {},
   "outputs": [
    {
     "data": {
      "text/plain": [
       "Index(['_p_id', 'level_1', '_patient_id', '_health_dep', '_age', '_gender',\n",
       "       'date_in', 'n_days_in', 'worst_barthel_scale', 'n_covid_rel_dx',\n",
       "       'covid_rel_dx', 'n_covid_rel_image', 'covid_rel_image', 'n_PCRs_+',\n",
       "       'n_days_icu', 'worst_sofa_scale', 'worst_glasgow', 'critic', 'severity',\n",
       "       '_discharge', 'who_out_scale', 'date_icu_in', 'worst_glasgow_scale'],\n",
       "      dtype='object')"
      ]
     },
     "execution_count": 36,
     "metadata": {},
     "output_type": "execute_result"
    }
   ],
   "source": [
    "ex = pd.read_csv('table_extended_PCR.csv')\n",
    "ex.columns"
   ]
  },
  {
   "cell_type": "code",
   "execution_count": 37,
   "metadata": {},
   "outputs": [
    {
     "name": "stderr",
     "output_type": "stream",
     "text": [
      "/home/auri/anaconda3/envs/nlpMED/lib/python3.7/site-packages/seaborn/axisgrid.py:64: UserWarning: Tight layout not applied. tight_layout cannot make axes height small enough to accommodate all axes decorations\n",
      "  self.fig.tight_layout(*args, **kwargs)\n",
      "/home/auri/anaconda3/envs/nlpMED/lib/python3.7/site-packages/seaborn/axisgrid.py:64: UserWarning: Tight layout not applied. The bottom and top margins cannot be made large enough to accommodate all axes decorations. \n",
      "  self.fig.tight_layout(*args, **kwargs)\n",
      "/home/auri/anaconda3/envs/nlpMED/lib/python3.7/site-packages/seaborn/axisgrid.py:64: UserWarning: Tight layout not applied. The bottom and top margins cannot be made large enough to accommodate all axes decorations. \n",
      "  self.fig.tight_layout(*args, **kwargs)\n",
      "/home/auri/anaconda3/envs/nlpMED/lib/python3.7/site-packages/seaborn/axisgrid.py:64: UserWarning: Tight layout not applied. tight_layout cannot make axes height small enough to accommodate all axes decorations\n",
      "  self.fig.tight_layout(*args, **kwargs)\n"
     ]
    },
    {
     "name": "stdout",
     "output_type": "stream",
     "text": [
      "Admissions distribution by age and sex\n"
     ]
    },
    {
     "data": {
      "image/png": "[encoded data removed]",
      "text/plain": [
       "<Figure size 540x72 with 2 Axes>"
      ]
     },
     "metadata": {},
     "output_type": "display_data"
    }
   ],
   "source": [
    "sns.set_theme(style=\"white\", rc={\"axes.facecolor\": (0, 0, 0, 0)})\n",
    "\n",
    "# Create the data\n",
    "\n",
    "\n",
    "df = ex[['_age', '_gender']]\n",
    "\n",
    "# Initialize the FacetGrid object\n",
    "pal = sns.cubehelix_palette(2, rot=-.25, light=.7)\n",
    "g = sns.FacetGrid(df, row=\"_gender\", hue=\"_gender\", aspect=15, height=.5, palette=pal)\n",
    "\n",
    "# Draw the densities in a few steps\n",
    "g.map(sns.kdeplot, \"_age\",\n",
    "      bw_adjust=.5, clip_on=False,\n",
    "      fill=True, alpha=1, linewidth=1.5)\n",
    "g.map(sns.kdeplot, \"_age\", clip_on=False, color=\"w\", lw=2, bw_adjust=.5)\n",
    "g.map(plt.axhline, y=0, lw=2, clip_on=False)\n",
    "\n",
    "\n",
    "# Define and use a simple function to label the plot in axes coordinates\n",
    "def label(x, color, label):\n",
    "    ax = plt.gca()\n",
    "    ax.text(0, .2, label, fontweight=\"bold\", color=color,\n",
    "            ha=\"left\", va=\"center\", transform=ax.transAxes)\n",
    "\n",
    "\n",
    "g.map(label, \"_age\")\n",
    "\n",
    "# Set the subplots to overlap\n",
    "g.fig.subplots_adjust(hspace=-.25)\n",
    "\n",
    "# Remove axes details that don't play well with overlap\n",
    "g.set_titles(\"\")\n",
    "g.set(yticks=[])\n",
    "g.despine(bottom=True, left=True)\n",
    "print(\"Admissions distribution by age and sex\")"
   ]
  },
  {
   "cell_type": "code",
   "execution_count": 38,
   "metadata": {},
   "outputs": [
    {
     "data": {
      "text/html": [
       "<div>\n",
       "<style scoped>\n",
       "    .dataframe tbody tr th:only-of-type {\n",
       "        vertical-align: middle;\n",
       "    }\n",
       "\n",
       "    .dataframe tbody tr th {\n",
       "        vertical-align: top;\n",
       "    }\n",
       "\n",
       "    .dataframe thead th {\n",
       "        text-align: right;\n",
       "    }\n",
       "</style>\n",
       "<table border=\"1\" class=\"dataframe\">\n",
       "  <thead>\n",
       "    <tr style=\"text-align: right;\">\n",
       "      <th></th>\n",
       "      <th>_p_id</th>\n",
       "      <th>level_1</th>\n",
       "      <th>_health_dep</th>\n",
       "      <th>_age</th>\n",
       "      <th>worst_barthel_scale</th>\n",
       "      <th>n_covid_rel_dx</th>\n",
       "      <th>n_covid_rel_image</th>\n",
       "      <th>n_PCRs_+</th>\n",
       "      <th>worst_sofa_scale</th>\n",
       "      <th>worst_glasgow</th>\n",
       "      <th>severity</th>\n",
       "      <th>worst_glasgow_scale</th>\n",
       "    </tr>\n",
       "  </thead>\n",
       "  <tbody>\n",
       "    <tr>\n",
       "      <th>count</th>\n",
       "      <td>5757.000000</td>\n",
       "      <td>5757.000000</td>\n",
       "      <td>5757.000000</td>\n",
       "      <td>5757.000000</td>\n",
       "      <td>2547.000000</td>\n",
       "      <td>5757.000000</td>\n",
       "      <td>5757.000000</td>\n",
       "      <td>5757.000000</td>\n",
       "      <td>73.000000</td>\n",
       "      <td>0.0</td>\n",
       "      <td>5614.000000</td>\n",
       "      <td>96.000000</td>\n",
       "    </tr>\n",
       "    <tr>\n",
       "      <th>mean</th>\n",
       "      <td>2240.232065</td>\n",
       "      <td>0.410109</td>\n",
       "      <td>11.627758</td>\n",
       "      <td>63.780094</td>\n",
       "      <td>73.370632</td>\n",
       "      <td>1.081640</td>\n",
       "      <td>0.582769</td>\n",
       "      <td>0.874935</td>\n",
       "      <td>1.465753</td>\n",
       "      <td>NaN</td>\n",
       "      <td>2.807089</td>\n",
       "      <td>12.260417</td>\n",
       "    </tr>\n",
       "    <tr>\n",
       "      <th>std</th>\n",
       "      <td>1262.863435</td>\n",
       "      <td>1.028666</td>\n",
       "      <td>7.294215</td>\n",
       "      <td>21.733115</td>\n",
       "      <td>38.220883</td>\n",
       "      <td>1.249853</td>\n",
       "      <td>1.563005</td>\n",
       "      <td>1.495764</td>\n",
       "      <td>1.323738</td>\n",
       "      <td>NaN</td>\n",
       "      <td>0.877503</td>\n",
       "      <td>4.267983</td>\n",
       "    </tr>\n",
       "    <tr>\n",
       "      <th>min</th>\n",
       "      <td>0.000000</td>\n",
       "      <td>0.000000</td>\n",
       "      <td>1.000000</td>\n",
       "      <td>1.000000</td>\n",
       "      <td>0.000000</td>\n",
       "      <td>0.000000</td>\n",
       "      <td>0.000000</td>\n",
       "      <td>0.000000</td>\n",
       "      <td>0.000000</td>\n",
       "      <td>NaN</td>\n",
       "      <td>2.000000</td>\n",
       "      <td>3.000000</td>\n",
       "    </tr>\n",
       "    <tr>\n",
       "      <th>25%</th>\n",
       "      <td>1174.000000</td>\n",
       "      <td>0.000000</td>\n",
       "      <td>5.000000</td>\n",
       "      <td>51.000000</td>\n",
       "      <td>45.000000</td>\n",
       "      <td>0.000000</td>\n",
       "      <td>0.000000</td>\n",
       "      <td>0.000000</td>\n",
       "      <td>0.000000</td>\n",
       "      <td>NaN</td>\n",
       "      <td>2.000000</td>\n",
       "      <td>10.750000</td>\n",
       "    </tr>\n",
       "    <tr>\n",
       "      <th>50%</th>\n",
       "      <td>2254.000000</td>\n",
       "      <td>0.000000</td>\n",
       "      <td>12.000000</td>\n",
       "      <td>67.000000</td>\n",
       "      <td>100.000000</td>\n",
       "      <td>1.000000</td>\n",
       "      <td>0.000000</td>\n",
       "      <td>0.000000</td>\n",
       "      <td>1.000000</td>\n",
       "      <td>NaN</td>\n",
       "      <td>3.000000</td>\n",
       "      <td>15.000000</td>\n",
       "    </tr>\n",
       "    <tr>\n",
       "      <th>75%</th>\n",
       "      <td>3316.000000</td>\n",
       "      <td>0.000000</td>\n",
       "      <td>19.000000</td>\n",
       "      <td>81.000000</td>\n",
       "      <td>100.000000</td>\n",
       "      <td>2.000000</td>\n",
       "      <td>1.000000</td>\n",
       "      <td>1.000000</td>\n",
       "      <td>2.000000</td>\n",
       "      <td>NaN</td>\n",
       "      <td>3.000000</td>\n",
       "      <td>15.000000</td>\n",
       "    </tr>\n",
       "    <tr>\n",
       "      <th>max</th>\n",
       "      <td>4467.000000</td>\n",
       "      <td>13.000000</td>\n",
       "      <td>21.000000</td>\n",
       "      <td>102.000000</td>\n",
       "      <td>100.000000</td>\n",
       "      <td>12.000000</td>\n",
       "      <td>27.000000</td>\n",
       "      <td>18.000000</td>\n",
       "      <td>6.000000</td>\n",
       "      <td>NaN</td>\n",
       "      <td>5.000000</td>\n",
       "      <td>15.000000</td>\n",
       "    </tr>\n",
       "  </tbody>\n",
       "</table>\n",
       "</div>"
      ],
      "text/plain": [
       "             _p_id      level_1  _health_dep         _age  \\\n",
       "count  5757.000000  5757.000000  5757.000000  5757.000000   \n",
       "mean   2240.232065     0.410109    11.627758    63.780094   \n",
       "std    1262.863435     1.028666     7.294215    21.733115   \n",
       "min       0.000000     0.000000     1.000000     1.000000   \n",
       "25%    1174.000000     0.000000     5.000000    51.000000   \n",
       "50%    2254.000000     0.000000    12.000000    67.000000   \n",
       "75%    3316.000000     0.000000    19.000000    81.000000   \n",
       "max    4467.000000    13.000000    21.000000   102.000000   \n",
       "\n",
       "       worst_barthel_scale  n_covid_rel_dx  n_covid_rel_image     n_PCRs_+  \\\n",
       "count          2547.000000     5757.000000        5757.000000  5757.000000   \n",
       "mean             73.370632        1.081640           0.582769     0.874935   \n",
       "std              38.220883        1.249853           1.563005     1.495764   \n",
       "min               0.000000        0.000000           0.000000     0.000000   \n",
       "25%              45.000000        0.000000           0.000000     0.000000   \n",
       "50%             100.000000        1.000000           0.000000     0.000000   \n",
       "75%             100.000000        2.000000           1.000000     1.000000   \n",
       "max             100.000000       12.000000          27.000000    18.000000   \n",
       "\n",
       "       worst_sofa_scale  worst_glasgow     severity  worst_glasgow_scale  \n",
       "count         73.000000            0.0  5614.000000            96.000000  \n",
       "mean           1.465753            NaN     2.807089            12.260417  \n",
       "std            1.323738            NaN     0.877503             4.267983  \n",
       "min            0.000000            NaN     2.000000             3.000000  \n",
       "25%            0.000000            NaN     2.000000            10.750000  \n",
       "50%            1.000000            NaN     3.000000            15.000000  \n",
       "75%            2.000000            NaN     3.000000            15.000000  \n",
       "max            6.000000            NaN     5.000000            15.000000  "
      ]
     },
     "execution_count": 38,
     "metadata": {},
     "output_type": "execute_result"
    }
   ],
   "source": [
    "ex.describe()"
   ]
  },
  {
   "cell_type": "code",
   "execution_count": 39,
   "metadata": {},
   "outputs": [],
   "source": [
    "#Severity grade (following AE grading system 1-5: \n",
    "        #1-mild(ER only, does not require hospitalization), \n",
    "        #2-moderate( hospitalization <= 5 days)\n",
    "        #3-severe(prolongs hospitalization > 5 days), \n",
    "        #4-critical(life threatening = UCI), \n",
    "        #5-fatal "
   ]
  },
  {
   "cell_type": "code",
   "execution_count": 40,
   "metadata": {},
   "outputs": [
    {
     "data": {
      "text/plain": [
       "Index(['_p_id', 'level_1', '_patient_id', '_health_dep', '_age', '_gender',\n",
       "       'date_in', 'n_days_in', 'worst_barthel_scale', 'n_covid_rel_dx',\n",
       "       'covid_rel_dx', 'n_covid_rel_image', 'covid_rel_image', 'n_PCRs_+',\n",
       "       'n_days_icu', 'worst_sofa_scale', 'worst_glasgow', 'critic', 'severity',\n",
       "       '_discharge', 'who_out_scale', 'date_icu_in', 'worst_glasgow_scale'],\n",
       "      dtype='object')"
      ]
     },
     "execution_count": 40,
     "metadata": {},
     "output_type": "execute_result"
    }
   ],
   "source": [
    "ex.columns"
   ]
  },
  {
   "cell_type": "code",
   "execution_count": 42,
   "metadata": {
    "scrolled": false
   },
   "outputs": [],
   "source": [
    "df_17 = ex[ex._health_dep == 17]\n",
    "df_17[((df_17['n_PCRs_+'] > 0) & ((df_17.n_covid_rel_dx > 0) | (df_17.n_covid_rel_image > 0)))].to_csv('17_filtered_admissions.csv', index = False)"
   ]
  },
  {
   "cell_type": "code",
   "execution_count": null,
   "metadata": {},
   "outputs": [],
   "source": []
  },
  {
   "cell_type": "code",
   "execution_count": 6,
   "metadata": {},
   "outputs": [
    {
     "data": {
      "text/html": [
       "<div>\n",
       "<style scoped>\n",
       "    .dataframe tbody tr th:only-of-type {\n",
       "        vertical-align: middle;\n",
       "    }\n",
       "\n",
       "    .dataframe tbody tr th {\n",
       "        vertical-align: top;\n",
       "    }\n",
       "\n",
       "    .dataframe thead th {\n",
       "        text-align: right;\n",
       "    }\n",
       "</style>\n",
       "<table border=\"1\" class=\"dataframe\">\n",
       "  <thead>\n",
       "    <tr style=\"text-align: right;\">\n",
       "      <th></th>\n",
       "      <th>severity</th>\n",
       "      <th>_p_id</th>\n",
       "      <th>admissions</th>\n",
       "    </tr>\n",
       "  </thead>\n",
       "  <tbody>\n",
       "    <tr>\n",
       "      <th>0</th>\n",
       "      <td>2.0</td>\n",
       "      <td>2323</td>\n",
       "      <td>2323</td>\n",
       "    </tr>\n",
       "    <tr>\n",
       "      <th>1</th>\n",
       "      <td>3.0</td>\n",
       "      <td>2535</td>\n",
       "      <td>2535</td>\n",
       "    </tr>\n",
       "    <tr>\n",
       "      <th>2</th>\n",
       "      <td>4.0</td>\n",
       "      <td>272</td>\n",
       "      <td>272</td>\n",
       "    </tr>\n",
       "    <tr>\n",
       "      <th>3</th>\n",
       "      <td>5.0</td>\n",
       "      <td>484</td>\n",
       "      <td>484</td>\n",
       "    </tr>\n",
       "  </tbody>\n",
       "</table>\n",
       "</div>"
      ],
      "text/plain": [
       "   severity  _p_id  admissions\n",
       "0       2.0   2323        2323\n",
       "1       3.0   2535        2535\n",
       "2       4.0    272         272\n",
       "3       5.0    484         484"
      ]
     },
     "execution_count": 6,
     "metadata": {},
     "output_type": "execute_result"
    }
   ],
   "source": [
    "df = ex.groupby('severity')._p_id.count().reset_index()\n",
    "df['admissions'] = df._p_id\n",
    "df"
   ]
  },
  {
   "cell_type": "code",
   "execution_count": 50,
   "metadata": {},
   "outputs": [
    {
     "data": {
      "text/plain": [
       "<seaborn.axisgrid.FacetGrid at 0x7f10ce940990>"
      ]
     },
     "execution_count": 50,
     "metadata": {},
     "output_type": "execute_result"
    },
    {
     "data": {
      "image/png": "[encoded data removed]",
      "text/plain": [
       "<Figure size 432x432 with 1 Axes>"
      ]
     },
     "metadata": {},
     "output_type": "display_data"
    }
   ],
   "source": [
    "sns.set_theme(style=\"whitegrid\")\n",
    "\n",
    "\n",
    "\n",
    "# Draw a nested barplot by species and sex\n",
    "g = sns.catplot(\n",
    "    data=df, kind=\"bar\",\n",
    "    x=\"severity\", y=\"admissions\",\n",
    "    ci=\"sd\", palette=\"dark\", alpha=.6, height=6\n",
    ")\n",
    "\n",
    "g.despine(left=True)\n",
    "g.set_axis_labels(\"Severity\", \"Hospital admissions (n)\")\n"
   ]
  },
  {
   "cell_type": "code",
   "execution_count": 21,
   "metadata": {},
   "outputs": [
    {
     "data": {
      "text/plain": [
       "count    5614.000000\n",
       "mean        2.807089\n",
       "std         0.877503\n",
       "min         2.000000\n",
       "25%         2.000000\n",
       "50%         3.000000\n",
       "75%         3.000000\n",
       "max         5.000000\n",
       "Name: severity, dtype: float64"
      ]
     },
     "execution_count": 21,
     "metadata": {},
     "output_type": "execute_result"
    }
   ],
   "source": [
    "ex.severity.describe()"
   ]
  },
  {
   "cell_type": "code",
   "execution_count": 59,
   "metadata": {},
   "outputs": [
    {
     "data": {
      "text/html": [
       "<div>\n",
       "<style scoped>\n",
       "    .dataframe tbody tr th:only-of-type {\n",
       "        vertical-align: middle;\n",
       "    }\n",
       "\n",
       "    .dataframe tbody tr th {\n",
       "        vertical-align: top;\n",
       "    }\n",
       "\n",
       "    .dataframe thead th {\n",
       "        text-align: right;\n",
       "    }\n",
       "</style>\n",
       "<table border=\"1\" class=\"dataframe\">\n",
       "  <thead>\n",
       "    <tr style=\"text-align: right;\">\n",
       "      <th></th>\n",
       "      <th>critic_bool</th>\n",
       "      <th>_p_id</th>\n",
       "      <th>admissions</th>\n",
       "    </tr>\n",
       "  </thead>\n",
       "  <tbody>\n",
       "    <tr>\n",
       "      <th>0</th>\n",
       "      <td>False</td>\n",
       "      <td>5001</td>\n",
       "      <td>5001</td>\n",
       "    </tr>\n",
       "    <tr>\n",
       "      <th>1</th>\n",
       "      <td>True</td>\n",
       "      <td>756</td>\n",
       "      <td>756</td>\n",
       "    </tr>\n",
       "  </tbody>\n",
       "</table>\n",
       "</div>"
      ],
      "text/plain": [
       "   critic_bool  _p_id  admissions\n",
       "0        False   5001        5001\n",
       "1         True    756         756"
      ]
     },
     "execution_count": 59,
     "metadata": {},
     "output_type": "execute_result"
    }
   ],
   "source": [
    "ex['critic_bool'] =  False\n",
    "ex.loc[(ex.critic != 'False'), 'critic_bool'] =  True\n",
    "\n",
    "df = ex.groupby('critic_bool')._p_id.count().reset_index()\n",
    "df['admissions'] = df._p_id\n",
    "df"
   ]
  },
  {
   "cell_type": "code",
   "execution_count": 62,
   "metadata": {},
   "outputs": [
    {
     "data": {
      "text/plain": [
       "<seaborn.axisgrid.FacetGrid at 0x7f10cea8ce90>"
      ]
     },
     "execution_count": 62,
     "metadata": {},
     "output_type": "execute_result"
    },
    {
     "data": {
      "image/png": "[encoded data removed]",
      "text/plain": [
       "<Figure size 432x432 with 1 Axes>"
      ]
     },
     "metadata": {},
     "output_type": "display_data"
    }
   ],
   "source": [
    "\n",
    "sns.set_theme(style=\"whitegrid\")\n",
    "\n",
    "\n",
    "\n",
    "# Draw a nested barplot by species and sex\n",
    "g = sns.catplot(\n",
    "    data=df, kind=\"bar\",\n",
    "    x=\"critic_bool\", y=\"admissions\",\n",
    "    ci=\"sd\", palette=\"dark\", alpha=.6, height=6\n",
    ")\n",
    "\n",
    "g.despine(left=True)\n",
    "g.set_axis_labels(\"Critic\", \"Hospital admissions (n)\")\n"
   ]
  },
  {
   "cell_type": "code",
   "execution_count": 73,
   "metadata": {},
   "outputs": [
    {
     "data": {
      "text/plain": [
       "0       1 days\n",
       "1       7 days\n",
       "2       4 days\n",
       "3       7 days\n",
       "4       6 days\n",
       "         ...  \n",
       "5752    6 days\n",
       "5753    7 days\n",
       "5754   21 days\n",
       "5755    9 days\n",
       "5756    2 days\n",
       "Name: n_days_in, Length: 5757, dtype: timedelta64[ns]"
      ]
     },
     "execution_count": 73,
     "metadata": {},
     "output_type": "execute_result"
    }
   ],
   "source": [
    "ex.n_days_in = pd.to_timedelta(ex.n_days_in)\n",
    "ex.n_days_in"
   ]
  },
  {
   "cell_type": "code",
   "execution_count": 74,
   "metadata": {},
   "outputs": [
    {
     "data": {
      "text/plain": [
       "count                          3137\n",
       "mean     11 days 07:38:34.695569015\n",
       "std      11 days 18:48:31.381439551\n",
       "min                 0 days 00:00:00\n",
       "25%                 5 days 00:00:00\n",
       "50%                 8 days 00:00:00\n",
       "75%                13 days 00:00:00\n",
       "max               132 days 00:00:00\n",
       "Name: n_days_in, dtype: object"
      ]
     },
     "execution_count": 74,
     "metadata": {},
     "output_type": "execute_result"
    }
   ],
   "source": [
    "ex.loc[ex.n_covid_rel_dx > 0].n_days_in.describe()"
   ]
  },
  {
   "cell_type": "code",
   "execution_count": 75,
   "metadata": {},
   "outputs": [
    {
     "data": {
      "text/plain": [
       "count                         2620\n",
       "mean     5 days 18:28:34.809160305\n",
       "std      8 days 11:24:52.365250155\n",
       "min                0 days 00:00:00\n",
       "25%                2 days 00:00:00\n",
       "50%                4 days 00:00:00\n",
       "75%                7 days 00:00:00\n",
       "max              153 days 00:00:00\n",
       "Name: n_days_in, dtype: object"
      ]
     },
     "execution_count": 75,
     "metadata": {},
     "output_type": "execute_result"
    }
   ],
   "source": [
    "ex.loc[ex.n_covid_rel_dx == 0].n_days_in.describe()"
   ]
  },
  {
   "cell_type": "code",
   "execution_count": 76,
   "metadata": {},
   "outputs": [
    {
     "data": {
      "text/plain": [
       "count                          1466\n",
       "mean     13 days 12:29:28.076398363\n",
       "std      13 days 18:59:08.971598477\n",
       "min                 0 days 00:00:00\n",
       "25%                 6 days 00:00:00\n",
       "50%                 9 days 00:00:00\n",
       "75%                15 days 00:00:00\n",
       "max               126 days 00:00:00\n",
       "Name: n_days_in, dtype: object"
      ]
     },
     "execution_count": 76,
     "metadata": {},
     "output_type": "execute_result"
    }
   ],
   "source": [
    "ex.loc[ex.n_covid_rel_image > 0].n_days_in.describe()"
   ]
  },
  {
   "cell_type": "code",
   "execution_count": 77,
   "metadata": {},
   "outputs": [
    {
     "data": {
      "text/plain": [
       "count                         4291\n",
       "mean     7 days 04:16:43.402470286\n",
       "std      8 days 23:12:40.258879482\n",
       "min                0 days 00:00:00\n",
       "25%                2 days 00:00:00\n",
       "50%                5 days 00:00:00\n",
       "75%                9 days 00:00:00\n",
       "max              153 days 00:00:00\n",
       "Name: n_days_in, dtype: object"
      ]
     },
     "execution_count": 77,
     "metadata": {},
     "output_type": "execute_result"
    }
   ],
   "source": [
    "ex.loc[ex.n_covid_rel_image == 0].n_days_in.describe()"
   ]
  },
  {
   "cell_type": "code",
   "execution_count": 82,
   "metadata": {},
   "outputs": [
    {
     "data": {
      "text/plain": [
       "count                          2553\n",
       "mean     12 days 00:34:24.394829612\n",
       "std      12 days 04:36:34.144897207\n",
       "min                 0 days 00:00:00\n",
       "25%                 5 days 00:00:00\n",
       "50%                 9 days 00:00:00\n",
       "75%                14 days 00:00:00\n",
       "max               126 days 00:00:00\n",
       "Name: n_days_in, dtype: object"
      ]
     },
     "execution_count": 82,
     "metadata": {},
     "output_type": "execute_result"
    }
   ],
   "source": [
    "ex.loc[ex['n_PCRs_+'] > 0].n_days_in.describe()"
   ]
  },
  {
   "cell_type": "code",
   "execution_count": 83,
   "metadata": {},
   "outputs": [
    {
     "data": {
      "text/plain": [
       "count                         3204\n",
       "mean     6 days 05:15:30.337078651\n",
       "std      8 days 15:53:14.183303998\n",
       "min                0 days 00:00:00\n",
       "25%                2 days 00:00:00\n",
       "50%                4 days 00:00:00\n",
       "75%                7 days 00:00:00\n",
       "max              153 days 00:00:00\n",
       "Name: n_days_in, dtype: object"
      ]
     },
     "execution_count": 83,
     "metadata": {},
     "output_type": "execute_result"
    }
   ],
   "source": [
    "ex.loc[ex['n_PCRs_+'] == 0].n_days_in.describe()"
   ]
  },
  {
   "cell_type": "code",
   "execution_count": null,
   "metadata": {},
   "outputs": [],
   "source": [
    "ex.plot.hist"
   ]
  }
 ],
 "metadata": {
  "kernelspec": {
   "display_name": "nlpMED",
   "language": "python",
   "name": "nlpmed"
  },
  "language_info": {
   "codemirror_mode": {
    "name": "ipython",
    "version": 3
   },
   "file_extension": ".py",
   "mimetype": "text/x-python",
   "name": "python",
   "nbconvert_exporter": "python",
   "pygments_lexer": "ipython3",
   "version": "3.7.7"
  }
 },
 "nbformat": 4,
 "nbformat_minor": 4
}
