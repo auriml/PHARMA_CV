{
 "cells": [
  {
   "cell_type": "code",
   "execution_count": 1,
   "metadata": {},
   "outputs": [
    {
     "data": {
      "text/html": [
       "<style type='text/css'>\n",
       ".datatable table.frame { margin-bottom: 0; }\n",
       ".datatable table.frame thead { border-bottom: none; }\n",
       ".datatable table.frame tr.coltypes td {  color: #FFFFFF;  line-height: 6px;  padding: 0 0.5em;}\n",
       ".datatable .bool    { background: #DDDD99; }\n",
       ".datatable .object  { background: #565656; }\n",
       ".datatable .int     { background: #5D9E5D; }\n",
       ".datatable .float   { background: #4040CC; }\n",
       ".datatable .str     { background: #CC4040; }\n",
       ".datatable .row_index {  background: var(--jp-border-color3);  border-right: 1px solid var(--jp-border-color0);  color: var(--jp-ui-font-color3);  font-size: 9px;}\n",
       ".datatable .frame tr.coltypes .row_index {  background: var(--jp-border-color0);}\n",
       ".datatable th:nth-child(2) { padding-left: 12px; }\n",
       ".datatable .hellipsis {  color: var(--jp-cell-editor-border-color);}\n",
       ".datatable .vellipsis {  background: var(--jp-layout-color0);  color: var(--jp-cell-editor-border-color);}\n",
       ".datatable .na {  color: var(--jp-cell-editor-border-color);  font-size: 80%;}\n",
       ".datatable .footer { font-size: 9px; }\n",
       ".datatable .frame_dimensions {  background: var(--jp-border-color3);  border-top: 1px solid var(--jp-border-color0);  color: var(--jp-ui-font-color3);  display: inline-block;  opacity: 0.6;  padding: 1px 10px 1px 5px;}\n",
       "</style>\n"
      ],
      "text/plain": [
       "<IPython.core.display.HTML object>"
      ]
     },
     "metadata": {},
     "output_type": "display_data"
    }
   ],
   "source": [
    "from datatable import (dt, f, by, ifelse, update, sort,\n",
    "                       count, min, max, mean, sum, rowsum)\n",
    "import pandas as pd\n",
    "import numpy as np\n",
    "import datetime\n",
    " \n",
    "from pathlib import Path\n",
    "import os\n",
    "\n",
    "import classes"
   ]
  },
  {
   "cell_type": "code",
   "execution_count": 2,
   "metadata": {},
   "outputs": [
    {
     "data": {
      "text/plain": [
       "{'Event': ['_end_date',\n",
       "  '_event_type',\n",
       "  '_p_id',\n",
       "  '_event_value',\n",
       "  '_health_dep',\n",
       "  '_patient_id',\n",
       "  '_start_date',\n",
       "  '_age',\n",
       "  '_gender'],\n",
       " 'Vs': ['_end_date',\n",
       "  '_event_type',\n",
       "  '_p_id',\n",
       "  '_event_value',\n",
       "  '_health_dep',\n",
       "  '_patient_id',\n",
       "  '_hour',\n",
       "  '_start_date',\n",
       "  '_age',\n",
       "  '_gender',\n",
       "  '_vs_name'],\n",
       " 'Diagnosis': ['_end_date',\n",
       "  '_event_type',\n",
       "  '_p_id',\n",
       "  '_desc',\n",
       "  '_event_value',\n",
       "  '_health_dep',\n",
       "  '_patient_id',\n",
       "  '_start_date',\n",
       "  '_age',\n",
       "  '_gender'],\n",
       " 'Procedure': ['_end_date',\n",
       "  '_event_type',\n",
       "  '_p_id',\n",
       "  '_desc',\n",
       "  '_event_value',\n",
       "  '_health_dep',\n",
       "  '_patient_id',\n",
       "  '_start_date',\n",
       "  '_age',\n",
       "  '_gender'],\n",
       " 'Medication': ['_dose',\n",
       "  '_end_date',\n",
       "  '_event_type',\n",
       "  '_age',\n",
       "  '_p_id',\n",
       "  '_event_value',\n",
       "  '_health_dep',\n",
       "  '_freq',\n",
       "  '_patient_id',\n",
       "  '_atc',\n",
       "  '_start_date',\n",
       "  '_route',\n",
       "  '_unit',\n",
       "  '_gender'],\n",
       " 'Oxigen': ['_end_date',\n",
       "  '_age',\n",
       "  '_event_type',\n",
       "  '_p_id',\n",
       "  '_event_value',\n",
       "  '_health_dep',\n",
       "  '_patient_id',\n",
       "  '_start_date',\n",
       "  '_method',\n",
       "  '_gender'],\n",
       " 'Lab': ['_end_date',\n",
       "  '_age',\n",
       "  '_event_type',\n",
       "  '_norm_value',\n",
       "  '_p_id',\n",
       "  '_event_value',\n",
       "  '_health_dep',\n",
       "  '_patient_id',\n",
       "  '_start_date',\n",
       "  '_limits',\n",
       "  '_test_name',\n",
       "  '_unit',\n",
       "  '_gender'],\n",
       " 'Report': ['_end_date',\n",
       "  '_event_type',\n",
       "  '_p_id',\n",
       "  '_event_value',\n",
       "  '_health_dep',\n",
       "  '_patient_id',\n",
       "  '_start_date',\n",
       "  '_age',\n",
       "  '_gender'],\n",
       " 'Image': ['_end_date',\n",
       "  '_event_type',\n",
       "  '_p_id',\n",
       "  '_event_value',\n",
       "  '_health_dep',\n",
       "  '_patient_id',\n",
       "  '_start_date',\n",
       "  '_label_locs',\n",
       "  '_age',\n",
       "  '_cui_list',\n",
       "  '_gender'],\n",
       " 'Scale': ['_end_date',\n",
       "  '_event_type',\n",
       "  '_scale_name',\n",
       "  '_p_id',\n",
       "  '_event_value',\n",
       "  '_health_dep',\n",
       "  '_patient_id',\n",
       "  '_start_date',\n",
       "  '_age',\n",
       "  '_gender'],\n",
       " 'Patient': ['_age', '_patient_id', '_gender']}"
      ]
     },
     "execution_count": 2,
     "metadata": {},
     "output_type": "execute_result"
    }
   ],
   "source": [
    "#build classes and attribute dictionary to interrogate bigTable\n",
    "classes_field_dict = {}\n",
    "for k, v in classes.__dict__.items(): \n",
    "    if  ('classes.' in str(v)) and (str(k).startswith('__') == False):\n",
    "        classes_field_dict[k] = [f'_{att}' for att in v.__dict__.keys() if \n",
    "                                 str(att).startswith('__') == False\n",
    "                                and type(v.__dict__[att]) == property\n",
    "                                and str(att) != 'events' ]\n",
    "        if (str(k) in ['Event', 'Patient']) == False:\n",
    "            classes_field_dict[k].extend(classes_field_dict['Event'])\n",
    "        \n",
    "        if (str(k) in ['Patient']) == False:\n",
    "            classes_field_dict[k].extend(['_patient_id', '_p_id', '_age', '_gender'])\n",
    "        classes_field_dict[k] = list(set(classes_field_dict[k]))\n",
    "    \n",
    "classes_field_dict"
   ]
  },
  {
   "cell_type": "code",
   "execution_count": 3,
   "metadata": {},
   "outputs": [
    {
     "data": {
      "text/plain": [
       "'out_EDA/csv'"
      ]
     },
     "execution_count": 3,
     "metadata": {},
     "output_type": "execute_result"
    }
   ],
   "source": [
    "csv_dir = Path('out_EDA/csv')\n",
    "if not os.path.exists(csv_dir):\n",
    "    os.makedirs(csv_dir)\n",
    "\n",
    "str(csv_dir)"
   ]
  },
  {
   "cell_type": "code",
   "execution_count": 4,
   "metadata": {},
   "outputs": [],
   "source": [
    "DT = dt.Frame(\"out_EDA/bigTable.jay\")\n",
    "#dt.unique(DT[:,f._event_type]).to_csv('event_types.csv')\n",
    "event_types_classes = dt.Frame(\"event_types_classes.csv\")\n"
   ]
  },
  {
   "cell_type": "code",
   "execution_count": 5,
   "metadata": {},
   "outputs": [],
   "source": [
    "df = DT.to_pandas()\n",
    "df._start_date = pd.to_datetime(df._start_date) "
   ]
  },
  {
   "cell_type": "code",
   "execution_count": 6,
   "metadata": {},
   "outputs": [],
   "source": [
    "df._end_date = pd.to_datetime(df._end_date, errors = 'ignore') "
   ]
  },
  {
   "cell_type": "code",
   "execution_count": 7,
   "metadata": {},
   "outputs": [],
   "source": [
    "df['_p_id'] = None\n",
    "patients_df = df[classes_field_dict['Patient']].drop_duplicates().reset_index()"
   ]
  },
  {
   "cell_type": "code",
   "execution_count": 8,
   "metadata": {},
   "outputs": [],
   "source": [
    "#profile each class\n",
    "profile = False\n",
    "if profile:\n",
    "    from pandas_profiling import ProfileReport\n",
    "    profile = ProfileReport(patients_df,  pool_size = 32)            \n",
    "    profile.to_file(f'out_EDA/Patient.html')\n",
    "\n",
    "    #profile = ProfileReport(df, minimal=True, pool_size = 32)\n",
    "    for i,r in event_types_classes.to_pandas().iterrows():\n",
    "        event_type = r._event_type\n",
    "        fields = classes_field_dict[r['class']]\n",
    "        print(event_type, fields)\n",
    "        df_ = DT[(f._event_type == event_type),fields].to_pandas()\n",
    "        print(f'Starting to profile: {event_type} size {df.shape}')\n",
    "        try:\n",
    "            profile = ProfileReport(df_,  pool_size = 32)\n",
    "            profile.to_file(f'out_EDA/{event_type}.html')\n",
    "        except: \n",
    "            print(f'skipped {event_type}')\n",
    "   "
   ]
  },
  {
   "cell_type": "code",
   "execution_count": 9,
   "metadata": {},
   "outputs": [],
   "source": [
    "patients_df['_p_id'] = patients_df.index\n",
    "p_dict = patients_df[[ '_patient_id', '_p_id']].set_index('_patient_id').to_dict()['_p_id']\n"
   ]
  },
  {
   "cell_type": "code",
   "execution_count": 10,
   "metadata": {},
   "outputs": [],
   "source": [
    "#compress patient id to int in field _p_id\n",
    "def f(x):\n",
    "    i = p_dict[x]\n",
    "    \n",
    "    return i\n",
    "\n",
    "df['_p_id'] = df._patient_id.apply(lambda x: f(x))\n"
   ]
  },
  {
   "cell_type": "code",
   "execution_count": 11,
   "metadata": {},
   "outputs": [],
   "source": [
    "#load events of different types in a dictionary of df (df_dict)\n",
    "df_dict = {}\n",
    "for i,r in event_types_classes.to_pandas().iterrows():\n",
    "        event_type = r._event_type\n",
    "        fields = classes_field_dict[r['class']]\n",
    "        df_dict[event_type] = df.loc[df._event_type == event_type, fields]"
   ]
  },
  {
   "cell_type": "code",
   "execution_count": 12,
   "metadata": {},
   "outputs": [
    {
     "data": {
      "text/plain": [
       "dict_keys(['Diagnosis', 'Fluid', 'Lab', 'Lab Sars-cov-2', 'Medication', 'Oxigen', 'Procedure', 'Scale', 'State Admission', 'State Bed', 'State Discharge', 'Text 1DX', 'Text 2DX', 'Text CX', 'Text Discharge', 'Text EV', 'Text MH', 'Text PE', 'Text PLAN', 'Text PX', 'Text QX', 'Text RE', 'Text TX', 'Text sDX', 'VS', \"['CR'] ['CHEST']\", \"['CR'] ['Pecho']\", \"['CR'] ['SKULL']\", \"['CR'] ['THORAX']\", \"['CR'] nan\", \"['CT'] ['ABDOMEN']\", \"['CT'] ['CHEST']\", \"['CT'] ['T A C A R']\", \"['CT'] ['TAP']\", \"['CT'] ['TEP']\", \"['CT'] ['TOR ABD PELVICO']\", \"['CT'] ['TORAX']\", \"['CT'] ['TXABDOMENPELVIS']\", \"['CT'] ['TXABDPELV']\", \"['CT'] ['TXABDPELVIS']\", \"['CT'] nan\", \"['DX'] ['ABDOMEN']\", \"['DX'] ['CHEST']\", \"['DX'] ['FOOT']\", \"['DX'] ['PELVIS']\", \"['DX'] ['PORT CHEST']\", \"['DX'] ['RIB']\", \"['DX'] ['T?RAX']\", \"['DX'] ['THORAX']\", \"['DX'] ['TORAX']\", \"['DX'] ['TÒRAX']\"])"
      ]
     },
     "execution_count": 12,
     "metadata": {},
     "output_type": "execute_result"
    }
   ],
   "source": [
    "df_dict.keys()"
   ]
  },
  {
   "cell_type": "code",
   "execution_count": 13,
   "metadata": {},
   "outputs": [],
   "source": [
    "dx = pd.DataFrame(df_dict['Diagnosis'][['_event_value', '_desc']].value_counts())\n",
    "dx.to_csv('Terminology/icd_dx_counts.tsv')"
   ]
  },
  {
   "cell_type": "code",
   "execution_count": 14,
   "metadata": {},
   "outputs": [],
   "source": [
    "covid_rel_dx = pd.read_csv('Terminology/icd_covid_dx_counts.csv') #after manual selection of covid related dx\n",
    "\n",
    "l_covid_dx = covid_rel_dx[covid_rel_dx.covid_related_clinic_dx == 'x']._event_value.values\n"
   ]
  },
  {
   "cell_type": "code",
   "execution_count": 15,
   "metadata": {},
   "outputs": [],
   "source": [
    "l_covid_image = ['C0277877', 'C2073538', 'C3544344', 'C2073672','C2073583', 'C1332240', \n",
    "                   'C0521530', 'C3669021', 'C3669021', \n",
    "                   'C1443940', 'C0032285', 'C1412002', 'C0032310', 'C5203670', 'C5203671']"
   ]
  },
  {
   "cell_type": "code",
   "execution_count": 16,
   "metadata": {},
   "outputs": [
    {
     "data": {
      "text/plain": [
       "array(['POSITIVO', 'NEGATIVO', 'INDETERMINADO'], dtype=object)"
      ]
     },
     "execution_count": 16,
     "metadata": {},
     "output_type": "execute_result"
    }
   ],
   "source": [
    "cov_df =  df_dict['Lab Sars-cov-2']\n",
    "cov_df[cov_df._test_name== 'PCR']._event_value.unique()"
   ]
  },
  {
   "cell_type": "code",
   "execution_count": 17,
   "metadata": {},
   "outputs": [],
   "source": [
    "image_event_types = [\"['CR'] ['CHEST']\", \"['CR'] ['Pecho']\", \"['CR'] ['SKULL']\", \"['CR'] ['THORAX']\", \"['CR'] nan\", \"['CT'] ['ABDOMEN']\", \"['CT'] ['CHEST']\", \"['CT'] ['T A C A R']\", \"['CT'] ['TAP']\", \"['CT'] ['TEP']\", \"['CT'] ['TOR ABD PELVICO']\", \"['CT'] ['TORAX']\", \"['CT'] ['TXABDOMENPELVIS']\", \"['CT'] ['TXABDPELV']\", \"['CT'] ['TXABDPELVIS']\", \"['CT'] nan\", \"['DX'] ['ABDOMEN']\", \"['DX'] ['CHEST']\", \"['DX'] ['FOOT']\", \"['DX'] ['PELVIS']\", \"['DX'] ['PORT CHEST']\", \"['DX'] ['RIB']\", \"['DX'] ['T?RAX']\", \"['DX'] ['THORAX']\", \"['DX'] ['TORAX']\", \"['DX'] ['TÒRAX']\"]"
   ]
  },
  {
   "cell_type": "code",
   "execution_count": 18,
   "metadata": {},
   "outputs": [],
   "source": [
    "\n",
    "def covid_cui(x):\n",
    "    if not pd.isna(x): \n",
    "        x = x.replace('[','').replace(']','').split(',')\n",
    "        covid_cuis = [str(cui)  for cui in x if cui in l_covid_image]\n",
    "        result = covid_cuis if len(covid_cuis) > 0 else False\n",
    "        \n",
    "    return result\n",
    "df['covid_image'] = False\n",
    "df.loc[df._event_type.isin(image_event_types),['covid_image']] = df[df._event_type.isin(image_event_types)]._cui_list.apply(lambda x: covid_cui(x))\n"
   ]
  },
  {
   "cell_type": "code",
   "execution_count": 19,
   "metadata": {},
   "outputs": [
    {
     "data": {
      "text/plain": [
       "array(['Éxitus', 'Equipo atención primaria',\n",
       "       'Traslado Residencia o Centro Socio-Sanitario asistido',\n",
       "       'Consultas externas', 'Traslado Hospital de agudos', 'Domicilio',\n",
       "       'Otros', 'Unidad de Hospitalización a domicilio',\n",
       "       'Traslado Hospital Media larga estancia', 'Hospital de Día',\n",
       "       'Alta voluntaria', 'Fuga', 'In extremis'], dtype=object)"
      ]
     },
     "execution_count": 19,
     "metadata": {},
     "output_type": "execute_result"
    }
   ],
   "source": [
    "x = df\n",
    "discharge = x[((x._event_type == 'State Discharge') )]._event_value\n",
    "discharge.unique()"
   ]
  },
  {
   "cell_type": "code",
   "execution_count": 20,
   "metadata": {},
   "outputs": [
    {
     "name": "stdout",
     "output_type": "stream",
     "text": [
      "Mascarilla\n",
      "50.0     133\n",
      "35.0     113\n",
      "40.0      96\n",
      "30.0      85\n",
      "28.0      80\n",
      "24.0      36\n",
      "21.0      14\n",
      "100.0      6\n",
      "Name: _event_value, dtype: int64\n",
      "Gafas nasales\n",
      "nan      2315\n",
      "24.0       90\n",
      "28.0       73\n",
      "21.0       54\n",
      "50.0       36\n",
      "30.0       22\n",
      "100.0      18\n",
      "40.0       17\n",
      "35.0        8\n",
      "Name: _event_value, dtype: int64\n",
      "Mascarilla con reservorio\n",
      "nan      57\n",
      "100.0    32\n",
      "50.0     24\n",
      "35.0      4\n",
      "28.0      2\n",
      "40.0      1\n",
      "Name: _event_value, dtype: int64\n",
      "nan\n",
      "Series([], Name: _event_value, dtype: int64)\n",
      "nan\n",
      "50.0     19\n",
      "24.0     15\n",
      "21.0     11\n",
      "100.0    10\n",
      "30.0      5\n",
      "35.0      3\n",
      "40.0      1\n",
      "28.0      1\n",
      "Name: _event_value, dtype: int64\n",
      "Cánula transtraqueal\n",
      "24.0    5\n",
      "28.0    3\n",
      "30.0    1\n",
      "50.0    1\n",
      "Name: _event_value, dtype: int64\n"
     ]
    }
   ],
   "source": [
    "\n",
    "ox = x[(x._event_type == 'Oxigen')]._method\n",
    "for m in ox.unique():\n",
    "    print(m)\n",
    "    print(x[(x._event_type == 'Oxigen') & (x._method == m)]._event_value.value_counts())\n"
   ]
  },
  {
   "cell_type": "code",
   "execution_count": 21,
   "metadata": {},
   "outputs": [
    {
     "data": {
      "text/plain": [
       "{'C0740087': ['oxygen nasal cannula', 'gafas nasales', 'gafas'],\n",
       " 'C0181744': ['oxygen mask', 'mascarilla simple', 'mascarilla'],\n",
       " 'C1960097': ['high flow oxygen nasal cannula', 'canulas nasales alto flujo '],\n",
       " 'C0181748': ['venturi oxygen face mask',\n",
       "  'mascarilla tipo venturi',\n",
       "  'vmx',\n",
       "  'ventimask',\n",
       "  'masc. o2 vmk'],\n",
       " 'C0180824': ['face tent oxygen delivery device'],\n",
       " 'C0182123': ['oxygen concentrator (device)',\n",
       "  'concentrador de oxigeno',\n",
       "  'mascara reservorio',\n",
       "  'mascarilla con reservorio',\n",
       "  'reservorio',\n",
       "  'masc. o2 reservorio'],\n",
       " 'C1960094': ['oxygen ventilator', 'ventilacion mecanica', 'vm', 'respirador'],\n",
       " 'C0419003': ['mechanically assisted spontaneous ventilation',\n",
       "  'cpap',\n",
       "  'bipap'],\n",
       " 'C0021925': ['intubation (procedure)',\n",
       "  'intubacion',\n",
       "  'ventilacion mecanica invasiva',\n",
       "  'iot'],\n",
       " 'C0877798': ['transtracheal oxygen catheter',\n",
       "  'intubación transtraqueal',\n",
       "  'ventilacion mecanica invasiva transtraqueal',\n",
       "  'canula transtraqueal'],\n",
       " 'C0015357': ['extracorporeal membrane oxygenation',\n",
       "  'ecmo',\n",
       "  'ventilacion mecanica extracorporea']}"
      ]
     },
     "execution_count": 21,
     "metadata": {},
     "output_type": "execute_result"
    }
   ],
   "source": [
    "oxygen_dic = pd.read_csv('Terminology/umls_oxygen_techniques.tsv', index_col = 0, header = None).to_dict('index')\n",
    "oxygen_dic_rev = {sk : k.split('\\t')[0] for k in oxygen_dic.keys() for sk in k.lower().split('\\t')[1:] }\n",
    "\n",
    "oxygen_dic = { k.split('\\t')[0]:  k.lower().split('\\t')[1:] for k in oxygen_dic.keys()  }\n",
    "oxygen_dic"
   ]
  },
  {
   "cell_type": "code",
   "execution_count": 22,
   "metadata": {},
   "outputs": [],
   "source": [
    "oxigen_low = ['C0740087', 'C0181744']\n",
    "oxigen_high = ['C1960097', 'C0180824', 'C0182123', 'C1960094', 'C0419003', 'C0021925', 'C0877798', 'C0015357'] #note: non-invasive mechanical ventilation (C0419003) is included as high flow as a simplification to help with 'who' outcome scale calculations, VMX is excluded (it requires fiO2 > 50% to be considered high flow device)\n",
    "oxigen_pot_high = ['C1960097', 'C0181748' , 'C0180824', 'C0182123', 'C1960094', 'C0419003', 'C0021925', 'C0877798', 'C0015357'] #note: non-invasive mechanical ventilation (C0419003) is included as high flow as a simplification to help with 'who' outcome scale calculations "
   ]
  },
  {
   "cell_type": "code",
   "execution_count": 23,
   "metadata": {},
   "outputs": [],
   "source": [
    "df['oxigen_method'] = np.nan"
   ]
  },
  {
   "cell_type": "code",
   "execution_count": 24,
   "metadata": {},
   "outputs": [
    {
     "data": {
      "text/plain": [
       "C0740087    2633\n",
       "C0181744     563\n",
       "C0182123     120\n",
       "Name: oxigen_method, dtype: int64"
      ]
     },
     "execution_count": 24,
     "metadata": {},
     "output_type": "execute_result"
    }
   ],
   "source": [
    "import unidecode\n",
    "df.loc[df._event_type== 'Oxigen',['oxigen_method']] = df[df._event_type== 'Oxigen']._method.apply(lambda x: oxygen_dic_rev[unidecode.unidecode(str(x)).lower()] if str(x).lower() in oxygen_dic_rev else np.nan )\n",
    "df.oxigen_method.value_counts()"
   ]
  },
  {
   "cell_type": "code",
   "execution_count": 25,
   "metadata": {},
   "outputs": [
    {
     "name": "stderr",
     "output_type": "stream",
     "text": [
      "/home/auri/anaconda3/envs/nlpMED/lib/python3.7/site-packages/pandas/core/strings.py:2001: UserWarning: This pattern has match groups. To actually get the groups, use str.extract.\n",
      "  return func(self, *args, **kwargs)\n"
     ]
    },
    {
     "data": {
      "text/plain": [
       "C0740087    4433\n",
       "C0181748     832\n",
       "C0181744     563\n",
       "C0182123     394\n",
       "C0419003       7\n",
       "Name: oxigen_method, dtype: int64"
      ]
     },
     "execution_count": 25,
     "metadata": {},
     "output_type": "execute_result"
    }
   ],
   "source": [
    "df.loc[(df._event_type== 'VS')  & (x._vs_name.str.lower().str.contains(\n",
    "    '(metodo de administra|tipo oxigeno|oxigenoterapia|o2 suplem)', regex = True)),['oxigen_method']] = df[\n",
    "    (df._event_type== 'VS')  & (x._vs_name.str.lower().str.contains(\n",
    "    '(metodo de administra|tipo oxigeno|oxigenoterapia|o2 suplem)', regex = True))]._event_value.apply(lambda x: oxygen_dic_rev[unidecode.unidecode(str(x)).lower()] if str(x).lower() in oxygen_dic_rev else np.nan  )\n",
    "df.oxigen_method.value_counts()"
   ]
  },
  {
   "cell_type": "code",
   "execution_count": 26,
   "metadata": {},
   "outputs": [
    {
     "name": "stdout",
     "output_type": "stream",
     "text": [
      "Volumen de oxigeno\n",
      "2.0      7091\n",
      "3.0      3732\n",
      "1.0      2809\n",
      "4.0      2618\n",
      "15.0     2220\n",
      "6.0      1136\n",
      "8.0       972\n",
      "1.5       930\n",
      "10.0      692\n",
      "5.0       567\n",
      "2.5       383\n",
      "12.0      358\n",
      "0.5       335\n",
      "3.5       169\n",
      "50.0      136\n",
      "7.0       103\n",
      "9.0        87\n",
      "nan        81\n",
      "40.0       58\n",
      "28.0       43\n",
      "30.0       42\n",
      "35.0       37\n",
      "25.0       26\n",
      "45.0       24\n",
      "11.0       21\n",
      "24.0       15\n",
      "32.0       15\n",
      "0.0        15\n",
      "13.0       15\n",
      "4.5        14\n",
      "31.0       13\n",
      "20.0       13\n",
      "36.0       13\n",
      "14.0        9\n",
      "16.0        6\n",
      "7.5         5\n",
      "100.0       2\n",
      "21.0        2\n",
      "0.25        2\n",
      "39.0        1\n",
      "75.0        1\n",
      "34.0        1\n",
      "33.0        1\n",
      "5.5         1\n",
      "36.2        1\n",
      "17.0        1\n",
      "3.4         1\n",
      "44.0        1\n",
      "8.5         1\n",
      "95.0        1\n",
      "98.0        1\n",
      "48.0        1\n",
      "0.1         1\n",
      "Name: _event_value, dtype: int64\n",
      "Saturacion O2\n",
      "97.0    16013\n",
      "96.0    15683\n",
      "98.0    15571\n",
      "95.0    12467\n",
      "94.0     9145\n",
      "        ...  \n",
      "29.0        1\n",
      "33.8        1\n",
      "35.5        1\n",
      "38.6        1\n",
      "48.0        1\n",
      "Name: _event_value, Length: 105, dtype: int64\n",
      "Oxigeno\n",
      "Con OxYgeno     23860\n",
      "Sin OxYgeno     21067\n",
      "Con Ox+!geno     9501\n",
      "Sin Ox+!geno     6905\n",
      "nan                73\n",
      "Sin Oxigeno         2\n",
      "Name: _event_value, dtype: int64\n",
      "Metodo de administracion de Oxigeno\n",
      "Gafas         316\n",
      "Ventimask     194\n",
      "Reservorio    131\n",
      "BIPAP           6\n",
      "CPAP            1\n",
      "Filtamask       1\n",
      "Name: _event_value, dtype: int64\n",
      "O2 Suplementario\n",
      "SI     1363\n",
      "NO      606\n",
      "nan       3\n",
      "Name: _event_value, dtype: int64\n",
      "FiO2 (%)\n",
      "50.0    180\n",
      "40.0     99\n",
      "35.0     77\n",
      "31.0     55\n",
      "45.0     41\n",
      "28.0     25\n",
      "26.0      5\n",
      "32.0      4\n",
      "49.0      3\n",
      "42.0      3\n",
      "24.0      3\n",
      "36.0      3\n",
      "nan       2\n",
      "37.0      2\n",
      "30.0      2\n",
      "39.0      2\n",
      "34.0      1\n",
      "44.0      1\n",
      "41.0      1\n",
      "25.0      1\n",
      "33.0      1\n",
      "38.0      1\n",
      "Name: _event_value, dtype: int64\n",
      "Tipo Oxigeno\n",
      "Gafas Nasales    1448\n",
      "Ventimask         626\n",
      "Reservorio        141\n",
      "nan                11\n",
      "Name: _event_value, dtype: int64\n",
      "Vol. O2 VMNI\n",
      "40.0    1\n",
      "Name: _event_value, dtype: int64\n",
      "Sat O2 (pie)\n",
      "95.0    1\n",
      "97.0    1\n",
      "Name: _event_value, dtype: int64\n",
      "Escala Alerta O2 suplementario\n",
      "SI     346\n",
      "NO     255\n",
      "nan      1\n",
      "Name: _event_value, dtype: int64\n",
      "Oxigenoterapia\n",
      "Gafas nasales          36\n",
      "Masc. O2 VMK           12\n",
      "Masc. O2 reservorio     2\n",
      "Name: _event_value, dtype: int64\n",
      "Relacion presion arterial O2 y FiO2\n",
      "360.0    2\n",
      "372.0    1\n",
      "431.0    1\n",
      "Name: _event_value, dtype: int64\n",
      "Relacion SatO2 y FiO2\n",
      "452.0    2\n",
      "462.0    1\n",
      "350.0    1\n",
      "Name: _event_value, dtype: int64\n",
      "Fraccion inspiratoria O2\n",
      "21.0    2\n",
      "28.0    1\n",
      "Name: _event_value, dtype: int64\n",
      "VolO2\n",
      "2.0     7\n",
      "3.0     3\n",
      "12.0    1\n",
      "Name: _event_value, dtype: int64\n",
      "O2 suplem.\n",
      "GN     14\n",
      "VMK     1\n",
      "Name: _event_value, dtype: int64\n"
     ]
    }
   ],
   "source": [
    "\n",
    "ox_vs = x[((x._event_type == 'VS')  & (x._vs_name.str.lower().str.contains(\n",
    "    '(o2|oxig)', regex = True)))]._vs_name\n",
    "for o in ox_vs.unique():\n",
    "    print(o)\n",
    "    print(x[((x._event_type == 'VS')  & (x._vs_name == o))]._event_value.value_counts())"
   ]
  },
  {
   "cell_type": "code",
   "execution_count": 27,
   "metadata": {},
   "outputs": [
    {
     "data": {
      "text/plain": [
       "count    1149.000000\n",
       "mean       37.994778\n",
       "std        18.741548\n",
       "min        21.000000\n",
       "25%        28.000000\n",
       "50%        30.000000\n",
       "75%        50.000000\n",
       "max       100.000000\n",
       "Name: fiO2, dtype: float64"
      ]
     },
     "execution_count": 27,
     "metadata": {},
     "output_type": "execute_result"
    }
   ],
   "source": [
    "df['fiO2'] = np.nan\n",
    "df.loc[df._event_type== 'Oxigen',['fiO2']] = df[df._event_type== 'Oxigen']._event_value.apply(lambda x: float(x))\n",
    "df.fiO2.describe()"
   ]
  },
  {
   "cell_type": "code",
   "execution_count": 28,
   "metadata": {},
   "outputs": [
    {
     "data": {
      "text/plain": [
       "count    25891.000000\n",
       "mean        38.477123\n",
       "std         16.517411\n",
       "min         21.000000\n",
       "25%         29.000000\n",
       "50%         33.000000\n",
       "75%         41.000000\n",
       "max        101.000000\n",
       "Name: fiO2, dtype: float64"
      ]
     },
     "execution_count": 28,
     "metadata": {},
     "output_type": "execute_result"
    }
   ],
   "source": [
    "df.loc[(df._event_type== 'VS')& (df._vs_name == 'Volumen de oxigeno'),['fiO2']] = df[(df._event_type== 'VS')& (df._vs_name == 'Volumen de oxigeno')]._event_value.apply(lambda x: 21 + (float(x) * 4) if float(x) <21 else float(x))\n",
    "df.fiO2.describe() #fiO2 should be >= 21% - 100%"
   ]
  },
  {
   "cell_type": "code",
   "execution_count": 29,
   "metadata": {},
   "outputs": [
    {
     "data": {
      "text/plain": [
       "count    53865.000000\n",
       "mean        29.400635\n",
       "std         14.400844\n",
       "min         21.000000\n",
       "25%         21.000000\n",
       "50%         21.000000\n",
       "75%         33.000000\n",
       "max        101.000000\n",
       "Name: fiO2, dtype: float64"
      ]
     },
     "execution_count": 29,
     "metadata": {},
     "output_type": "execute_result"
    }
   ],
   "source": [
    "df.loc[(df._event_type== 'VS')& (df._vs_name == 'Oxigeno'),['fiO2']] = df[(df._event_type== 'VS')& (df._vs_name == 'Oxigeno')]._event_value.apply(lambda x: 21 if str(x).startswith('Sin ') else np.nan )\n",
    "df.fiO2.describe() #if patient is reported as \"Sin Oxigeno\"  then FiO2 = 21%"
   ]
  },
  {
   "cell_type": "code",
   "execution_count": 30,
   "metadata": {},
   "outputs": [
    {
     "data": {
      "text/plain": [
       "count    54471.000000\n",
       "mean        29.307176\n",
       "std         14.347594\n",
       "min         21.000000\n",
       "25%         21.000000\n",
       "50%         21.000000\n",
       "75%         31.000000\n",
       "max        101.000000\n",
       "Name: fiO2, dtype: float64"
      ]
     },
     "execution_count": 30,
     "metadata": {},
     "output_type": "execute_result"
    }
   ],
   "source": [
    "df.loc[(df._event_type== 'VS')& (df._vs_name == 'O2 Suplementario'),['fiO2']] = df[(df._event_type== 'VS')& (df._vs_name == 'O2 Suplementario')]._event_value.apply(lambda x: 21 if str(x) == 'NO' else np.nan )\n",
    "df.fiO2.describe() #if patient is reported as \"No\" in \"O2 Suplementario\" then FiO2 = 21%"
   ]
  },
  {
   "cell_type": "code",
   "execution_count": 31,
   "metadata": {},
   "outputs": [
    {
     "data": {
      "text/plain": [
       "count    54981.000000\n",
       "mean        29.418057\n",
       "std         14.346494\n",
       "min         21.000000\n",
       "25%         21.000000\n",
       "50%         21.000000\n",
       "75%         33.000000\n",
       "max        101.000000\n",
       "Name: fiO2, dtype: float64"
      ]
     },
     "execution_count": 31,
     "metadata": {},
     "output_type": "execute_result"
    }
   ],
   "source": [
    "df.loc[(df._event_type== 'VS')& (df._vs_name.str.startswith('FiO2')),['fiO2']] = df[(df._event_type== 'VS')&(df._vs_name.str.startswith('FiO2'))]._event_value.apply(lambda x: float(x) if float(x) else np.nan)  \n",
    "df.fiO2.describe() #add reported FiO2"
   ]
  },
  {
   "cell_type": "code",
   "execution_count": 32,
   "metadata": {},
   "outputs": [
    {
     "data": {
      "text/plain": [
       "3650"
      ]
     },
     "execution_count": 32,
     "metadata": {},
     "output_type": "execute_result"
    }
   ],
   "source": [
    "df[pd.isna(df.fiO2) == False]._p_id.nunique()"
   ]
  },
  {
   "cell_type": "code",
   "execution_count": 33,
   "metadata": {},
   "outputs": [
    {
     "data": {
      "text/plain": [
       "1409"
      ]
     },
     "execution_count": 33,
     "metadata": {},
     "output_type": "execute_result"
    }
   ],
   "source": [
    "df[pd.isna(df.oxigen_method) == False]._p_id.nunique()"
   ]
  },
  {
   "cell_type": "code",
   "execution_count": 34,
   "metadata": {},
   "outputs": [
    {
     "data": {
      "text/html": [
       "<div>\n",
       "<style scoped>\n",
       "    .dataframe tbody tr th:only-of-type {\n",
       "        vertical-align: middle;\n",
       "    }\n",
       "\n",
       "    .dataframe tbody tr th {\n",
       "        vertical-align: top;\n",
       "    }\n",
       "\n",
       "    .dataframe thead th {\n",
       "        text-align: right;\n",
       "    }\n",
       "</style>\n",
       "<table border=\"1\" class=\"dataframe\">\n",
       "  <thead>\n",
       "    <tr style=\"text-align: right;\">\n",
       "      <th></th>\n",
       "      <th>_start_date</th>\n",
       "      <th>_end_date</th>\n",
       "      <th>_event_type</th>\n",
       "      <th>_event_value</th>\n",
       "      <th>_test_name</th>\n",
       "      <th>_unit</th>\n",
       "      <th>_limits</th>\n",
       "      <th>_norm_value</th>\n",
       "      <th>_patient_id</th>\n",
       "      <th>_age</th>\n",
       "      <th>...</th>\n",
       "      <th>_dose</th>\n",
       "      <th>_freq</th>\n",
       "      <th>_route</th>\n",
       "      <th>_atc</th>\n",
       "      <th>_desc</th>\n",
       "      <th>_scale_name</th>\n",
       "      <th>_p_id</th>\n",
       "      <th>covid_image</th>\n",
       "      <th>oxigen_method</th>\n",
       "      <th>fiO2</th>\n",
       "    </tr>\n",
       "    <tr>\n",
       "      <th>_health_dep</th>\n",
       "      <th></th>\n",
       "      <th></th>\n",
       "      <th></th>\n",
       "      <th></th>\n",
       "      <th></th>\n",
       "      <th></th>\n",
       "      <th></th>\n",
       "      <th></th>\n",
       "      <th></th>\n",
       "      <th></th>\n",
       "      <th></th>\n",
       "      <th></th>\n",
       "      <th></th>\n",
       "      <th></th>\n",
       "      <th></th>\n",
       "      <th></th>\n",
       "      <th></th>\n",
       "      <th></th>\n",
       "      <th></th>\n",
       "      <th></th>\n",
       "      <th></th>\n",
       "    </tr>\n",
       "  </thead>\n",
       "  <tbody>\n",
       "    <tr>\n",
       "      <th>01</th>\n",
       "      <td>3902</td>\n",
       "      <td>2</td>\n",
       "      <td>3902</td>\n",
       "      <td>3902</td>\n",
       "      <td>0</td>\n",
       "      <td>0</td>\n",
       "      <td>0</td>\n",
       "      <td>0</td>\n",
       "      <td>3902</td>\n",
       "      <td>3902</td>\n",
       "      <td>...</td>\n",
       "      <td>0</td>\n",
       "      <td>0</td>\n",
       "      <td>0</td>\n",
       "      <td>0</td>\n",
       "      <td>0</td>\n",
       "      <td>0</td>\n",
       "      <td>3902</td>\n",
       "      <td>3902</td>\n",
       "      <td>5</td>\n",
       "      <td>3902</td>\n",
       "    </tr>\n",
       "    <tr>\n",
       "      <th>02</th>\n",
       "      <td>9051</td>\n",
       "      <td>288</td>\n",
       "      <td>9051</td>\n",
       "      <td>9051</td>\n",
       "      <td>0</td>\n",
       "      <td>0</td>\n",
       "      <td>0</td>\n",
       "      <td>0</td>\n",
       "      <td>9051</td>\n",
       "      <td>9051</td>\n",
       "      <td>...</td>\n",
       "      <td>0</td>\n",
       "      <td>0</td>\n",
       "      <td>0</td>\n",
       "      <td>0</td>\n",
       "      <td>0</td>\n",
       "      <td>0</td>\n",
       "      <td>9051</td>\n",
       "      <td>9051</td>\n",
       "      <td>362</td>\n",
       "      <td>9051</td>\n",
       "    </tr>\n",
       "    <tr>\n",
       "      <th>05</th>\n",
       "      <td>17117</td>\n",
       "      <td>0</td>\n",
       "      <td>17117</td>\n",
       "      <td>17117</td>\n",
       "      <td>0</td>\n",
       "      <td>0</td>\n",
       "      <td>0</td>\n",
       "      <td>0</td>\n",
       "      <td>17117</td>\n",
       "      <td>17117</td>\n",
       "      <td>...</td>\n",
       "      <td>0</td>\n",
       "      <td>0</td>\n",
       "      <td>0</td>\n",
       "      <td>0</td>\n",
       "      <td>0</td>\n",
       "      <td>0</td>\n",
       "      <td>17117</td>\n",
       "      <td>17117</td>\n",
       "      <td>9</td>\n",
       "      <td>17117</td>\n",
       "    </tr>\n",
       "    <tr>\n",
       "      <th>06</th>\n",
       "      <td>2853</td>\n",
       "      <td>97</td>\n",
       "      <td>2853</td>\n",
       "      <td>2853</td>\n",
       "      <td>0</td>\n",
       "      <td>0</td>\n",
       "      <td>0</td>\n",
       "      <td>0</td>\n",
       "      <td>2853</td>\n",
       "      <td>2853</td>\n",
       "      <td>...</td>\n",
       "      <td>0</td>\n",
       "      <td>0</td>\n",
       "      <td>0</td>\n",
       "      <td>0</td>\n",
       "      <td>0</td>\n",
       "      <td>0</td>\n",
       "      <td>2853</td>\n",
       "      <td>2853</td>\n",
       "      <td>145</td>\n",
       "      <td>2853</td>\n",
       "    </tr>\n",
       "    <tr>\n",
       "      <th>08</th>\n",
       "      <td>4283</td>\n",
       "      <td>2</td>\n",
       "      <td>4283</td>\n",
       "      <td>4283</td>\n",
       "      <td>0</td>\n",
       "      <td>0</td>\n",
       "      <td>0</td>\n",
       "      <td>0</td>\n",
       "      <td>4283</td>\n",
       "      <td>4283</td>\n",
       "      <td>...</td>\n",
       "      <td>0</td>\n",
       "      <td>0</td>\n",
       "      <td>0</td>\n",
       "      <td>0</td>\n",
       "      <td>0</td>\n",
       "      <td>0</td>\n",
       "      <td>4283</td>\n",
       "      <td>4283</td>\n",
       "      <td>20</td>\n",
       "      <td>4283</td>\n",
       "    </tr>\n",
       "    <tr>\n",
       "      <th>12</th>\n",
       "      <td>757</td>\n",
       "      <td>56</td>\n",
       "      <td>757</td>\n",
       "      <td>757</td>\n",
       "      <td>0</td>\n",
       "      <td>0</td>\n",
       "      <td>0</td>\n",
       "      <td>0</td>\n",
       "      <td>757</td>\n",
       "      <td>757</td>\n",
       "      <td>...</td>\n",
       "      <td>0</td>\n",
       "      <td>0</td>\n",
       "      <td>0</td>\n",
       "      <td>0</td>\n",
       "      <td>0</td>\n",
       "      <td>0</td>\n",
       "      <td>757</td>\n",
       "      <td>757</td>\n",
       "      <td>83</td>\n",
       "      <td>757</td>\n",
       "    </tr>\n",
       "    <tr>\n",
       "      <th>16</th>\n",
       "      <td>14</td>\n",
       "      <td>0</td>\n",
       "      <td>14</td>\n",
       "      <td>14</td>\n",
       "      <td>0</td>\n",
       "      <td>0</td>\n",
       "      <td>0</td>\n",
       "      <td>0</td>\n",
       "      <td>14</td>\n",
       "      <td>14</td>\n",
       "      <td>...</td>\n",
       "      <td>0</td>\n",
       "      <td>0</td>\n",
       "      <td>0</td>\n",
       "      <td>0</td>\n",
       "      <td>0</td>\n",
       "      <td>0</td>\n",
       "      <td>14</td>\n",
       "      <td>14</td>\n",
       "      <td>0</td>\n",
       "      <td>14</td>\n",
       "    </tr>\n",
       "    <tr>\n",
       "      <th>17</th>\n",
       "      <td>2004</td>\n",
       "      <td>199</td>\n",
       "      <td>2004</td>\n",
       "      <td>2004</td>\n",
       "      <td>0</td>\n",
       "      <td>0</td>\n",
       "      <td>0</td>\n",
       "      <td>0</td>\n",
       "      <td>2004</td>\n",
       "      <td>2004</td>\n",
       "      <td>...</td>\n",
       "      <td>0</td>\n",
       "      <td>0</td>\n",
       "      <td>0</td>\n",
       "      <td>0</td>\n",
       "      <td>0</td>\n",
       "      <td>0</td>\n",
       "      <td>2004</td>\n",
       "      <td>2004</td>\n",
       "      <td>268</td>\n",
       "      <td>2004</td>\n",
       "    </tr>\n",
       "    <tr>\n",
       "      <th>18</th>\n",
       "      <td>4393</td>\n",
       "      <td>0</td>\n",
       "      <td>4393</td>\n",
       "      <td>4393</td>\n",
       "      <td>0</td>\n",
       "      <td>0</td>\n",
       "      <td>0</td>\n",
       "      <td>0</td>\n",
       "      <td>4393</td>\n",
       "      <td>4393</td>\n",
       "      <td>...</td>\n",
       "      <td>0</td>\n",
       "      <td>0</td>\n",
       "      <td>0</td>\n",
       "      <td>0</td>\n",
       "      <td>0</td>\n",
       "      <td>0</td>\n",
       "      <td>4393</td>\n",
       "      <td>4393</td>\n",
       "      <td>9</td>\n",
       "      <td>4393</td>\n",
       "    </tr>\n",
       "    <tr>\n",
       "      <th>19</th>\n",
       "      <td>6692</td>\n",
       "      <td>1</td>\n",
       "      <td>6692</td>\n",
       "      <td>6692</td>\n",
       "      <td>0</td>\n",
       "      <td>0</td>\n",
       "      <td>0</td>\n",
       "      <td>0</td>\n",
       "      <td>6692</td>\n",
       "      <td>6692</td>\n",
       "      <td>...</td>\n",
       "      <td>0</td>\n",
       "      <td>0</td>\n",
       "      <td>0</td>\n",
       "      <td>0</td>\n",
       "      <td>0</td>\n",
       "      <td>0</td>\n",
       "      <td>6692</td>\n",
       "      <td>6692</td>\n",
       "      <td>17</td>\n",
       "      <td>6692</td>\n",
       "    </tr>\n",
       "    <tr>\n",
       "      <th>20</th>\n",
       "      <td>2253</td>\n",
       "      <td>3</td>\n",
       "      <td>2253</td>\n",
       "      <td>2253</td>\n",
       "      <td>0</td>\n",
       "      <td>0</td>\n",
       "      <td>0</td>\n",
       "      <td>0</td>\n",
       "      <td>2253</td>\n",
       "      <td>2253</td>\n",
       "      <td>...</td>\n",
       "      <td>0</td>\n",
       "      <td>0</td>\n",
       "      <td>0</td>\n",
       "      <td>0</td>\n",
       "      <td>0</td>\n",
       "      <td>0</td>\n",
       "      <td>2253</td>\n",
       "      <td>2253</td>\n",
       "      <td>26</td>\n",
       "      <td>2253</td>\n",
       "    </tr>\n",
       "    <tr>\n",
       "      <th>21</th>\n",
       "      <td>1662</td>\n",
       "      <td>80</td>\n",
       "      <td>1662</td>\n",
       "      <td>1662</td>\n",
       "      <td>0</td>\n",
       "      <td>0</td>\n",
       "      <td>0</td>\n",
       "      <td>0</td>\n",
       "      <td>1662</td>\n",
       "      <td>1662</td>\n",
       "      <td>...</td>\n",
       "      <td>0</td>\n",
       "      <td>0</td>\n",
       "      <td>0</td>\n",
       "      <td>0</td>\n",
       "      <td>0</td>\n",
       "      <td>0</td>\n",
       "      <td>1662</td>\n",
       "      <td>1662</td>\n",
       "      <td>0</td>\n",
       "      <td>1662</td>\n",
       "    </tr>\n",
       "  </tbody>\n",
       "</table>\n",
       "<p>12 rows × 27 columns</p>\n",
       "</div>"
      ],
      "text/plain": [
       "             _start_date  _end_date  _event_type  _event_value  _test_name  \\\n",
       "_health_dep                                                                  \n",
       "01                  3902          2         3902          3902           0   \n",
       "02                  9051        288         9051          9051           0   \n",
       "05                 17117          0        17117         17117           0   \n",
       "06                  2853         97         2853          2853           0   \n",
       "08                  4283          2         4283          4283           0   \n",
       "12                   757         56          757           757           0   \n",
       "16                    14          0           14            14           0   \n",
       "17                  2004        199         2004          2004           0   \n",
       "18                  4393          0         4393          4393           0   \n",
       "19                  6692          1         6692          6692           0   \n",
       "20                  2253          3         2253          2253           0   \n",
       "21                  1662         80         1662          1662           0   \n",
       "\n",
       "             _unit  _limits  _norm_value  _patient_id   _age  ...  _dose  \\\n",
       "_health_dep                                                   ...          \n",
       "01               0        0            0         3902   3902  ...      0   \n",
       "02               0        0            0         9051   9051  ...      0   \n",
       "05               0        0            0        17117  17117  ...      0   \n",
       "06               0        0            0         2853   2853  ...      0   \n",
       "08               0        0            0         4283   4283  ...      0   \n",
       "12               0        0            0          757    757  ...      0   \n",
       "16               0        0            0           14     14  ...      0   \n",
       "17               0        0            0         2004   2004  ...      0   \n",
       "18               0        0            0         4393   4393  ...      0   \n",
       "19               0        0            0         6692   6692  ...      0   \n",
       "20               0        0            0         2253   2253  ...      0   \n",
       "21               0        0            0         1662   1662  ...      0   \n",
       "\n",
       "             _freq  _route  _atc  _desc  _scale_name  _p_id  covid_image  \\\n",
       "_health_dep                                                                \n",
       "01               0       0     0      0            0   3902         3902   \n",
       "02               0       0     0      0            0   9051         9051   \n",
       "05               0       0     0      0            0  17117        17117   \n",
       "06               0       0     0      0            0   2853         2853   \n",
       "08               0       0     0      0            0   4283         4283   \n",
       "12               0       0     0      0            0    757          757   \n",
       "16               0       0     0      0            0     14           14   \n",
       "17               0       0     0      0            0   2004         2004   \n",
       "18               0       0     0      0            0   4393         4393   \n",
       "19               0       0     0      0            0   6692         6692   \n",
       "20               0       0     0      0            0   2253         2253   \n",
       "21               0       0     0      0            0   1662         1662   \n",
       "\n",
       "             oxigen_method   fiO2  \n",
       "_health_dep                        \n",
       "01                       5   3902  \n",
       "02                     362   9051  \n",
       "05                       9  17117  \n",
       "06                     145   2853  \n",
       "08                      20   4283  \n",
       "12                      83    757  \n",
       "16                       0     14  \n",
       "17                     268   2004  \n",
       "18                       9   4393  \n",
       "19                      17   6692  \n",
       "20                      26   2253  \n",
       "21                       0   1662  \n",
       "\n",
       "[12 rows x 27 columns]"
      ]
     },
     "execution_count": 34,
     "metadata": {},
     "output_type": "execute_result"
    }
   ],
   "source": [
    "df[pd.isna(df.fiO2) == False].groupby(['_health_dep']).count()"
   ]
  },
  {
   "cell_type": "code",
   "execution_count": 35,
   "metadata": {},
   "outputs": [
    {
     "name": "stdout",
     "output_type": "stream",
     "text": [
      "['Éxitus' 'Equipo atención primaria'\n",
      " 'Traslado Residencia o Centro Socio-Sanitario asistido'\n",
      " 'Consultas externas' 'Traslado Hospital de agudos' 'Domicilio' 'Otros'\n",
      " 'Unidad de Hospitalización a domicilio'\n",
      " 'Traslado Hospital Media larga estancia' 'Hospital de Día'\n",
      " 'Alta voluntaria' 'Fuga' 'In extremis']\n"
     ]
    }
   ],
   "source": [
    "print(x[(x._event_type == 'State Discharge')]._event_value.unique())\n",
    "discharge_dict = {}\n"
   ]
  },
  {
   "cell_type": "code",
   "execution_count": 36,
   "metadata": {},
   "outputs": [
    {
     "data": {
      "text/plain": [
       "array(['100/100 - DEPENDIENTE LEVE', '0/100 - DEPENDENCIA TOTAL',\n",
       "       '70/100 - DEPENDIENTE LEVE', '90/100 - DEPENDIENTE LEVE',\n",
       "       '55/100 - DEPENDIENTE MODERADO', '75/100 - DEPENDIENTE LEVE',\n",
       "       '20/100 - DEPENDIENTE GRAVE', '65/100 - DEPENDIENTE LEVE',\n",
       "       '5/100 - DEPENDENCIA TOTAL', '95/100 - DEPENDIENTE LEVE',\n",
       "       '30/100 - DEPENDIENTE GRAVE', '35/100 - DEPENDIENTE GRAVE',\n",
       "       '80/100 - DEPENDIENTE LEVE', '45/100 - DEPENDIENTE MODERADO',\n",
       "       '50/100 - DEPENDIENTE MODERADO', '25/100 - DEPENDIENTE GRAVE',\n",
       "       '15/100 - DEPENDENCIA TOTAL', '85/100 - DEPENDIENTE LEVE',\n",
       "       '10/100 - DEPENDENCIA TOTAL', '40/100 - DEPENDIENTE MODERADO',\n",
       "       '60/100 - DEPENDIENTE LEVE', '100/100 - INDEPENDIENTE'],\n",
       "      dtype=object)"
      ]
     },
     "execution_count": 36,
     "metadata": {},
     "output_type": "execute_result"
    }
   ],
   "source": [
    "df.loc[(df._event_type == 'Scale') &  (df._scale_name == 'BARTHEL')]._event_value.unique()"
   ]
  },
  {
   "cell_type": "code",
   "execution_count": 37,
   "metadata": {},
   "outputs": [
    {
     "data": {
      "text/plain": [
       "2256"
      ]
     },
     "execution_count": 37,
     "metadata": {},
     "output_type": "execute_result"
    }
   ],
   "source": [
    "df['barthel'] = np.nan\n",
    "df.loc[(df._event_type == 'Scale') &  (df._scale_name == 'BARTHEL'), ['barthel']] = df[\n",
    "    (df._event_type == 'Scale') &  (df._scale_name == 'BARTHEL')]._event_value.apply(lambda x: int(str(x).split('/')[0]) if not pd.isna(x) else np.na)\n",
    "df[pd.isna(df.barthel) == False]._p_id.nunique()"
   ]
  },
  {
   "cell_type": "code",
   "execution_count": 38,
   "metadata": {},
   "outputs": [
    {
     "data": {
      "text/plain": [
       "array(['4/20 - LEVE', '1/20 - LEVE', '2/20 - LEVE',\n",
       "       '0/24 - MORTALIDAD < 10%', '2/24 - MORTALIDAD < 10%',\n",
       "       '3/24 - MORTALIDAD 10-20%', '1/24 - MORTALIDAD < 10%',\n",
       "       '6/24 - MORTALIDAD > 20%', '4/24 - MORTALIDAD 10-20%',\n",
       "       '2/24 - MENOR 10% DE MORTALIDAD'], dtype=object)"
      ]
     },
     "execution_count": 38,
     "metadata": {},
     "output_type": "execute_result"
    }
   ],
   "source": [
    "df.loc[(df._event_type == 'Scale') &  (df._scale_name == 'SOFA')]._event_value.unique()"
   ]
  },
  {
   "cell_type": "code",
   "execution_count": 39,
   "metadata": {},
   "outputs": [
    {
     "data": {
      "text/plain": [
       "69"
      ]
     },
     "execution_count": 39,
     "metadata": {},
     "output_type": "execute_result"
    }
   ],
   "source": [
    "df['sofa'] = np.nan\n",
    "df.loc[(df._event_type == 'Scale') &  (df._scale_name == 'SOFA'), ['sofa']] = df[\n",
    "    (df._event_type == 'Scale') &  (df._scale_name == 'SOFA')]._event_value.apply(lambda x: int(str(x).split('/')[0]) if not pd.isna(x) else np.na)\n",
    "df[pd.isna(df.sofa) == False]._p_id.nunique()"
   ]
  },
  {
   "cell_type": "code",
   "execution_count": 40,
   "metadata": {},
   "outputs": [
    {
     "data": {
      "text/plain": [
       "array(['10/15 - A MENOR PUNTUACIÓN, MÁS PROBLEMAS',\n",
       "       '12/15 - A MENOR PUNTUACIÓN, MÁS PROBLEMAS',\n",
       "       '3/15 - A MENOR PUNTUACIÓN, MÁS PROBLEMAS',\n",
       "       '13/15 - A MENOR PUNTUACIÓN, MÁS PROBLEMAS',\n",
       "       '11/15 - A MENOR PUNTUACIÓN, MÁS PROBLEMAS',\n",
       "       '7/15 - A MENOR PUNTUACIÓN, MÁS PROBLEMAS',\n",
       "       '8/15 - A MENOR PUNTUACIÓN, MÁS PROBLEMAS',\n",
       "       '6/15 - A MENOR PUNTUACIÓN, MÁS PROBLEMAS',\n",
       "       '15/15 - A MENOR PUNTUACIÓN, MÁS PROBLEMAS',\n",
       "       '10/15 A MENOR PUNTUACIÓN, MÁS PROBLEMAS',\n",
       "       '12/15 A MENOR PUNTUACIÓN, MÁS PROBLEMAS',\n",
       "       '14/15 - A MENOR PUNTUACIÓN, MÁS PROBLEMAS',\n",
       "       '5/15 - A MENOR PUNTUACIÓN, MÁS PROBLEMAS',\n",
       "       '9/15 - A MENOR PUNTUACIÓN, MÁS PROBLEMAS',\n",
       "       '4/15 - A MENOR PUNTUACIÓN, MÁS PROBLEMAS',\n",
       "       '15/15 A MENOR PUNTUACIÓN, MÁS PROBLEMAS',\n",
       "       '12/15 - /15 A MENOR PUNTUACIÓN, MÁS PROBLEMAS',\n",
       "       '4/15 - /15 A MENOR PUNTUACIÓN, MÁS PROBLEMAS',\n",
       "       '8/15 - /15 A MENOR PUNTUACIÓN, MÁS PROBLEMAS',\n",
       "       '15/15 - /15 A MENOR PUNTUACIÓN, MÁS PROBLEMAS',\n",
       "       '3/15 - /15 A MENOR PUNTUACIÓN, MÁS PROBLEMAS'], dtype=object)"
      ]
     },
     "execution_count": 40,
     "metadata": {},
     "output_type": "execute_result"
    }
   ],
   "source": [
    "df.loc[(df._event_type == 'Scale') &  (df._scale_name == 'GLASGOW')]._event_value.unique()"
   ]
  },
  {
   "cell_type": "code",
   "execution_count": 41,
   "metadata": {},
   "outputs": [
    {
     "data": {
      "text/plain": [
       "100"
      ]
     },
     "execution_count": 41,
     "metadata": {},
     "output_type": "execute_result"
    }
   ],
   "source": [
    "df['glasgow'] = np.nan\n",
    "df.loc[(df._event_type == 'Scale') &  (df._scale_name == 'GLASGOW'), ['glasgow']] = df[\n",
    "    (df._event_type == 'Scale') &  (df._scale_name == 'GLASGOW')]._event_value.apply(lambda x: int(str(x).split('/')[0]) if not pd.isna(x) else np.na)\n",
    "df[pd.isna(df.glasgow) == False]._p_id.nunique()"
   ]
  },
  {
   "cell_type": "code",
   "execution_count": 42,
   "metadata": {},
   "outputs": [],
   "source": [
    "uci_patients = x[((x._event_type == 'State Bed') & (x._event_value == 'UCI') )]._p_id.unique()"
   ]
  },
  {
   "cell_type": "code",
   "execution_count": 43,
   "metadata": {},
   "outputs": [],
   "source": [
    "def who_out_scale(x, eval_date):\n",
    "    in_date = x.iloc[0]._start_date\n",
    "    \n",
    "    out_date = x.iloc[-1]._start_date\n",
    "    verbose = False\n",
    "    if verbose:\n",
    "        print(in_date, out_date)\n",
    "        print(f'date outcome evaluation: {eval_date}')\n",
    "        print(x[pd.isna(x.fiO2) == False][['_start_date', '_event_value', 'fiO2']])\n",
    "        print(x.oxigen_method.unique())\n",
    "    \n",
    "    #Scale- the WHO COVID Outcomes Scale: Used as primary efficacy outcome of treatments. The primary outcome defined as clinical status 14 days after admission \n",
    "    #assessed with a 7-category ordinal scale  recommended by the World Health Organization (at baseline, 7 and at 14 days or discharge -whatever occurs first): \n",
    "    #https://www.tandfonline.com/doi/full/10.1080/19466315.2020.1811148 \n",
    "    #Definition of category in Cao et al. (2020)\n",
    "    #7, death; \n",
    "    #6, hospitalized, receiving extracorporeal membrane oxygenation (ECMO) or invasive mechanical ventilation; \n",
    "    #5, hospitalized, receiving noninvasive mechanical ventilation or nasal high-flow oxygen therapy; \n",
    "    #4, hospitalized, receiving supplemental oxygen without positive pressure or high flow; \n",
    "    #3, hospitalized, not receiving supplemental oxygen; \n",
    "    #2, not hospitalized and unable to perform normal activities; \n",
    "    #1, not hospitalized and able to perform normal activities. \n",
    "    \n",
    "    \n",
    "    \n",
    "     #ICU \n",
    "    date_icu_in = x[((x._event_type == 'State Bed') & (x._event_value == 'UCI') & (x._start_date >= in_date ) & (x._start_date <= eval_date ))]._start_date\n",
    "    date_icu_out = x[((x._event_type == 'State Bed') & (x._event_value == 'UCI') & (x._start_date >= in_date ) & (x._start_date <= eval_date ))]._end_date\n",
    "    if not date_icu_in.empty:\n",
    "        date_icu_in = date_icu_in.iloc[0]\n",
    "    else: \n",
    "        date_icu_in = False\n",
    "        \n",
    "    if not date_icu_out.empty: #assume only one ICU admission, TODO improve\n",
    "        date_icu_out = date_icu_out.iloc[-1]\n",
    "    else: \n",
    "        date_icu_out = False\n",
    "    \n",
    "    \n",
    "    #discharge \n",
    "    discharge = x[((x._event_type == 'State Discharge') & (x._start_date >= in_date ) & (x._start_date <= eval_date ))]\n",
    "    #Fatal\n",
    "    fatal = False\n",
    "    date_death = None\n",
    "    if not discharge[discharge._event_value.isin( ['Éxitus', 'In extremis'])].empty: \n",
    "        date_death = discharge[discharge._event_value.isin( ['Éxitus', 'In extremis'])].iloc[0]._start_date\n",
    "        fatal = True \n",
    "       \n",
    "    #Critic \n",
    "    critic = fatal or date_icu_in\n",
    "        \n",
    "    \n",
    "    \n",
    "    #Oxygens from in_date to outcome date (high flow = if > 50% FiO2 or (-when FiO2 is not present-) if patient has a potentially high-flow device)\n",
    "    ox_high_device =  x[(x.oxigen_method.isin(oxigen_high) & (x._start_date <= eval_date ) )]._start_date \n",
    "    if not ox_high_device.empty:\n",
    "        ox_high_device = ox_high_device.iloc[-1]\n",
    "    else: \n",
    "        ox_high_device = False\n",
    "        \n",
    "    ox_high_fio2 = x[(x.fiO2 >= 50) &  (x._start_date <= eval_date )]._start_date \n",
    "    if not ox_high_fio2.empty:\n",
    "        ox_high_fio2 = ox_high_fio2.iloc[-1]\n",
    "    else:\n",
    "        ox_high_fio2 = False\n",
    "        \n",
    "    ox_low_fio2 =x[(x.fiO2 < 50) & (x._start_date <= eval_date )]._start_date \n",
    "    if not ox_low_fio2.empty:\n",
    "        ox_low_fio2 = ox_low_fio2.iloc[-1]\n",
    "    else:\n",
    "        ox_low_fio2 = False\n",
    "    \n",
    "    ox_low_device =  x[(x.oxigen_method.isin(oxigen_low) & (x._start_date <= eval_date ))]._start_date \n",
    "    if not ox_low_device.empty:\n",
    "        ox_low_device = ox_low_device.iloc[-1]\n",
    "    else :\n",
    "        ox_low_device = False\n",
    "    \n",
    "    \n",
    "    \n",
    "    who_covid_out = None\n",
    "    if date_death and date_death <= eval_date:\n",
    "        who_covid_out = 7\n",
    "    elif date_icu_in  and ((date_icu_in <= eval_date) and not date_icu_out):\n",
    "        who_covid_out = 6\n",
    "    elif ox_high_device and not ox_low_device : \n",
    "        who_covid_out = 5\n",
    "    elif ox_high_fio2 and not ox_low_fio2:\n",
    "        who_covid_out = 5\n",
    "    elif (ox_high_device and  ox_low_device) and (ox_high_device >= ox_low_device ):\n",
    "        who_covid_out = 5    \n",
    "    elif (ox_high_fio2 and  ox_low_fio2) and (ox_high_fio2 >= ox_low_fio2):\n",
    "        who_covid_out = 5\n",
    "    elif discharge.empty and (ox_low_fio2 or ox_low_device):\n",
    "        who_covid_out = 4\n",
    "    elif discharge.empty or not discharge[discharge._event_value.isin(['Traslado Hospital de agudos'])].empty  : #still hospitalized\n",
    "        who_covid_out = 3 \n",
    "    elif not discharge[discharge._event_value.isin(['Traslado Residencia o Centro Socio-Sanitario asistido', \n",
    "                                      'Unidad de Hospitalización a domicilio', 'Traslado Hospital Media larga estancia' ])].empty:\n",
    "        who_covid_out = 2\n",
    "    else:\n",
    "        who_covid_out = 1\n",
    "    \n",
    "    if verbose:\n",
    "        print(out_date)\n",
    "        print(discharge)\n",
    "    return who_covid_out\n",
    "\n"
   ]
  },
  {
   "cell_type": "code",
   "execution_count": 44,
   "metadata": {},
   "outputs": [
    {
     "name": "stdout",
     "output_type": "stream",
     "text": [
      "outcome day 28, WHO score 3\n",
      "outcome day 29, WHO score 7\n"
     ]
    }
   ],
   "source": [
    "for n_days in range(28,30):\n",
    "    who_out = df[df._p_id == 0].groupby('_p_id').apply(lambda y: who_out_scale(y, y.iloc[0]._start_date +  datetime.timedelta(n_days)))\n",
    "    print(f'outcome day {n_days}, WHO score {who_out.iloc[0]}')"
   ]
  },
  {
   "cell_type": "code",
   "execution_count": 45,
   "metadata": {},
   "outputs": [],
   "source": [
    "#generate tables for experiments\n",
    "ex1_columns = ['_patient_id','_p_id', '_health_dep','_age', '_gender', 'date_in', 'n_days_in', 'worst_barthel_scale', 'n_covid_rel_dx', 'covid_rel_dx', 'n_covid_rel_image','covid_rel_image', 'n_PCRs_+',\n",
    "               'n_days_icu', 'worst_sofa_scale', 'worst_glasgow','critic', 'severity', '_discharge', 'who_out_scale']"
   ]
  },
  {
   "cell_type": "code",
   "execution_count": 46,
   "metadata": {
    "scrolled": false
   },
   "outputs": [
    {
     "data": {
      "text/html": [
       "<div>\n",
       "<style scoped>\n",
       "    .dataframe tbody tr th:only-of-type {\n",
       "        vertical-align: middle;\n",
       "    }\n",
       "\n",
       "    .dataframe tbody tr th {\n",
       "        vertical-align: top;\n",
       "    }\n",
       "\n",
       "    .dataframe thead th {\n",
       "        text-align: right;\n",
       "    }\n",
       "</style>\n",
       "<table border=\"1\" class=\"dataframe\">\n",
       "  <thead>\n",
       "    <tr style=\"text-align: right;\">\n",
       "      <th></th>\n",
       "      <th></th>\n",
       "      <th>_patient_id</th>\n",
       "      <th>_p_id</th>\n",
       "      <th>_health_dep</th>\n",
       "      <th>_age</th>\n",
       "      <th>_gender</th>\n",
       "      <th>date_in</th>\n",
       "      <th>n_days_in</th>\n",
       "      <th>worst_barthel_scale</th>\n",
       "      <th>n_covid_rel_dx</th>\n",
       "      <th>covid_rel_dx</th>\n",
       "      <th>...</th>\n",
       "      <th>n_PCRs_+</th>\n",
       "      <th>n_days_icu</th>\n",
       "      <th>worst_sofa_scale</th>\n",
       "      <th>worst_glasgow</th>\n",
       "      <th>critic</th>\n",
       "      <th>severity</th>\n",
       "      <th>_discharge</th>\n",
       "      <th>who_out_scale</th>\n",
       "      <th>date_icu_in</th>\n",
       "      <th>worst_glasgow_scale</th>\n",
       "    </tr>\n",
       "    <tr>\n",
       "      <th>_p_id</th>\n",
       "      <th></th>\n",
       "      <th></th>\n",
       "      <th></th>\n",
       "      <th></th>\n",
       "      <th></th>\n",
       "      <th></th>\n",
       "      <th></th>\n",
       "      <th></th>\n",
       "      <th></th>\n",
       "      <th></th>\n",
       "      <th></th>\n",
       "      <th></th>\n",
       "      <th></th>\n",
       "      <th></th>\n",
       "      <th></th>\n",
       "      <th></th>\n",
       "      <th></th>\n",
       "      <th></th>\n",
       "      <th></th>\n",
       "      <th></th>\n",
       "      <th></th>\n",
       "      <th></th>\n",
       "    </tr>\n",
       "  </thead>\n",
       "  <tbody>\n",
       "    <tr>\n",
       "      <th>0</th>\n",
       "      <th>0</th>\n",
       "      <td>01d7a0442ab14089134c009df5aafdc1a8d206197e27db...</td>\n",
       "      <td>0</td>\n",
       "      <td>08</td>\n",
       "      <td>93</td>\n",
       "      <td>woman</td>\n",
       "      <td>2020-04-06</td>\n",
       "      <td>1 days</td>\n",
       "      <td>NaN</td>\n",
       "      <td>2</td>\n",
       "      <td>[OTROS TIPOS DE NEUMONIA VIRICA, INSUFICIENCIA...</td>\n",
       "      <td>...</td>\n",
       "      <td>0</td>\n",
       "      <td>0</td>\n",
       "      <td>NaN</td>\n",
       "      <td>None</td>\n",
       "      <td>True</td>\n",
       "      <td>5</td>\n",
       "      <td>Éxitus</td>\n",
       "      <td>[3, 7, 7, 7, 7, 7, 7, 7, 7, 7, 7, 7, 7, 7]</td>\n",
       "      <td>0</td>\n",
       "      <td>NaN</td>\n",
       "    </tr>\n",
       "    <tr>\n",
       "      <th>1</th>\n",
       "      <th>0</th>\n",
       "      <td>0354b2304dcf9ae94bf651001598c758b654c23315c1bb...</td>\n",
       "      <td>1</td>\n",
       "      <td>08</td>\n",
       "      <td>66</td>\n",
       "      <td>woman</td>\n",
       "      <td>2020-04-07</td>\n",
       "      <td>7 days</td>\n",
       "      <td>NaN</td>\n",
       "      <td>4</td>\n",
       "      <td>[OTROS TIPOS DE NEUMONIA VIRICA, OTROS CORONAV...</td>\n",
       "      <td>...</td>\n",
       "      <td>0</td>\n",
       "      <td>0</td>\n",
       "      <td>NaN</td>\n",
       "      <td>None</td>\n",
       "      <td>False</td>\n",
       "      <td>3</td>\n",
       "      <td>Equipo atención primaria</td>\n",
       "      <td>[3, 4, 4, 4, 4, 4, 4, 1, 1, 1, 1, 1, 1, 1]</td>\n",
       "      <td>0</td>\n",
       "      <td>NaN</td>\n",
       "    </tr>\n",
       "    <tr>\n",
       "      <th>2</th>\n",
       "      <th>0</th>\n",
       "      <td>04392047b85800a0ee5990f454c7c4b484cad8daee3383...</td>\n",
       "      <td>2</td>\n",
       "      <td>08</td>\n",
       "      <td>81</td>\n",
       "      <td>man</td>\n",
       "      <td>2020-10-04</td>\n",
       "      <td>4 days</td>\n",
       "      <td>NaN</td>\n",
       "      <td>0</td>\n",
       "      <td>[]</td>\n",
       "      <td>...</td>\n",
       "      <td>4</td>\n",
       "      <td>0</td>\n",
       "      <td>NaN</td>\n",
       "      <td>None</td>\n",
       "      <td>False</td>\n",
       "      <td>2</td>\n",
       "      <td>Equipo atención primaria</td>\n",
       "      <td>[3, 4, 4, 4, 1, 1, 1, 1, 1, 1, 1, 1, 1, 1]</td>\n",
       "      <td>0</td>\n",
       "      <td>NaN</td>\n",
       "    </tr>\n",
       "    <tr>\n",
       "      <th>3</th>\n",
       "      <th>0</th>\n",
       "      <td>046df9b449c71047f3c62d9fde422e61100369b7c71ceb...</td>\n",
       "      <td>3</td>\n",
       "      <td>08</td>\n",
       "      <td>90</td>\n",
       "      <td>man</td>\n",
       "      <td>2020-03-21</td>\n",
       "      <td>7 days</td>\n",
       "      <td>NaN</td>\n",
       "      <td>4</td>\n",
       "      <td>[OTROS TIPOS DE NEUMONIA VIRICA, OTROS CORONAV...</td>\n",
       "      <td>...</td>\n",
       "      <td>1</td>\n",
       "      <td>0</td>\n",
       "      <td>NaN</td>\n",
       "      <td>None</td>\n",
       "      <td>True</td>\n",
       "      <td>5</td>\n",
       "      <td>Éxitus</td>\n",
       "      <td>[3, 4, 4, 5, 4, 4, 4, 7, 7, 7, 7, 7, 7, 7]</td>\n",
       "      <td>0</td>\n",
       "      <td>NaN</td>\n",
       "    </tr>\n",
       "    <tr>\n",
       "      <th>4</th>\n",
       "      <th>0</th>\n",
       "      <td>05abb2eafb334e14b0de26bd5aff9fe154e5e1954ab4a5...</td>\n",
       "      <td>4</td>\n",
       "      <td>08</td>\n",
       "      <td>88</td>\n",
       "      <td>woman</td>\n",
       "      <td>2020-02-12</td>\n",
       "      <td>6 days</td>\n",
       "      <td>NaN</td>\n",
       "      <td>0</td>\n",
       "      <td>[]</td>\n",
       "      <td>...</td>\n",
       "      <td>0</td>\n",
       "      <td>0</td>\n",
       "      <td>NaN</td>\n",
       "      <td>None</td>\n",
       "      <td>False</td>\n",
       "      <td>3</td>\n",
       "      <td>Traslado Residencia o Centro Socio-Sanitario a...</td>\n",
       "      <td>[3, 4, 4, 4, 4, 4, 2, 2, 2, 2, 2, 2, 2, 2]</td>\n",
       "      <td>0</td>\n",
       "      <td>NaN</td>\n",
       "    </tr>\n",
       "    <tr>\n",
       "      <th>...</th>\n",
       "      <th>...</th>\n",
       "      <td>...</td>\n",
       "      <td>...</td>\n",
       "      <td>...</td>\n",
       "      <td>...</td>\n",
       "      <td>...</td>\n",
       "      <td>...</td>\n",
       "      <td>...</td>\n",
       "      <td>...</td>\n",
       "      <td>...</td>\n",
       "      <td>...</td>\n",
       "      <td>...</td>\n",
       "      <td>...</td>\n",
       "      <td>...</td>\n",
       "      <td>...</td>\n",
       "      <td>...</td>\n",
       "      <td>...</td>\n",
       "      <td>...</td>\n",
       "      <td>...</td>\n",
       "      <td>...</td>\n",
       "      <td>...</td>\n",
       "      <td>...</td>\n",
       "    </tr>\n",
       "    <tr>\n",
       "      <th>4463</th>\n",
       "      <th>0</th>\n",
       "      <td>fde798ca3796eddd124c98a933f5d645e8b6e631835942...</td>\n",
       "      <td>4463</td>\n",
       "      <td>02</td>\n",
       "      <td>83</td>\n",
       "      <td>man</td>\n",
       "      <td>2020-08-29</td>\n",
       "      <td>6 days</td>\n",
       "      <td>NaN</td>\n",
       "      <td>0</td>\n",
       "      <td>[]</td>\n",
       "      <td>...</td>\n",
       "      <td>3</td>\n",
       "      <td>0</td>\n",
       "      <td>NaN</td>\n",
       "      <td>None</td>\n",
       "      <td>False</td>\n",
       "      <td>3</td>\n",
       "      <td>Equipo atención primaria</td>\n",
       "      <td>[3, 4, 4, 4, 4, 4, 1, 1, 1, 1, 1, 1, 1, 1]</td>\n",
       "      <td>0</td>\n",
       "      <td>NaN</td>\n",
       "    </tr>\n",
       "    <tr>\n",
       "      <th>4464</th>\n",
       "      <th>0</th>\n",
       "      <td>fe7f9d9090c393da6190b7a67fde053d62d4aeccd5009c...</td>\n",
       "      <td>4464</td>\n",
       "      <td>02</td>\n",
       "      <td>43</td>\n",
       "      <td>man</td>\n",
       "      <td>2020-03-23</td>\n",
       "      <td>7 days</td>\n",
       "      <td>100</td>\n",
       "      <td>2</td>\n",
       "      <td>[OTROS TIPOS DE NEUMONIA VIRICA, OTROS CORONAV...</td>\n",
       "      <td>...</td>\n",
       "      <td>1</td>\n",
       "      <td>0</td>\n",
       "      <td>NaN</td>\n",
       "      <td>None</td>\n",
       "      <td>False</td>\n",
       "      <td>3</td>\n",
       "      <td>Equipo atención primaria</td>\n",
       "      <td>[3, 4, 4, 4, 4, 4, 4, 1, 1, 1, 1, 1, 1, 1]</td>\n",
       "      <td>0</td>\n",
       "      <td>NaN</td>\n",
       "    </tr>\n",
       "    <tr>\n",
       "      <th>4465</th>\n",
       "      <th>0</th>\n",
       "      <td>fec24c409cd89a246ed9bcf040fb6dfa64d4f0df2a70bc...</td>\n",
       "      <td>4465</td>\n",
       "      <td>02</td>\n",
       "      <td>69</td>\n",
       "      <td>man</td>\n",
       "      <td>2020-08-28</td>\n",
       "      <td>21 days</td>\n",
       "      <td>100</td>\n",
       "      <td>0</td>\n",
       "      <td>[]</td>\n",
       "      <td>...</td>\n",
       "      <td>0</td>\n",
       "      <td>0</td>\n",
       "      <td>NaN</td>\n",
       "      <td>None</td>\n",
       "      <td>False</td>\n",
       "      <td>3</td>\n",
       "      <td>Consultas externas</td>\n",
       "      <td>[3, 3, 3, 3, 3, 3, 3, 3, 3, 3, 3, 3, 3, 3]</td>\n",
       "      <td>0</td>\n",
       "      <td>NaN</td>\n",
       "    </tr>\n",
       "    <tr>\n",
       "      <th>4466</th>\n",
       "      <th>0</th>\n",
       "      <td>fee9219753563ce62b13fbcb20ae42a091b03878197b7b...</td>\n",
       "      <td>4466</td>\n",
       "      <td>02</td>\n",
       "      <td>90</td>\n",
       "      <td>woman</td>\n",
       "      <td>2020-04-05</td>\n",
       "      <td>9 days</td>\n",
       "      <td>0</td>\n",
       "      <td>2</td>\n",
       "      <td>[OTROS TIPOS DE NEUMONIA VIRICA, OTROS CORONAV...</td>\n",
       "      <td>...</td>\n",
       "      <td>1</td>\n",
       "      <td>0</td>\n",
       "      <td>NaN</td>\n",
       "      <td>None</td>\n",
       "      <td>True</td>\n",
       "      <td>5</td>\n",
       "      <td>Éxitus</td>\n",
       "      <td>[3, 5, 5, 4, 5, 5, 5, 5, 5, 7, 7, 7, 7, 7]</td>\n",
       "      <td>0</td>\n",
       "      <td>NaN</td>\n",
       "    </tr>\n",
       "    <tr>\n",
       "      <th>4467</th>\n",
       "      <th>0</th>\n",
       "      <td>ff42e887a5fee5cc09282d8b9c485c16bf2d727814abf3...</td>\n",
       "      <td>4467</td>\n",
       "      <td>02</td>\n",
       "      <td>21</td>\n",
       "      <td>man</td>\n",
       "      <td>2020-04-22</td>\n",
       "      <td>2 days</td>\n",
       "      <td>100</td>\n",
       "      <td>0</td>\n",
       "      <td>[]</td>\n",
       "      <td>...</td>\n",
       "      <td>0</td>\n",
       "      <td>0</td>\n",
       "      <td>NaN</td>\n",
       "      <td>None</td>\n",
       "      <td>False</td>\n",
       "      <td>2</td>\n",
       "      <td>Equipo atención primaria</td>\n",
       "      <td>[3, 3, 1, 1, 1, 1, 1, 1, 1, 1, 1, 1, 1, 1]</td>\n",
       "      <td>0</td>\n",
       "      <td>NaN</td>\n",
       "    </tr>\n",
       "  </tbody>\n",
       "</table>\n",
       "<p>5757 rows × 22 columns</p>\n",
       "</div>"
      ],
      "text/plain": [
       "                                               _patient_id _p_id _health_dep  \\\n",
       "_p_id                                                                          \n",
       "0     0  01d7a0442ab14089134c009df5aafdc1a8d206197e27db...     0          08   \n",
       "1     0  0354b2304dcf9ae94bf651001598c758b654c23315c1bb...     1          08   \n",
       "2     0  04392047b85800a0ee5990f454c7c4b484cad8daee3383...     2          08   \n",
       "3     0  046df9b449c71047f3c62d9fde422e61100369b7c71ceb...     3          08   \n",
       "4     0  05abb2eafb334e14b0de26bd5aff9fe154e5e1954ab4a5...     4          08   \n",
       "...                                                    ...   ...         ...   \n",
       "4463  0  fde798ca3796eddd124c98a933f5d645e8b6e631835942...  4463          02   \n",
       "4464  0  fe7f9d9090c393da6190b7a67fde053d62d4aeccd5009c...  4464          02   \n",
       "4465  0  fec24c409cd89a246ed9bcf040fb6dfa64d4f0df2a70bc...  4465          02   \n",
       "4466  0  fee9219753563ce62b13fbcb20ae42a091b03878197b7b...  4466          02   \n",
       "4467  0  ff42e887a5fee5cc09282d8b9c485c16bf2d727814abf3...  4467          02   \n",
       "\n",
       "        _age _gender    date_in n_days_in worst_barthel_scale n_covid_rel_dx  \\\n",
       "_p_id                                                                          \n",
       "0     0   93   woman 2020-04-06    1 days                 NaN              2   \n",
       "1     0   66   woman 2020-04-07    7 days                 NaN              4   \n",
       "2     0   81     man 2020-10-04    4 days                 NaN              0   \n",
       "3     0   90     man 2020-03-21    7 days                 NaN              4   \n",
       "4     0   88   woman 2020-02-12    6 days                 NaN              0   \n",
       "...      ...     ...        ...       ...                 ...            ...   \n",
       "4463  0   83     man 2020-08-29    6 days                 NaN              0   \n",
       "4464  0   43     man 2020-03-23    7 days                 100              2   \n",
       "4465  0   69     man 2020-08-28   21 days                 100              0   \n",
       "4466  0   90   woman 2020-04-05    9 days                   0              2   \n",
       "4467  0   21     man 2020-04-22    2 days                 100              0   \n",
       "\n",
       "                                              covid_rel_dx  ... n_PCRs_+  \\\n",
       "_p_id                                                       ...            \n",
       "0     0  [OTROS TIPOS DE NEUMONIA VIRICA, INSUFICIENCIA...  ...        0   \n",
       "1     0  [OTROS TIPOS DE NEUMONIA VIRICA, OTROS CORONAV...  ...        0   \n",
       "2     0                                                 []  ...        4   \n",
       "3     0  [OTROS TIPOS DE NEUMONIA VIRICA, OTROS CORONAV...  ...        1   \n",
       "4     0                                                 []  ...        0   \n",
       "...                                                    ...  ...      ...   \n",
       "4463  0                                                 []  ...        3   \n",
       "4464  0  [OTROS TIPOS DE NEUMONIA VIRICA, OTROS CORONAV...  ...        1   \n",
       "4465  0                                                 []  ...        0   \n",
       "4466  0  [OTROS TIPOS DE NEUMONIA VIRICA, OTROS CORONAV...  ...        1   \n",
       "4467  0                                                 []  ...        0   \n",
       "\n",
       "        n_days_icu worst_sofa_scale worst_glasgow critic severity  \\\n",
       "_p_id                                                               \n",
       "0     0          0              NaN          None   True        5   \n",
       "1     0          0              NaN          None  False        3   \n",
       "2     0          0              NaN          None  False        2   \n",
       "3     0          0              NaN          None   True        5   \n",
       "4     0          0              NaN          None  False        3   \n",
       "...            ...              ...           ...    ...      ...   \n",
       "4463  0          0              NaN          None  False        3   \n",
       "4464  0          0              NaN          None  False        3   \n",
       "4465  0          0              NaN          None  False        3   \n",
       "4466  0          0              NaN          None   True        5   \n",
       "4467  0          0              NaN          None  False        2   \n",
       "\n",
       "                                                _discharge  \\\n",
       "_p_id                                                        \n",
       "0     0                                             Éxitus   \n",
       "1     0                           Equipo atención primaria   \n",
       "2     0                           Equipo atención primaria   \n",
       "3     0                                             Éxitus   \n",
       "4     0  Traslado Residencia o Centro Socio-Sanitario a...   \n",
       "...                                                    ...   \n",
       "4463  0                           Equipo atención primaria   \n",
       "4464  0                           Equipo atención primaria   \n",
       "4465  0                                 Consultas externas   \n",
       "4466  0                                             Éxitus   \n",
       "4467  0                           Equipo atención primaria   \n",
       "\n",
       "                                      who_out_scale date_icu_in  \\\n",
       "_p_id                                                             \n",
       "0     0  [3, 7, 7, 7, 7, 7, 7, 7, 7, 7, 7, 7, 7, 7]           0   \n",
       "1     0  [3, 4, 4, 4, 4, 4, 4, 1, 1, 1, 1, 1, 1, 1]           0   \n",
       "2     0  [3, 4, 4, 4, 1, 1, 1, 1, 1, 1, 1, 1, 1, 1]           0   \n",
       "3     0  [3, 4, 4, 5, 4, 4, 4, 7, 7, 7, 7, 7, 7, 7]           0   \n",
       "4     0  [3, 4, 4, 4, 4, 4, 2, 2, 2, 2, 2, 2, 2, 2]           0   \n",
       "...                                             ...         ...   \n",
       "4463  0  [3, 4, 4, 4, 4, 4, 1, 1, 1, 1, 1, 1, 1, 1]           0   \n",
       "4464  0  [3, 4, 4, 4, 4, 4, 4, 1, 1, 1, 1, 1, 1, 1]           0   \n",
       "4465  0  [3, 3, 3, 3, 3, 3, 3, 3, 3, 3, 3, 3, 3, 3]           0   \n",
       "4466  0  [3, 5, 5, 4, 5, 5, 5, 5, 5, 7, 7, 7, 7, 7]           0   \n",
       "4467  0  [3, 3, 1, 1, 1, 1, 1, 1, 1, 1, 1, 1, 1, 1]           0   \n",
       "\n",
       "        worst_glasgow_scale  \n",
       "_p_id                        \n",
       "0     0                 NaN  \n",
       "1     0                 NaN  \n",
       "2     0                 NaN  \n",
       "3     0                 NaN  \n",
       "4     0                 NaN  \n",
       "...                     ...  \n",
       "4463  0                 NaN  \n",
       "4464  0                 NaN  \n",
       "4465  0                 NaN  \n",
       "4466  0                 NaN  \n",
       "4467  0                 NaN  \n",
       "\n",
       "[5757 rows x 22 columns]"
      ]
     },
     "execution_count": 46,
     "metadata": {},
     "output_type": "execute_result"
    }
   ],
   "source": [
    "\n",
    "#1º Select only admissions with concomitant events associated to ( ( covid related dx-cx) OR (Rx-thorax with infiltrates or condensations or pneumonia)) AND b) PCR confirmed COVID \n",
    "\n",
    "def table(x_p, df_exp): #x_p is a dataframe with all events for a given patient, one patient may have >= 1 admissions\n",
    "    _p_id = x_p.iloc[0]._p_id\n",
    "    \n",
    "    #iterate admissions\n",
    "    for in_date,out_date in list(zip(x_p[(x_p._event_type == 'State Admission')]._start_date, x_p[(x_p._event_type == 'State Discharge')]._start_date)):\n",
    "        \n",
    "        #filter events for this admission\n",
    "        x = x_p[(x_p._start_date >= in_date ) & (x_p._start_date <= out_date )]\n",
    "        \n",
    "        #n_days_in \n",
    "        try:\n",
    "            n_days_in = out_date - in_date\n",
    "        except:\n",
    "            print(_p_id)\n",
    "            print(f'n_days_in: {n_days_in}')\n",
    "            print(x)\n",
    "            \n",
    "        #scales (barthel best is 100, sofa worst is 24, glasgow best is 15)\n",
    "        worst_barthel_scale = np.min(x[pd.isna(x.barthel) == False].barthel.values) if not x[pd.isna(x.barthel) == False].empty else np.nan\n",
    "        worst_sofa_scale = np.max(x[pd.isna(x.sofa) == False].sofa.values) if not x[pd.isna(x.sofa) == False].empty else np.nan\n",
    "        worst_glasgow_scale = np.min(x[pd.isna(x.glasgow) == False].glasgow.values) if not x[pd.isna(x.glasgow) == False].empty else np.nan\n",
    "            \n",
    "        #covid related dx-cx\n",
    "        dx = x[((x._event_type == 'Diagnosis') & (x._event_value.isin(l_covid_dx)) & (x._start_date >= in_date ) & (x._start_date <= out_date ))]\n",
    "        #covid related image\n",
    "        rx = x[ ((x.covid_image != False) & (x._start_date >= in_date ) & (x._start_date <= out_date ))]\n",
    "        #covid confirmed by PCR (extending 3 weeks before admission )\n",
    "        cov = x[((x._event_type == 'Lab Sars-cov-2') & (x._event_value == 'POSITIVO') & (x._start_date >= in_date - datetime.timedelta(7*3) ) & (x._start_date <= out_date ))]\n",
    "        \n",
    "        #ICU \n",
    "        date_icu_in = x[((x._event_type == 'State Bed') & (x._event_value == 'UCI') & (x._start_date >= in_date ) & (x._start_date <= out_date ))]._start_date\n",
    "        date_icu_out = x[((x._event_type == 'State Bed') & (x._event_value == 'UCI') & (x._start_date >= in_date ) & (x._start_date <= out_date ))]._end_date\n",
    "        if date_icu_in.shape[0] > 0:\n",
    "            date_icu_in = date_icu_in.iloc[0]\n",
    "            date_icu_out = date_icu_out.iloc[0] #assume only one ICU admission, TODO improve\n",
    "        else: \n",
    "            date_icu_in = False\n",
    "            date_icu_out = False\n",
    "        #discharge\n",
    "        discharge = x[((x._event_type == 'State Discharge') & (x._start_date >= in_date ) & (x._start_date <= out_date ))]\n",
    "        \n",
    "        #Fatal\n",
    "        fatal = False\n",
    "        date_death = None\n",
    "        death_event = discharge[discharge._event_value.isin( ['Éxitus', 'In extremis'])]\n",
    "        if death_event.shape[0] > 0: \n",
    "            date_death = death_event._start_date\n",
    "            fatal = True \n",
    "        \n",
    "        #Critic \n",
    "        critic = fatal or date_icu_in\n",
    "        \n",
    "        \n",
    "        \n",
    "        #Severity grade (following AE grading system 1-5: \n",
    "        #1-mild(ER only, does not require hospitalization), \n",
    "        #2-moderate( hospitalization <= 5 days)\n",
    "        #3-severe(prolongs hospitalization > 5 days), \n",
    "        #4-critical(life threatening = UCI), \n",
    "        #5-fatal \n",
    "        #Source: lab paper\n",
    "        severity = None\n",
    "        if fatal:\n",
    "            severity = 5\n",
    "        elif (date_icu_in ):\n",
    "            severity = 4\n",
    "        elif(n_days_in.days > 5 ):\n",
    "            severity = 3\n",
    "        elif (n_days_in.days in range(1,6)): \n",
    "            severity = 2 \n",
    "        elif (n_days_in == 0 ):\n",
    "            severity = 1\n",
    "        \n",
    "        #Scale- 4C mortality score IASRIC \n",
    "        \n",
    "        \n",
    "            \n",
    "        row_dict = dict.fromkeys(ex1_columns)\n",
    "        row_dict['_p_id'] = _p_id\n",
    "        row_dict['_patient_id'] = x.iloc[0]._patient_id\n",
    "        row_dict['_health_dep'] = x.iloc[0]._health_dep\n",
    "        row_dict['_gender'] = x.iloc[0]._gender\n",
    "        row_dict['_age'] = x.iloc[0]._age\n",
    "        row_dict['date_in'] = in_date\n",
    "        row_dict['n_days_in'] = n_days_in\n",
    "        row_dict['worst_barthel_scale'] = worst_barthel_scale\n",
    "        row_dict['n_covid_rel_image'] = rx.shape[0] #n images with related covid findings\n",
    "        row_dict['covid_rel_image'] = list(set([l for i in rx.covid_image.values for l in  i]))\n",
    "        row_dict['n_covid_rel_dx'] = dx.shape[0]\n",
    "        row_dict['covid_rel_dx'] = dx._desc.str.strip().unique()\n",
    "        row_dict['n_PCRs_+'] = cov.shape[0]\n",
    "        row_dict['worst_glasgow_scale'] = worst_glasgow_scale\n",
    "        row_dict['worst_sofa_scale'] = worst_sofa_scale\n",
    "        row_dict['date_icu_in'] = date_icu_in\n",
    "        row_dict['n_days_icu'] = (date_icu_out - date_icu_in) if date_icu_in else 0\n",
    "        row_dict['_discharge'] = discharge._event_value.values[0]\n",
    "        row_dict['critic'] = fatal or date_icu_in\n",
    "        row_dict['severity'] = severity\n",
    "        n = 14\n",
    "        row_dict['who_out_scale'] = [who_out_scale(x, in_date +  datetime.timedelta(n)) for n in range(0,n) ]\n",
    "        df_exp = df_exp.append(row_dict, ignore_index = True)\n",
    "        \n",
    "        if (((dx.shape[0] > 0) or (rx.shape[0] >  0)) and (cov.shape[0]> 0)) :\n",
    "            pass\n",
    "            #df_new = pd.DataFrame([_p_id], columns=ex1_columns)\n",
    "            #df_exp= pd.concat([df_exp, df_new['_p_id']], ignore_index = True)\n",
    "            #print(dx.shape[0],rx.shape[0],cov.shape[0])\n",
    "            \n",
    "    return df_exp\n",
    "df_experiment = pd.DataFrame(columns = ex1_columns)\n",
    "df_experiment = df.groupby('_p_id').apply(lambda x: table(x, df_experiment))\n",
    "#df_experiment = df[df._p_id.isin(uci_patients)].groupby('_p_id').apply(lambda x: table(x, df_experiment))\n",
    "df_experiment"
   ]
  },
  {
   "cell_type": "code",
   "execution_count": 56,
   "metadata": {},
   "outputs": [],
   "source": [
    "df_experiment.drop(columns = ['_p_id']).reset_index().to_csv('table_extended_PCR.csv', index = False)\n"
   ]
  },
  {
   "cell_type": "code",
   "execution_count": 47,
   "metadata": {},
   "outputs": [],
   "source": [
    "df_experiment.to_csv('table_extended_PCR.csv')"
   ]
  },
  {
   "cell_type": "code",
   "execution_count": null,
   "metadata": {},
   "outputs": [],
   "source": []
  },
  {
   "cell_type": "code",
   "execution_count": null,
   "metadata": {},
   "outputs": [],
   "source": [
    "df[df._p_id ==  4450]._patient_id"
   ]
  },
  {
   "cell_type": "code",
   "execution_count": null,
   "metadata": {},
   "outputs": [],
   "source": [
    "df_experiment.date_icu_in.value_counts()"
   ]
  },
  {
   "cell_type": "code",
   "execution_count": null,
   "metadata": {},
   "outputs": [],
   "source": [
    "df_experiment.iloc[0].covid_rel_image"
   ]
  },
  {
   "cell_type": "code",
   "execution_count": null,
   "metadata": {},
   "outputs": [],
   "source": [
    "df[(df._p_id == 4467) & (df._event_type == 'Lab Sars-cov-2')]"
   ]
  },
  {
   "cell_type": "code",
   "execution_count": null,
   "metadata": {},
   "outputs": [],
   "source": [
    "\n",
    "\n",
    "import pandas as pd\n",
    "admissions_df = df_dict['State Admission']\n",
    "discharge_df = df_dict['State Discharge']\n"
   ]
  },
  {
   "cell_type": "code",
   "execution_count": null,
   "metadata": {},
   "outputs": [],
   "source": [
    "admissions_df.loc[admissions_df._p_id == 3308]"
   ]
  },
  {
   "cell_type": "code",
   "execution_count": null,
   "metadata": {},
   "outputs": [],
   "source": [
    "p = 3308\n",
    "#df_admissions "
   ]
  },
  {
   "cell_type": "code",
   "execution_count": null,
   "metadata": {
    "scrolled": true
   },
   "outputs": [],
   "source": [
    "list(zip(admissions_df.loc[admissions_df._p_id == p]._start_date, \n",
    "         discharge_df.loc[discharge_df._p_id == p]._start_date,\n",
    "         discharge_df.loc[discharge_df._p_id == p]._health_dep,\n",
    "        admissions_df.loc[admissions_df._p_id == p]._p_id,\n",
    "        admissions_df.loc[admissions_df._p_id == p]._gender,\n",
    "        admissions_df.loc[admissions_df._p_id == p]._age,\n",
    "        discharge_df.loc[discharge_df._p_id == p]._event_value))"
   ]
  },
  {
   "cell_type": "code",
   "execution_count": null,
   "metadata": {},
   "outputs": [],
   "source": [
    "discharge_df['date'] = discharge_df['_start_date'] \n",
    "discharge_df"
   ]
  },
  {
   "cell_type": "code",
   "execution_count": null,
   "metadata": {},
   "outputs": [],
   "source": [
    "m = pd.merge(admissions_df,discharge_df[['_p_id', 'date']], sort = True)\n",
    "m.loc[m._p_id == 3308]._start_date.values, m.loc[m._p_id == 3308].date.values"
   ]
  },
  {
   "cell_type": "code",
   "execution_count": null,
   "metadata": {},
   "outputs": [],
   "source": [
    "m.loc[m._p_id == 3308]._health_dep.unique()"
   ]
  },
  {
   "cell_type": "code",
   "execution_count": null,
   "metadata": {},
   "outputs": [],
   "source": [
    "m.loc[m._p_id == 3308]._patient_id.unique()"
   ]
  },
  {
   "cell_type": "code",
   "execution_count": null,
   "metadata": {},
   "outputs": [],
   "source": [
    "pd.merge(admissions_df,discharge_df, how='outer',on='_p_id')"
   ]
  },
  {
   "cell_type": "code",
   "execution_count": null,
   "metadata": {},
   "outputs": [],
   "source": [
    "df_out = df"
   ]
  },
  {
   "cell_type": "code",
   "execution_count": null,
   "metadata": {},
   "outputs": [],
   "source": [
    "def f(x):\n",
    "    df.groupby('_p_id')\n",
    "    \n",
    "    return i\n",
    "\n",
    "df_out['_out_discharge'] = df_out.apply(lambda x: f(x), axis = 1)"
   ]
  },
  {
   "cell_type": "code",
   "execution_count": null,
   "metadata": {},
   "outputs": [],
   "source": [
    "DT = dt.Frame(df)"
   ]
  },
  {
   "cell_type": "code",
   "execution_count": null,
   "metadata": {},
   "outputs": [],
   "source": [
    "DT.names"
   ]
  },
  {
   "cell_type": "code",
   "execution_count": null,
   "metadata": {},
   "outputs": [],
   "source": [
    "DT[:,{'count':count()} , by('_p_id')]"
   ]
  },
  {
   "cell_type": "code",
   "execution_count": null,
   "metadata": {},
   "outputs": [],
   "source": [
    "DT[1,classes_field_dict['Patient'] , by('_p_id')]"
   ]
  },
  {
   "cell_type": "code",
   "execution_count": null,
   "metadata": {},
   "outputs": [],
   "source": []
  },
  {
   "cell_type": "code",
   "execution_count": null,
   "metadata": {},
   "outputs": [],
   "source": [
    "df._patient_id.value_counts()"
   ]
  },
  {
   "cell_type": "code",
   "execution_count": null,
   "metadata": {},
   "outputs": [],
   "source": [
    "#profile = ProfileReport(df,  pool_size = 32)\n",
    "df._dose.describe()"
   ]
  },
  {
   "cell_type": "code",
   "execution_count": null,
   "metadata": {},
   "outputs": [],
   "source": []
  },
  {
   "cell_type": "code",
   "execution_count": null,
   "metadata": {},
   "outputs": [],
   "source": [
    "DT[ (f._event_value == 'POTASIO CLORURO') ,fields_fluid]"
   ]
  },
  {
   "cell_type": "code",
   "execution_count": null,
   "metadata": {},
   "outputs": [],
   "source": [
    "dt.unique(DT[:, f._health_dep])"
   ]
  },
  {
   "cell_type": "code",
   "execution_count": null,
   "metadata": {},
   "outputs": [],
   "source": [
    "DT[(f.event_type == 'Text Discharge') ,:]"
   ]
  },
  {
   "cell_type": "code",
   "execution_count": null,
   "metadata": {},
   "outputs": [],
   "source": [
    "e = DT[(f.event_type == 'Text Discharge'), :][:,{'N': dt.count()} , by('_event_value')]"
   ]
  },
  {
   "cell_type": "code",
   "execution_count": null,
   "metadata": {},
   "outputs": [],
   "source": [
    "e.to_csv(str(csv_dir/'Text_Discharge.csv'))"
   ]
  },
  {
   "cell_type": "code",
   "execution_count": null,
   "metadata": {},
   "outputs": [],
   "source": [
    "DT[(dt.isna(f.date) == False),[f.date, f._start_date]]"
   ]
  },
  {
   "cell_type": "code",
   "execution_count": null,
   "metadata": {},
   "outputs": [],
   "source": [
    "DT[dt.rowany(dt.isna(f.date) == False),[f.date, f._start_date]]"
   ]
  },
  {
   "cell_type": "code",
   "execution_count": null,
   "metadata": {},
   "outputs": [],
   "source": [
    "DT.names"
   ]
  },
  {
   "cell_type": "code",
   "execution_count": null,
   "metadata": {},
   "outputs": [],
   "source": [
    "pdict['08_01d7a0442ab14089134c009df5aafdc1a8d206197e27db555281cf6582fda9fd'].__dict__.keys()"
   ]
  },
  {
   "cell_type": "code",
   "execution_count": null,
   "metadata": {},
   "outputs": [],
   "source": [
    "DT.names"
   ]
  },
  {
   "cell_type": "code",
   "execution_count": null,
   "metadata": {},
   "outputs": [],
   "source": [
    "DT[(dt.isna(f.event_value) == True) & (dt.isna(f._event_value) == False),['event_type', '_event_value', 'event_value']]"
   ]
  },
  {
   "cell_type": "code",
   "execution_count": null,
   "metadata": {},
   "outputs": [],
   "source": [
    "DT[dt.rowany(dt.isna(f.event_value) == False),[f.event_value, f._event_value, f._desc]]"
   ]
  },
  {
   "cell_type": "code",
   "execution_count": null,
   "metadata": {},
   "outputs": [],
   "source": [
    "DT[((f.event_type == 'Medication') & dt.isna(f._dose) == True  & (f._health_dep == '08')), :]"
   ]
  },
  {
   "cell_type": "code",
   "execution_count": null,
   "metadata": {},
   "outputs": [],
   "source": []
  }
 ],
 "metadata": {
  "kernelspec": {
   "display_name": "nlpMED",
   "language": "python",
   "name": "nlpmed"
  },
  "language_info": {
   "codemirror_mode": {
    "name": "ipython",
    "version": 3
   },
   "file_extension": ".py",
   "mimetype": "text/x-python",
   "name": "python",
   "nbconvert_exporter": "python",
   "pygments_lexer": "ipython3",
   "version": "3.7.7"
  }
 },
 "nbformat": 4,
 "nbformat_minor": 4
}
