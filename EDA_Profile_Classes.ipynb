{
 "cells": [
  {
   "cell_type": "code",
   "execution_count": null,
   "metadata": {},
   "outputs": [],
   "source": [
    "\n",
    "from datatable import (dt, f, by, ifelse, update, sort,\n",
    "                       count, min, max, mean, sum, rowsum)\n",
    "import pandas as pd\n",
    "import warnings\n",
    "warnings.filterwarnings(action='once')\n",
    "import numpy as np\n",
    "import datetime\n",
    "from fuzzywuzzy import fuzz\n",
    "from fuzzywuzzy import process\n",
    " \n",
    "from pathlib import Path\n",
    "import os\n",
    "from concurrent.futures import ProcessPoolExecutor\n",
    "\n",
    "import classes"
   ]
  },
  {
   "cell_type": "code",
   "execution_count": null,
   "metadata": {},
   "outputs": [],
   "source": [
    "#build classes and attribute dictionary to interrogate bigTable\n",
    "classes_field_dict = {}\n",
    "for k, v in classes.__dict__.items(): \n",
    "    if  ('classes.' in str(v)) and (str(k).startswith('__') == False):\n",
    "        classes_field_dict[k] = [f'_{att}' for att in v.__dict__.keys() if \n",
    "                                 str(att).startswith('__') == False\n",
    "                                and type(v.__dict__[att]) == property\n",
    "                                and str(att) != 'events' ]\n",
    "        if (str(k) in ['Event', 'Patient']) == False:\n",
    "            classes_field_dict[k].extend(classes_field_dict['Event'])\n",
    "        \n",
    "        if (str(k) in ['Patient']) == False:\n",
    "            classes_field_dict[k].extend(['_patient_id', '_p_id', '_age', '_gender'])\n",
    "        classes_field_dict[k] = list(set(classes_field_dict[k]))\n",
    "    \n",
    "classes_field_dict"
   ]
  },
  {
   "cell_type": "code",
   "execution_count": null,
   "metadata": {},
   "outputs": [],
   "source": [
    "csv_dir = Path('out_EDA/csv')\n",
    "if not os.path.exists(csv_dir):\n",
    "    os.makedirs(csv_dir)\n",
    "\n",
    "str(csv_dir)"
   ]
  },
  {
   "cell_type": "code",
   "execution_count": null,
   "metadata": {},
   "outputs": [],
   "source": [
    "DT = dt.Frame(\"out_EDA/bigTable.jay\")\n",
    "dt.unique(DT[:,f._event_type]).to_csv('event_types.csv')\n"
   ]
  },
  {
   "cell_type": "code",
   "execution_count": null,
   "metadata": {},
   "outputs": [],
   "source": [
    "event_types_classes = pd.read_csv(\"event_types.csv\")\n",
    "def map_class(x):\n",
    "    if 'Lab' in x:  return 'Lab'\n",
    "    if 'State' in x:  return 'Event' \n",
    "    if 'VS' in x: return 'Vs'\n",
    "    if 'Text' in x: return 'Report'\n",
    "    if 'CHEST' in x: return 'Image'\n",
    "    if 'Fluid' in x: return 'Medication'\n",
    "    return x\n",
    "\n",
    "event_types_classes['class'] = event_types_classes._event_type.apply(lambda x: map_class(x))\n",
    "event_types_classes.to_csv('event_types_clases.csv')"
   ]
  },
  {
   "cell_type": "code",
   "execution_count": null,
   "metadata": {},
   "outputs": [],
   "source": [
    "df = DT.to_pandas()\n",
    "df._start_date = pd.to_datetime(df._start_date) "
   ]
  },
  {
   "cell_type": "code",
   "execution_count": null,
   "metadata": {},
   "outputs": [],
   "source": [
    "df._end_date = pd.to_datetime(df._end_date, errors = 'ignore') "
   ]
  },
  {
   "cell_type": "code",
   "execution_count": null,
   "metadata": {},
   "outputs": [],
   "source": [
    "df['_p_id'] = None\n",
    "patients_df = df[classes_field_dict['Patient']].drop_duplicates().reset_index()"
   ]
  },
  {
   "cell_type": "code",
   "execution_count": null,
   "metadata": {},
   "outputs": [],
   "source": [
    "#profile each class\n",
    "profile = False\n",
    "if profile:\n",
    "    from pandas_profiling import ProfileReport\n",
    "    profile = ProfileReport(patients_df,  pool_size = 32)            \n",
    "    profile.to_file(f'out_EDA/Patient.html')\n",
    "\n",
    "    #profile = ProfileReport(df, minimal=True, pool_size = 32)\n",
    "    for i,r in event_types_classes.to_pandas().iterrows():\n",
    "        event_type = r._event_type\n",
    "        fields = classes_field_dict[r['class']]\n",
    "        print(event_type, fields)\n",
    "        df_ = DT[(f._event_type == event_type),fields].to_pandas()\n",
    "        print(f'Starting to profile: {event_type} size {df.shape}')\n",
    "        try:\n",
    "            profile = ProfileReport(df_,  pool_size = 32)\n",
    "            profile.to_file(f'out_EDA/{event_type}.html')\n",
    "        except: \n",
    "            print(f'skipped {event_type}')\n",
    "   "
   ]
  },
  {
   "cell_type": "code",
   "execution_count": null,
   "metadata": {},
   "outputs": [],
   "source": [
    "patients_df['_p_id'] = patients_df.index\n",
    "p_dict = patients_df[[ '_patient_id', '_p_id']].set_index('_patient_id').to_dict()['_p_id']\n"
   ]
  },
  {
   "cell_type": "code",
   "execution_count": null,
   "metadata": {},
   "outputs": [],
   "source": [
    "#compress patient id to int in field _p_id\n",
    "def f(x):\n",
    "    i = p_dict[x]\n",
    "    \n",
    "    return i\n",
    "\n",
    "df['_p_id'] = df._patient_id.apply(lambda x: f(x))\n"
   ]
  },
  {
   "cell_type": "code",
   "execution_count": null,
   "metadata": {},
   "outputs": [],
   "source": [
    "#load events of different types in a dictionary of df (df_dict)\n",
    "df_dict = {}\n",
    "for i,r in event_types_classes.iterrows():\n",
    "        event_type = r._event_type\n",
    "        fields = classes_field_dict[r['class']]\n",
    "        df_dict[event_type] = df.loc[df._event_type == event_type, fields]"
   ]
  },
  {
   "cell_type": "code",
   "execution_count": null,
   "metadata": {},
   "outputs": [],
   "source": [
    "df_dict.keys()"
   ]
  },
  {
   "cell_type": "code",
   "execution_count": null,
   "metadata": {},
   "outputs": [],
   "source": [
    "dx = pd.DataFrame(df_dict['Diagnosis'][['_event_value', '_desc']].value_counts())\n",
    "dx = dx.reset_index()\n",
    "print(dx.shape[0])\n",
    "dx.to_csv('Terminology/icd_dx_counts.tsv')"
   ]
  },
  {
   "cell_type": "code",
   "execution_count": null,
   "metadata": {},
   "outputs": [],
   "source": [
    "covid_rel_dx = pd.read_csv('Terminology/icd_covid_dx_counts.csv') #after manual selection of covid related dx\n",
    "covid_rel_dx = covid_rel_dx.reset_index()\n",
    "print(covid_rel_dx.shape[0])\n",
    "covid_rel_dx['dx_cx'] = covid_rel_dx.apply(lambda x: 'x' if 'x' in x.values else None , axis = 1)\n",
    "\n",
    "l_covid_dx = covid_rel_dx[covid_rel_dx.dx_cx == 'x']._event_value.values\n",
    "\n",
    "l_covid_dx"
   ]
  },
  {
   "cell_type": "code",
   "execution_count": null,
   "metadata": {},
   "outputs": [],
   "source": [
    "#check if new icd dx coded added \n",
    "new = list(set(df_dict['Diagnosis'][['_event_value', '_desc']]._event_value.unique()) - set(covid_rel_dx._event_value.unique()) )\n",
    "new"
   ]
  },
  {
   "cell_type": "code",
   "execution_count": null,
   "metadata": {},
   "outputs": [],
   "source": [
    "l_covid_image = ['C0277877', 'C2073538', 'C3544344', 'C2073672','C2073583', 'C1332240', \n",
    "                   'C0521530', 'C3669021', 'C3669021', \n",
    "                   'C1443940', 'C0032285', 'C1412002', 'C0032310', 'C5203670', 'C5203671']"
   ]
  },
  {
   "cell_type": "code",
   "execution_count": null,
   "metadata": {},
   "outputs": [],
   "source": [
    "cov_df =  df_dict['Lab Sars-cov-2']\n",
    "cov_df[cov_df._test_name== 'PCR']._event_value.unique()"
   ]
  },
  {
   "cell_type": "code",
   "execution_count": null,
   "metadata": {},
   "outputs": [],
   "source": [
    "image_event_types = ['CHEST CT', 'CHEST x-ray']"
   ]
  },
  {
   "cell_type": "code",
   "execution_count": null,
   "metadata": {},
   "outputs": [],
   "source": [
    "\n",
    "def covid_cui(x):\n",
    "    if not pd.isna(x): \n",
    "        x = x.replace('[','').replace(']','').split(',')\n",
    "        covid_cuis = [str(cui)  for cui in x if cui in l_covid_image]\n",
    "        result = covid_cuis if len(covid_cuis) > 0 else False\n",
    "        \n",
    "    return result\n",
    "df['covid_image'] = False\n",
    "df.loc[df._event_type.isin(image_event_types),['covid_image']] = df[df._event_type.isin(image_event_types)]._cui_list.apply(lambda x: covid_cui(x))\n"
   ]
  },
  {
   "cell_type": "code",
   "execution_count": null,
   "metadata": {},
   "outputs": [],
   "source": [
    "prior_im = pd.read_csv('../Rx-thorax-automatic-captioning/Labels_covid_12.csv')\n",
    "prior_im.PatientID.nunique()"
   ]
  },
  {
   "cell_type": "code",
   "execution_count": null,
   "metadata": {},
   "outputs": [],
   "source": [
    "im = pd.read_csv('../Rx-thorax-automatic-captioning/Labels_covid_pharma.csv')\n",
    "im.PatientID.nunique()"
   ]
  },
  {
   "cell_type": "code",
   "execution_count": null,
   "metadata": {},
   "outputs": [],
   "source": [
    "df[df._event_type.isin(image_event_types)]._p_id.nunique()"
   ]
  },
  {
   "cell_type": "code",
   "execution_count": null,
   "metadata": {},
   "outputs": [],
   "source": [
    "df._p_id.nunique()"
   ]
  },
  {
   "cell_type": "code",
   "execution_count": null,
   "metadata": {},
   "outputs": [],
   "source": [
    "len( set(df._patient_id.unique()) & set(im.PatientID.unique()) )"
   ]
  },
  {
   "cell_type": "code",
   "execution_count": null,
   "metadata": {},
   "outputs": [],
   "source": [
    "x = df\n",
    "discharge = x[((x._event_type == 'State Discharge') )]._event_value\n",
    "discharge.unique()"
   ]
  },
  {
   "cell_type": "code",
   "execution_count": null,
   "metadata": {},
   "outputs": [],
   "source": [
    "\n",
    "ox = x[(x._event_type == 'Oxigen')]._method\n",
    "for m in ox.unique():\n",
    "    print(m)\n",
    "    print(x[(x._event_type == 'Oxigen') & (x._method == m)]._event_value.value_counts())\n"
   ]
  },
  {
   "cell_type": "code",
   "execution_count": null,
   "metadata": {},
   "outputs": [],
   "source": [
    "oxygen_dic = pd.read_csv('Terminology/umls_oxygen_techniques.tsv', index_col = 0, header = None).to_dict('index')\n",
    "oxygen_dic_rev = {sk : k.split('\\t')[0] for k in oxygen_dic.keys() for sk in k.lower().split('\\t')[1:] }\n",
    "\n",
    "oxygen_dic = { k.split('\\t')[0]:  k.lower().split('\\t')[1:] for k in oxygen_dic.keys()  }\n",
    "oxygen_dic"
   ]
  },
  {
   "cell_type": "code",
   "execution_count": null,
   "metadata": {},
   "outputs": [],
   "source": [
    "oxigen_low = ['C0740087', 'C0181744']\n",
    "oxigen_high = ['C1960097', 'C0180824', 'C0182123', 'C1960094', 'C0419003', 'C0021925', 'C0877798', 'C0015357'] #note: non-invasive mechanical ventilation (C0419003) is included as high flow as a simplification to help with 'who' outcome scale calculations, VMX is excluded (it requires fiO2 > 50% to be considered high flow device)\n",
    "oxigen_pot_high = ['C1960097', 'C0181748' , 'C0180824', 'C0182123', 'C1960094', 'C0419003', 'C0021925', 'C0877798', 'C0015357'] #note: non-invasive mechanical ventilation (C0419003) is included as high flow as a simplification to help with 'who' outcome scale calculations "
   ]
  },
  {
   "cell_type": "code",
   "execution_count": null,
   "metadata": {},
   "outputs": [],
   "source": [
    "df['oxigen_method'] = np.nan"
   ]
  },
  {
   "cell_type": "code",
   "execution_count": null,
   "metadata": {},
   "outputs": [],
   "source": [
    "import unidecode\n",
    "df.loc[df._event_type== 'Oxigen',['oxigen_method']] = df[df._event_type== 'Oxigen']._method.apply(lambda x: oxygen_dic_rev[unidecode.unidecode(str(x)).lower()] if str(x).lower() in oxygen_dic_rev else np.nan )\n",
    "df.oxigen_method.value_counts()"
   ]
  },
  {
   "cell_type": "code",
   "execution_count": 400,
   "metadata": {},
   "outputs": [
    {
     "name": "stderr",
     "output_type": "stream",
     "text": [
      "/home/auri/anaconda3/envs/nlpMED/lib/python3.7/site-packages/pandas/core/strings.py:2001: UserWarning: This pattern has match groups. To actually get the groups, use str.extract.\n",
      "  return func(self, *args, **kwargs)\n"
     ]
    },
    {
     "data": {
      "text/plain": [
       "C0740087    4433\n",
       "C0181748     832\n",
       "C0181744     563\n",
       "C0182123     394\n",
       "C0419003       7\n",
       "Name: oxigen_method, dtype: int64"
      ]
     },
     "execution_count": 400,
     "metadata": {},
     "output_type": "execute_result"
    }
   ],
   "source": [
    "df.loc[(df._event_type== 'VS')  & (x._vs_name.str.lower().str.contains(\n",
    "    '(metodo de administra|tipo oxigeno|oxigenoterapia|o2 suplem)', regex = True)),['oxigen_method']] = df[\n",
    "    (df._event_type== 'VS')  & (x._vs_name.str.lower().str.contains(\n",
    "    '(metodo de administra|tipo oxigeno|oxigenoterapia|o2 suplem)', regex = True))]._event_value.apply(lambda x: oxygen_dic_rev[unidecode.unidecode(str(x)).lower()] if str(x).lower() in oxygen_dic_rev else np.nan  )\n",
    "df.oxigen_method.value_counts()"
   ]
  },
  {
   "cell_type": "code",
   "execution_count": 401,
   "metadata": {
    "scrolled": true
   },
   "outputs": [
    {
     "data": {
      "text/plain": [
       "array(['Temperatura', 'Volumen de oxigeno', 'TA Diastolica',\n",
       "       'Frecuencia cardiaca', 'Saturacion O2', 'TA Sistolica', 'Oxigeno',\n",
       "       'Tipo Frecuencia cardiaca', 'Tipo toma temperatura',\n",
       "       'Frecuencia respiratoria', 'Metodo de administracion de Oxigeno',\n",
       "       'Glucemia digital', 'Insulina rapida', 'Glucemia (Tipo D)',\n",
       "       'Deposiciones', 'Diuresis 24h', 'Insulina lenta', 'Dieta pautada',\n",
       "       'Diuresis Turno', 'Glucemia', 'Turno', 'Nivel de consciencia',\n",
       "       'Observaciones', 'Cambio panal', 'O2 Suplementario', 'Dolor',\n",
       "       'Talla', 'Peso', 'Perimetro abdominal', 'Indice Masa Corporal',\n",
       "       'Recogida de orina', 'Diuresis', 'Aseo de paciente',\n",
       "       'Cambios posturales', 'Metrorragia', 'Tolerancia',\n",
       "       'Estado de la piel', 'Efectividad enema', 'Enema de limpieza',\n",
       "       'Vol. SNG', 'Volumen ingesta', 'Drenaje', 'Vomito', 'Vol. Ostomia',\n",
       "       'Ostomia', 'Volumen drenado', 'MP Entrada', 'Matin Palanca Salida',\n",
       "       'Martin Palanca Balance', 'Glasgow motor', 'Glasgow ojos',\n",
       "       'Glasgow verbal', 'Glasgow total', 'Obs. Dren.', 'Dieta Ingerida',\n",
       "       'Micciones', 'Aspecto Deposiciones', 'Lac. Materna',\n",
       "       'Volumen drenado por turno', 'Insulina', 'Tipo Insulina',\n",
       "       'Vol. Dren. 1', 'Tipo Dren. 1', 'Sonda nasogastrica',\n",
       "       'Caracteristicas del contenido del estoma', 'Perdida Peso',\n",
       "       'Tipo Dren. 2', 'Vol. Dren. 2', 'Perimetro Abdominal',\n",
       "       'Diuresis (Neumologia)', 'FiO2 (%)', 'Descenso fetal',\n",
       "       'Ventilacion mecanica (Neumologia)', 'Tipo Drenaje', 'Balance',\n",
       "       'Vomitos', 'Respiratorio', 'Oral', 'Medicacion', 'Hemocultivos',\n",
       "       'Perfusiones', 'Femta', 'Fiebre', 'Aspiracion', 'nan', 'Cetonemia',\n",
       "       'Escala de Cincinnatti', 'Lenguaje confuso, erroneo o ausente',\n",
       "       'Movimiento de extremidades Asimetrico', 'Asimetria Facial',\n",
       "       'Dieta', 'Aislamiento', 'Ayuda aseo', 'Ayuda comer',\n",
       "       'Ayuda deambular', 'Ayuda familiar', 'Panal', 'Obs. dieta',\n",
       "       'Sonda Vesical', 'Recogida muestras', 'S.N.G', 'Salidas (ml)',\n",
       "       'Ulceras', 'Entradas (ml)', 'Lavado SV', 'Enema', 'Tipo Oxigeno',\n",
       "       'Cambio postural/hora', 'Panales', 'Higiene hos', 'Dieta Hos',\n",
       "       'Dependencia', 'Reposo absoluto hos', 'Acompanante', 'Colector',\n",
       "       'Deambulacion hos', 'Levantar/hora', 'Deposiciones hos',\n",
       "       'Inicio tolerancia oral', 'Tipo de enema',\n",
       "       'Enema (efectivo/no efectivo)', 'Biberon Prescito',\n",
       "       'Biberon Tomado', 'Otros', 'Perimetro encefalico', 'Lactancia',\n",
       "       'Valoracion ingesta', 'Glucemia hos', 'Vol. drenaje 1 (cc)',\n",
       "       'Tipo drenaje 1', 'Diuresis Total', 'Insulina Rapida',\n",
       "       'Prevencion UPP', 'Aspecto hos', 'Insulina rapida correctora',\n",
       "       'Acostar/hora', 'Movilidad hos', 'Ayunas', 'Cabecero',\n",
       "       'Recogida de muestras', 'RH madre', 'Grupo RN', 'Ropa cama',\n",
       "       'Higiene/Bano', 'Bano Antiseptico', 'Higiene Bucal', 'Rasurado',\n",
       "       'Retirada Joyas', 'Globo uterino', 'Sangrado vaginal',\n",
       "       'Curas episiotomias', 'COL. OTRAS TECNICAS',\n",
       "       'COL. TEC. ENFERMERIA', 'DESVESTIR', 'Retirada Protesis Dental',\n",
       "       'Reposo absoluto', 'Deambulacion', 'Sedestacion', 'Vol. O2 VMNI',\n",
       "       'LABSTIX', 'Tipo drenaje 2', 'Sat O2 (pie)', 'Cura ombligo',\n",
       "       'miccion', 'Sonda Paralela Tomado', 'Sonda Paralela Prescrito',\n",
       "       'Antiseptico Zona Quirurgica', 'Retirada Esmalte Unas',\n",
       "       'Enema (si/no)', 'Grupo materno', 'Lavados', 'RH recien nacido',\n",
       "       'Peso hos', 'Diuresis cualitativa', 'Resopon', 'Diuresis (ml)',\n",
       "       'Desayuno', 'Comida', 'Merienda', 'Cena',\n",
       "       'Indicar si se han cursado solicitudes', 'TA Media',\n",
       "       'Escala Alerta O2 suplementario',\n",
       "       'Escala Alerta nivel de conciencia', 'Escala Alerta', 'Fluidos',\n",
       "       'Glasgow', 'Cetonuria', 'Glucosuria', 'Hematuria',\n",
       "       'Leucocitos orina', 'Proteinuria', 'Densidad orina', 'ph orina',\n",
       "       'Cantidad de residuo gastrico por sonda nasogastrica.',\n",
       "       'Diuresis (g)', 'Indice de masa corporal',\n",
       "       'Peso hace 3 mese referido por el paciente', 'Balance por turno',\n",
       "       'Nutricion enteral', 'Perimetro cefalico',\n",
       "       'Diuresis Nefrostomia Izquierda (ml)', 'Balance total',\n",
       "       '[] de hematies', 'Plaquetas',\n",
       "       'Descripcion del aspecto de la orina', 'Tipo Diuresis',\n",
       "       'Volumen drenado 1', 'Tipo Drenaje 1', 'Aspecto dren. 1',\n",
       "       'Test COVID-19', 'Tipo insulina', 'Oxigenoterapia', 'Riesgo caida',\n",
       "       'Deposicion', 'International Normalised Ratio', 'Sonda vesical',\n",
       "       'Tipo drenaje', 'Relacion presion arterial O2 y FiO2',\n",
       "       'Relacion SatO2 y FiO2', 'Fraccion inspiratoria O2',\n",
       "       'Lavados salida', 'Grado dependencia', 'Lavados entrada (cc)',\n",
       "       'Sonda Nasogastrica', 'Modo ventilacion', 'Sujecion mecanica',\n",
       "       'Aseo paciente', 'Observacion deposiciones',\n",
       "       'Control deposiciones', 'Enema limpieza',\n",
       "       'Ayuda a comer al paciente', 'Observacion diuresis',\n",
       "       'Control diuresis', 'Encamar paciente', 'Contencion fisica',\n",
       "       'Prevencion caidas', 'Recogida de Muestras',\n",
       "       'Cuidados post morten', 'Tipo Diuresis2', 'Vol. drenaje',\n",
       "       'Tipo Diuresis3', 'Tolerancia Oral', 'Control ingesta',\n",
       "       'Vol. Diuresis2', 'Colector urinario', 'Insulina2',\n",
       "       'Tipo Insulina2', 'Preparacion para quirofano', 'Vol. drenaje2',\n",
       "       'Tipo drenaje2', 'Vol. Diuresis3', 'Observacion ingesta',\n",
       "       'Alimentacion enteral por Sonda', 'Pertenencias',\n",
       "       'Medios fisicos control Ta', 'Dolor (URPA)', 'EVA (0-10)',\n",
       "       'Escala de Aldrete', 'Colchon Antiescaras S/N', 'No Deposiciones',\n",
       "       'Fluidos (cc)', 'No de micciones', 'Enema S/N',\n",
       "       'Tipo Deposiciones', 'Higiene/hidratacion', 'VolO2', 'O2 suplem.',\n",
       "       'Tipo de Enema', 'Enema efectivo', 'Esc.Braden', 'Riesgo UPP',\n",
       "       'AGHO', 'Taloneras', 'Tipo diuresis', 'Colchon antiescaras',\n",
       "       'DIURESIS', 'Coprocultivo', 'Ingesta', 'Higiene bucal',\n",
       "       'Hemocultivo', 'Aspecto deposiciones', 'Tipo de ingesta', 'Esputo',\n",
       "       'Tipo Alimentacion', 'Diuresis Lactantes', 'No deposiciones',\n",
       "       'Tipo leche', 'Tipo deposicion', 'Apetito', 'Fluidoterapia',\n",
       "       'Perdidas insensibles', 'SNG', 'Bote', 'Insulina 2',\n",
       "       'Tipo Insulina 2', 'Hemocultivo 1c', 'Nefrostomia I', 'Urostomia',\n",
       "       'Perim Cefalico', 'Perim Brazo Derecho', 'Perimetro Toracico',\n",
       "       'Drenaje 1', 'N. Enteral', 'Peso (gr)'], dtype=object)"
      ]
     },
     "execution_count": 401,
     "metadata": {},
     "output_type": "execute_result"
    }
   ],
   "source": [
    "x[(x._event_type == 'VS')]._vs_name.unique()"
   ]
  },
  {
   "cell_type": "code",
   "execution_count": null,
   "metadata": {},
   "outputs": [],
   "source": [
    "ox_vs = x[((x._event_type == 'VS')  & (x._vs_name.str.lower().str.contains(\n",
    "    '(o2|oxig)', regex = True)))]._vs_name\n",
    "for o in ox_vs.unique():\n",
    "    print(o)\n",
    "    print(x[((x._event_type == 'VS')  & (x._vs_name == o))]._event_value.value_counts())"
   ]
  },
  {
   "cell_type": "code",
   "execution_count": null,
   "metadata": {},
   "outputs": [],
   "source": [
    "df['fiO2'] = np.nan\n",
    "df.loc[df._event_type== 'Oxigen',['fiO2']] = df[df._event_type== 'Oxigen']._event_value.apply(lambda x: float(x))\n",
    "df.fiO2.describe()"
   ]
  },
  {
   "cell_type": "code",
   "execution_count": null,
   "metadata": {},
   "outputs": [],
   "source": [
    "df.loc[(df._event_type== 'VS')& (df._vs_name == 'Volumen de oxigeno'),['fiO2']] = df[(df._event_type== 'VS')& (df._vs_name == 'Volumen de oxigeno')]._event_value.apply(lambda x: 21 + (float(x) * 4) if float(x) <21 else float(x))\n",
    "df.fiO2.describe() #fiO2 should be >= 21% - 100%"
   ]
  },
  {
   "cell_type": "code",
   "execution_count": null,
   "metadata": {},
   "outputs": [],
   "source": [
    "df.loc[(df._event_type== 'VS')& (df._vs_name == 'Oxigeno'),['fiO2']] = df[(df._event_type== 'VS')& (df._vs_name == 'Oxigeno')]._event_value.apply(lambda x: 21 if str(x).startswith('Sin ') else np.nan )\n",
    "df.fiO2.describe() #if patient is reported as \"Sin Oxigeno\"  then FiO2 = 21%"
   ]
  },
  {
   "cell_type": "code",
   "execution_count": null,
   "metadata": {},
   "outputs": [],
   "source": [
    "df.loc[(df._event_type== 'VS')& (df._vs_name == 'O2 Suplementario'),['fiO2']] = df[(df._event_type== 'VS')& (df._vs_name == 'O2 Suplementario')]._event_value.apply(lambda x: 21 if str(x) == 'NO' else np.nan )\n",
    "df.fiO2.describe() #if patient is reported as \"No\" in \"O2 Suplementario\" then FiO2 = 21%"
   ]
  },
  {
   "cell_type": "code",
   "execution_count": null,
   "metadata": {},
   "outputs": [],
   "source": [
    "df.loc[(df._event_type== 'VS')& (df._vs_name.str.startswith('FiO2')),['fiO2']] = df[(df._event_type== 'VS')&(df._vs_name.str.startswith('FiO2'))]._event_value.apply(lambda x: float(x) if float(x) else np.nan)  \n",
    "df.fiO2.describe() #add reported FiO2"
   ]
  },
  {
   "cell_type": "code",
   "execution_count": null,
   "metadata": {},
   "outputs": [],
   "source": [
    "df[pd.isna(df.fiO2) == False]._p_id.nunique()"
   ]
  },
  {
   "cell_type": "code",
   "execution_count": null,
   "metadata": {},
   "outputs": [],
   "source": [
    "df[pd.isna(df.oxigen_method) == False]._p_id.nunique()"
   ]
  },
  {
   "cell_type": "code",
   "execution_count": null,
   "metadata": {},
   "outputs": [],
   "source": [
    "df[pd.isna(df.fiO2) == False].groupby(['_health_dep']).count()"
   ]
  },
  {
   "cell_type": "code",
   "execution_count": null,
   "metadata": {},
   "outputs": [],
   "source": [
    "print(x[(x._event_type == 'State Discharge')]._event_value.unique())\n",
    "discharge_dict = {}\n"
   ]
  },
  {
   "cell_type": "code",
   "execution_count": null,
   "metadata": {},
   "outputs": [],
   "source": [
    "df.loc[(df._event_type == 'Scale') &  (df._scale_name == 'BARTHEL')]._event_value.unique()"
   ]
  },
  {
   "cell_type": "code",
   "execution_count": null,
   "metadata": {},
   "outputs": [],
   "source": [
    "df['barthel'] = np.nan\n",
    "df.loc[(df._event_type == 'Scale') &  (df._scale_name == 'BARTHEL'), ['barthel']] = df[\n",
    "    (df._event_type == 'Scale') &  (df._scale_name == 'BARTHEL')]._event_value.apply(lambda x: int(str(x).split('/')[0]) if not pd.isna(x) else np.na)\n",
    "df[pd.isna(df.barthel) == False]._p_id.nunique()"
   ]
  },
  {
   "cell_type": "code",
   "execution_count": null,
   "metadata": {},
   "outputs": [],
   "source": [
    "df.loc[(df._event_type == 'Scale') &  (df._scale_name == 'SOFA')]._event_value.unique()"
   ]
  },
  {
   "cell_type": "code",
   "execution_count": null,
   "metadata": {},
   "outputs": [],
   "source": [
    "df['sofa'] = np.nan\n",
    "df.loc[(df._event_type == 'Scale') &  (df._scale_name == 'SOFA'), ['sofa']] = df[\n",
    "    (df._event_type == 'Scale') &  (df._scale_name == 'SOFA')]._event_value.apply(lambda x: int(str(x).split('/')[0]) if not pd.isna(x) else np.na)\n",
    "df[pd.isna(df.sofa) == False]._p_id.nunique()"
   ]
  },
  {
   "cell_type": "code",
   "execution_count": null,
   "metadata": {},
   "outputs": [],
   "source": [
    "df.loc[(df._event_type == 'Scale') &  (df._scale_name == 'GLASGOW')]._event_value.unique()"
   ]
  },
  {
   "cell_type": "code",
   "execution_count": null,
   "metadata": {},
   "outputs": [],
   "source": [
    "df['glasgow'] = np.nan\n",
    "df.loc[(df._event_type == 'Scale') &  (df._scale_name == 'GLASGOW'), ['glasgow']] = df[\n",
    "    (df._event_type == 'Scale') &  (df._scale_name == 'GLASGOW')]._event_value.apply(lambda x: int(str(x).split('/')[0]) if not pd.isna(x) else np.na)\n",
    "df[pd.isna(df.glasgow) == False]._p_id.nunique()"
   ]
  },
  {
   "cell_type": "code",
   "execution_count": null,
   "metadata": {},
   "outputs": [],
   "source": [
    "x[((x._event_type == 'State Bed'))]._event_value.unique()"
   ]
  },
  {
   "cell_type": "code",
   "execution_count": null,
   "metadata": {},
   "outputs": [],
   "source": [
    "synonym_icu = '(?:UCI|INTENSI|REA)'\n",
    "uci_patients = x[((x._event_type == 'State Bed') & (x._event_value.str.contains(synonym_icu)  ))]._p_id.unique()\n",
    "len(uci_patients)"
   ]
  },
  {
   "cell_type": "code",
   "execution_count": null,
   "metadata": {},
   "outputs": [],
   "source": [
    "df.columns"
   ]
  },
  {
   "cell_type": "code",
   "execution_count": null,
   "metadata": {},
   "outputs": [],
   "source": [
    "def who_out_scale(x, eval_date):\n",
    "    in_date = x.iloc[0]._start_date\n",
    "    \n",
    "    out_date = x.iloc[-1]._start_date\n",
    "    verbose = False\n",
    "    if verbose:\n",
    "        print(in_date, out_date)\n",
    "        print(f'date outcome evaluation: {eval_date}')\n",
    "        print(x[pd.isna(x.fiO2) == False][['_start_date', '_event_value', 'fiO2']])\n",
    "        print(x.oxigen_method.unique())\n",
    "    \n",
    "    #Scale- the WHO COVID Outcomes Scale: Used as primary efficacy outcome of treatments. The primary outcome defined as clinical status 14 days after admission \n",
    "    #assessed with a 7-category ordinal scale  recommended by the World Health Organization (at baseline, 7 and at 14 days or discharge -whatever occurs first): \n",
    "    #https://www.tandfonline.com/doi/full/10.1080/19466315.2020.1811148 \n",
    "    #Definition of category in Cao et al. (2020)\n",
    "    #7, death; \n",
    "    #6, hospitalized, receiving extracorporeal membrane oxygenation (ECMO) or invasive mechanical ventilation; \n",
    "    #5, hospitalized, receiving noninvasive mechanical ventilation or nasal high-flow oxygen therapy; \n",
    "    #4, hospitalized, receiving supplemental oxygen without positive pressure or high flow; \n",
    "    #3, hospitalized, not receiving supplemental oxygen; \n",
    "    #2, not hospitalized and unable to perform normal activities; \n",
    "    #1, not hospitalized and able to perform normal activities. \n",
    "    \n",
    "    \n",
    "    \n",
    "     #ICU \n",
    "    if verbose:\n",
    "        print(x[((x._event_type == 'State Bed') & (x._event_value.str.contains(synonym_icu)))]._end_date )\n",
    "    \n",
    "    date_icu_in = x[((x._event_type == 'State Bed') & (x._event_value.str.contains(synonym_icu) )& (x._start_date >= in_date ) & (x._start_date <= eval_date ))]._start_date\n",
    "    date_icu_out = x[((x._event_type == 'State Bed') & (x._event_value.str.contains(synonym_icu)) & (x._start_date >= in_date ) & (x._start_date <= eval_date ))]._end_date\n",
    "    if not date_icu_in.empty:\n",
    "        date_icu_in = date_icu_in.iloc[0]\n",
    "    else: \n",
    "        date_icu_in = None\n",
    "        \n",
    "    if not date_icu_out.empty: #assume only one ICU admission\n",
    "        date_icu_out = date_icu_out.iloc[-1]\n",
    "    else: \n",
    "        date_icu_out = None\n",
    "    \n",
    "    \n",
    "    #discharge \n",
    "    discharge = x[((x._event_type == 'State Discharge') & (x._start_date >= in_date ) & (x._start_date <= eval_date ))]\n",
    "    #Fatal\n",
    "    fatal = False\n",
    "    date_death = None\n",
    "    if not discharge[discharge._event_value.isin( ['Éxitus', 'In extremis'])].empty: \n",
    "        date_death = discharge[discharge._event_value.isin( ['Éxitus', 'In extremis'])].iloc[0]._start_date\n",
    "        fatal = True \n",
    "       \n",
    "    #Critic \n",
    "    critic = fatal or pd.isnull(date_icu_in) == False\n",
    "        \n",
    "    \n",
    "    \n",
    "    #Oxygens from in_date to outcome date (high flow = if > 50% FiO2 or (-when FiO2 is not present-) if patient has a potentially high-flow device)\n",
    "    ox_high_device =  x[(x.oxigen_method.isin(oxigen_high) & (x._start_date <= eval_date ) )]._start_date \n",
    "    if not ox_high_device.empty:\n",
    "        ox_high_device = ox_high_device.iloc[-1]\n",
    "    else: \n",
    "        ox_high_device = None\n",
    "        \n",
    "    ox_high_fio2 = x[(x.fiO2 >= 50) &  (x._start_date <= eval_date )]._start_date \n",
    "    if not ox_high_fio2.empty:\n",
    "        ox_high_fio2 = ox_high_fio2.iloc[-1]\n",
    "    else:\n",
    "        ox_high_fio2 = None\n",
    "        \n",
    "    ox_low_fio2 =x[(x.fiO2 < 50) & (x.fiO2 > 21)& (x._start_date <= eval_date )]._start_date \n",
    "    if not ox_low_fio2.empty:\n",
    "        ox_low_fio2 = ox_low_fio2.iloc[-1] \n",
    "    else:\n",
    "        ox_low_fio2 = None\n",
    "    \n",
    "    ox_low_device =  x[(x.oxigen_method.isin(oxigen_low) & (x._start_date <= eval_date ))]._start_date \n",
    "    if not ox_low_device.empty:\n",
    "        ox_low_device = ox_low_device.iloc[-1]\n",
    "    else :\n",
    "        ox_low_device = None\n",
    "    \n",
    "    \n",
    "    \n",
    "    who_covid_out = None\n",
    "    if date_death and date_death <= eval_date:\n",
    "        who_covid_out = 7\n",
    "    elif pd.isnull(date_icu_in) == False  and ((date_icu_in <= eval_date) and  pd.isnull(date_icu_out)):\n",
    "        who_covid_out = 6\n",
    "    elif ox_high_device and not ox_low_device : \n",
    "        who_covid_out = 5\n",
    "    elif ox_high_fio2 and not ox_low_fio2:\n",
    "        who_covid_out = 5\n",
    "    elif (ox_high_device and  ox_low_device) and (ox_high_device >= ox_low_device ):\n",
    "        who_covid_out = 5    \n",
    "    elif (ox_high_fio2 and  ox_low_fio2) and (ox_high_fio2 >= ox_low_fio2):\n",
    "        who_covid_out = 5\n",
    "    elif discharge.empty and (ox_low_fio2 or ox_low_device):\n",
    "        who_covid_out = 4\n",
    "    elif discharge.empty or not discharge[discharge._event_value.isin(['Traslado Hospital de agudos'])].empty  : #still hospitalized\n",
    "        who_covid_out = 3 \n",
    "    elif not discharge[discharge._event_value.isin(['Traslado Residencia o Centro Socio-Sanitario asistido', \n",
    "                                      'Unidad de Hospitalización a domicilio', 'Traslado Hospital Media larga estancia' ])].empty:\n",
    "        who_covid_out = 2\n",
    "    else:\n",
    "        who_covid_out = 1\n",
    "    \n",
    "    if verbose:\n",
    "        print(out_date)\n",
    "        print(discharge)\n",
    "    return who_covid_out\n",
    "\n"
   ]
  },
  {
   "cell_type": "code",
   "execution_count": null,
   "metadata": {},
   "outputs": [],
   "source": [
    "for n_days in range(1,6):\n",
    "    who_out = df[df._p_id == 100].groupby('_p_id').apply(lambda y: who_out_scale(y, y.iloc[0]._start_date +  datetime.timedelta(n_days)))\n",
    "    print(f'outcome day {n_days}, WHO score {who_out.iloc[0]}')"
   ]
  },
  {
   "cell_type": "code",
   "execution_count": null,
   "metadata": {},
   "outputs": [],
   "source": [
    "def fiO2(x, eval_date, method = 'basal'): #first val during eval_date day (24 hours)\n",
    "    \n",
    "    in_date = x.iloc[0]._start_date\n",
    "    \n",
    "    out_date = x.iloc[-1]._start_date\n",
    "    verbose = False\n",
    "    if verbose:\n",
    "        print(in_date, out_date)\n",
    "        print(f'date evaluation: {eval_date}')\n",
    "        print(x[pd.isnull(x.fiO2) == False][['_start_date', 'fiO2']])\n",
    "    \n",
    "    result = pd.to_numeric(x[(pd.isnull(x.fiO2) == False) &\n",
    "              (x._start_date >= eval_date - datetime.timedelta(1) ) & (x._start_date <  eval_date )].fiO2, errors = 'coerce')\n",
    "    \n",
    "    if not result.empty: \n",
    "        if method == 'min':\n",
    "            result = result.min()\n",
    "        elif method == 'basal':\n",
    "            result = result.iloc[0]\n",
    "        elif method == 'max':\n",
    "            result = result.max()\n",
    "        elif method == 'mean':\n",
    "            result = result.mean()\n",
    "    else:\n",
    "        result = np.nan\n",
    "        \n",
    "    if verbose:  \n",
    "        print(eval_date)\n",
    "        print(f'result: {result}%')\n",
    "    return result"
   ]
  },
  {
   "cell_type": "code",
   "execution_count": null,
   "metadata": {},
   "outputs": [],
   "source": [
    "synonyms =  '(?:^sat)'\n",
    "x[(x._event_type== 'VS') & (x._vs_name.str.contains(synonyms, case = False))]._event_value.value_counts()"
   ]
  },
  {
   "cell_type": "code",
   "execution_count": 434,
   "metadata": {},
   "outputs": [],
   "source": [
    "cov = x[x._event_type.str.contains('Sars-cov-2', case = False) & (x._event_value.str.contains('POSITIVO' , case = False))]\n",
    "\n"
   ]
  },
  {
   "cell_type": "code",
   "execution_count": 435,
   "metadata": {},
   "outputs": [
    {
     "name": "stdout",
     "output_type": "stream",
     "text": [
      "['PCR' 'IGG' 'IGM' 'ACT' 'ANT']\n",
      "['POSITIVO']\n",
      "['Lab Sars-cov-2']\n"
     ]
    }
   ],
   "source": [
    "print(cov._test_name.unique())\n",
    "print(cov._event_value.unique())\n",
    "print(cov._event_type.unique())"
   ]
  },
  {
   "cell_type": "markdown",
   "metadata": {},
   "source": [
    "## Group lab values based on string similarity and value distribution"
   ]
  },
  {
   "cell_type": "code",
   "execution_count": 396,
   "metadata": {},
   "outputs": [
    {
     "data": {
      "text/plain": [
       "Index(['prueba_lab', 'codigo_nacional', 'select', 'counts'], dtype='object')"
      ]
     },
     "execution_count": 396,
     "metadata": {},
     "output_type": "execute_result"
    }
   ],
   "source": [
    "lab_select = pd.read_csv('Terminology/Lab_selected.csv',  dtype = {'codigo_nacional': str})\n",
    "\n",
    "test_selected = pd.DataFrame(lab_select[lab_select.select == 'x'].groupby(['prueba_lab','codigo_nacional'], dropna = False).first().reset_index())\n",
    "test_selected.columns"
   ]
  },
  {
   "cell_type": "code",
   "execution_count": 321,
   "metadata": {},
   "outputs": [],
   "source": [
    "l = df_dict['Lab']\n",
    "choices = l[(l._test_name.str.contains(r'[+/]', regex = True) == False )]._test_name.value_counts()\n",
    "choices = choices[choices > 100 ] #ignore lab tests with less than 100 observations\n",
    "choices = choices.index"
   ]
  },
  {
   "cell_type": "code",
   "execution_count": 322,
   "metadata": {},
   "outputs": [],
   "source": [
    "l._event_value = pd.to_numeric(l._event_value, errors='coerce')"
   ]
  },
  {
   "cell_type": "code",
   "execution_count": 323,
   "metadata": {},
   "outputs": [],
   "source": [
    "lab_dist = l.groupby(['_test_name','_test_code'])[['_event_value']]\n"
   ]
  },
  {
   "cell_type": "code",
   "execution_count": 357,
   "metadata": {},
   "outputs": [],
   "source": [
    "from scipy import stats\n",
    "from scipy.spatial.distance import jensenshannon\n",
    "import unidecode\n",
    "t = '_test_name'\n",
    "def t_student_differ(lab1, lab2): #two-sided Kolmogorov-Smirnov test for statistical difference between two distributions (True if thery are different)\n",
    "    \n",
    "     #lab1 is a tuple of lab name and lab code\n",
    "    p = None\n",
    "    median_ratio = None\n",
    "    try: \n",
    "        d1 = lab_dist.get_group(lab1)._event_value \n",
    "        d2 = lab_dist.get_group(lab2)._event_value \n",
    "        median_ratio = np.round(d1.median()/d2.median(),2)\n",
    "        d1 = d1.values[~np.isnan(d1.values)]\n",
    "        d2 = d2.values[~np.isnan(d2.values)]\n",
    "\n",
    "        max_len = np.min([len(d1), len(d2)])\n",
    "        p = stats.ttest_ind(d1[:max_len ],d2[:max_len ], equal_var= False)[1] \n",
    "        \n",
    "        #p = jensenshannon(d1[:max_len],d2[:max_len])\n",
    "        p = np.round(p, 2)\n",
    "    except: \n",
    "        print(f'failed: {lab1} {lab2}')\n",
    "        median_ratio = 0\n",
    "        pass\n",
    "    \n",
    "    \n",
    "    return p , median_ratio\n"
   ]
  },
  {
   "cell_type": "code",
   "execution_count": 395,
   "metadata": {
    "scrolled": true
   },
   "outputs": [],
   "source": [
    "save_lab_dic = False\n",
    "if save_lab_dic:\n",
    "    lab_dic = {} #key = tuple (test,code), value = L[(test,code),]\n",
    "    for r in test_selected[:].iterrows():\n",
    "        test = unidecode.unidecode(r[1].prueba_lab)\n",
    "        code = r[1].codigo_nacional\n",
    "\n",
    "        #Apply a 1º level search of synonyms for selected test name\n",
    "        sim = process.extract(test, choices, limit=20)\n",
    "        print(sim)\n",
    "        for it in sim :\n",
    "            if it[1] >= 90: #if text similarity > 90 \n",
    "                codes_sim = l[l._test_name == it[0]]._test_code.unique() #search all codes with same name as it[0]\n",
    "                for c in codes_sim:\n",
    "                    if lab_dic.get((test,code)) and (it[0], str(c)) in lab_dic.get((test,code)): \n",
    "                        continue\n",
    "                    differ =t_student_differ((test,str(code)), (it[0],str(c))) \n",
    "                     #if distributions are not significantly different and does not come from differen samples (orine vs serum)\n",
    "                    if (differ[1] > 0.7) & (differ[1] < 1.3) and not ((('N' in str(c)) & ('K' in str(code))) or (('N' in str(code)) & ('K' in str(c)) )): \n",
    "                        print(test, it[0], differ)\n",
    "                        if lab_dic.get((test,code)): \n",
    "                            lab_dic[(test,code)].extend([(it[0], str(c))])   \n",
    "                        else:\n",
    "                            lab_dic[(test,code)] = [(it[0], str(c))] \n",
    "\n",
    "                        #Apply a 2º level search of synonyms for new added synonym \n",
    "                        new_test = it[0]\n",
    "                        sim = process.extract(new_test, choices, limit=10)\n",
    "                        print(sim)\n",
    "                        for it in sim :\n",
    "                            if it[1] >= 90: #if text similarity > 90 \n",
    "                                codes_sim = l[l._test_name == it[0]]._test_code.unique() #search all codes with same name as it[0]\n",
    "                                for c in codes_sim:\n",
    "                                    if lab_dic.get((test,code)) and (it[0], str(c)) in lab_dic.get((test,code)): \n",
    "                                        continue\n",
    "                                    differ =t_student_differ((test,str(code)), (it[0],str(c))) \n",
    "                                     #if distributions are not significantly different and does not come from differen samples (orine vs serum)\n",
    "                                    if (differ[1] > 0.7) & (differ[1] < 1.3) and not ((('N' in str(c)) & ('K' in str(code))) or (('N' in str(code)) & ('K' in str(c)) )): \n",
    "                                        print(test, it[0], differ)\n",
    "                                        if lab_dic.get((test,code)): \n",
    "                                            lab_dic[(test,code)].extend([(it[0], c)]) \n",
    "                                        else:\n",
    "                                            lab_dic[(test,code)] = [(it[0], c)] \n",
    "        \n"
   ]
  },
  {
   "cell_type": "code",
   "execution_count": 393,
   "metadata": {
    "scrolled": false
   },
   "outputs": [],
   "source": [
    "import pickle\n",
    "\n",
    "if  save_lab_dic:\n",
    "    with open('Terminology/lab_dic.pickle', 'wb') as fp:\n",
    "        pickle.dump(lab_dic,fp)\n",
    "else: \n",
    "    with open('Terminology/lab_dic.pickle', 'rb') as handle:\n",
    "        lab_dic = pickle.load(handle)\n"
   ]
  },
  {
   "cell_type": "code",
   "execution_count": 394,
   "metadata": {},
   "outputs": [
    {
     "data": {
      "text/plain": [
       "{('25 (OH) VITAMINA D',\n",
       "  '300113040000N0000630'): [('25 (OH) VITAMINA D',\n",
       "   '300113040000N0000630'), ('25 OH Vitamina D', '300113040000N0000630'), ('VITAMINA D 25 OH',\n",
       "   '300113040000N0000630')],\n",
       " ('ALBUMINA', '300113010000N0000004'): [('ALBUMINA', '300113010000N0000004'),\n",
       "  ('ALBUMINA', 'nan'),\n",
       "  ('Albumina', '300113010000N0000004'),\n",
       "  ('Albumina', 'CCD00010N'),\n",
       "  ('ALBUMINA (#)', 'CCD00010N'),\n",
       "  ('HP ALBUMINA', 'nan'),\n",
       "  ('Albumina, Suero', '300113010000N0000004'),\n",
       "  ('ALBUMINA ELECTROFORESIS', 'CCD00010N')],\n",
       " ('Bicarbonato', 'CCD00040N'): [('Bicarbonato', '300113010000N0000029'),\n",
       "  ('Bicarbonato', 'nan'),\n",
       "  ('Bicarbonato', 'CCD00040N'),\n",
       "  ('BICARBONATO', 'CCD00041N'),\n",
       "  ('BICARBONATO', 'nan'),\n",
       "  ('BICARBONATO', '300113010000N0000029'),\n",
       "  ('BICARBONATO STD', 'CCD00041N'),\n",
       "  ('POC BICARBONATO STD', 'nan'),\n",
       "  ('POC BICARBONATO CALCULADO', 'nan'),\n",
       "  ('Bicarbonato Actual', 'nan'),\n",
       "  ('Bicarbonato Estandar', 'nan'),\n",
       "  ('Bicarbonato (Estandar)', 'CCD00041N'),\n",
       "  ('Bicarbonato (Estandar)', 'nan'),\n",
       "  ('Bicarbonato (HCO3)', 'nan'),\n",
       "  ('SBE (Bicarbonato estandar)', 'nan'),\n",
       "  ('Bicarbonato arterial', 'nan'),\n",
       "  ('BICARBONATO ACTUAL', 'CCD00040N'),\n",
       "  ('Bicarbonato venoso', 'CCD00040N')],\n",
       " ('Bilirrubina directa',\n",
       "  '300113010000N0000008'): [('Bilirrubina directa', '300113010000N0000008')],\n",
       " ('CALCIO', '300113010000N0000012'): [('CALCIO', '300113010000N0000012'),\n",
       "  ('Calcio', '300113010000N0000012'),\n",
       "  ('Calcio, Suero', '300113010000N0000012'),\n",
       "  ('CALCIO CORREGIDO POR ALBUMINA', 'nan'),\n",
       "  ('CALCIO CORREGIDO POR ALBUMINA', '30130101000000029000'),\n",
       "  ('Calcio corregido por Albumina', 'nan'),\n",
       "  ('Calcio corregido por Albumina', '#'),\n",
       "  ('Calcio corregido Albumina', '30130101000000029000'),\n",
       "  ('Calcio total', '300113010000N0000012'),\n",
       "  ('Calcio corregido', 'nan'),\n",
       "  ('CALCIO CORREGIDO', 'nan'),\n",
       "  ('Calcio corregido por albumina', 'nan')],\n",
       " ('CLORO', '300113010000N0000016'): [('Cloro', '300113010000N0000016'),\n",
       "  ('Cloro', 'nan'),\n",
       "  ('CLORO', '300113010000N0000016'),\n",
       "  ('CLORO', 'CCD00055N'),\n",
       "  ('POC CLORO', 'nan'),\n",
       "  ('Cloro (Gasometro)', 'nan'),\n",
       "  ('HP CLORO', 'nan'),\n",
       "  ('Cloruro, Sangre', 'nan'),\n",
       "  ('Cloruro, Sangre', 'CCD00055N'),\n",
       "  ('CLORURO', '300113010000N0000016'),\n",
       "  ('Cloruro', '300113010000N0000016')],\n",
       " ('CO2 Total', 'CCD00087N'): [('CO2 Total', 'CCD00087N'),\n",
       "  ('CO2 Total', 'nan'),\n",
       "  ('CO2 Total', '300113010000N0000029'),\n",
       "  ('CO2 total', 'CCD00087N'),\n",
       "  ('POC CO2 total', 'nan'),\n",
       "  ('CONCENTRACION DE CO2 TOTAL', '300113010000N0000029'),\n",
       "  ('CO2 Total (tCO2 Plasma)', 'nan'),\n",
       "  ('CO2 total (arterial)', 'CCD00087N'),\n",
       "  ('CO2 total (venoso)', 'CCD00087N')],\n",
       " ('Creatin fosfo quinasa (CPK)',\n",
       "  '300113010000N0000025'): [('Creatin fosfo quinasa (CPK)',\n",
       "   '300113010000N0000025'), ('Creatinfosfoquinasa (CPK)',\n",
       "   '300113010000N0000025')],\n",
       " ('Creatinina',\n",
       "  '300113010000N0000028'): [('Creatinina',\n",
       "   '300113010000N0000028'), ('CREATININA', '300113010000N0000028'), ('HP CREATININA',\n",
       "   'nan'), ('Creatinina, Suero',\n",
       "   '300113010000N0000028'), ('CREATININA (Jaffe)', '300113010000N0000028'), ('Creatinina (Jaffe modificado)',\n",
       "   '300113010000N0000028')],\n",
       " ('Celulas  T4  (recuento)',\n",
       "  '300114070200N0000157'): [('Celulas  T4  (recuento)',\n",
       "   '300114070200N0000157')],\n",
       " ('Celulas  T8  (recuento)',\n",
       "  '300114070200N0000158'): [('Celulas  T8  (recuento)',\n",
       "   '300114070200N0000158')],\n",
       " ('Celulas B totales  (recuento)',\n",
       "  '300114070200N0000159'): [('Celulas B totales  (recuento)',\n",
       "   '300114070200N0000159')],\n",
       " ('Celulas T totales  (recuento)',\n",
       "  '300114070200N0000160'): [('Celulas T totales  (recuento)',\n",
       "   '300114070200N0000160')],\n",
       " ('Dimero D', '300114029900N0000048'): [('Dimero D', '300114029900N0000048'),\n",
       "  ('DIMERO D', '300114029900N0000048')],\n",
       " ('ERITROCITOS', 'CCD00137N'): [('ERITROCITOS', 'CCD00137N')],\n",
       " ('Exceso de base actual',\n",
       "  'CCD00031N'): [('Exceso de base actual', 'CCD00031N'), ('Exceso de base',\n",
       "   'nan')],\n",
       " ('FG -Estimacion MDRD-4',\n",
       "  '300113010000Q0001058'): [('FG -Estimacion MDRD-4', '300113010000Q0001058')],\n",
       " ('FILTRADO GLOMERULAR CKD-EPI',\n",
       "  '300113010000N0001681'): [('FILTRADO GLOMERULAR CKD-EPI',\n",
       "   '300113010000N0001681'),\n",
       "  ('Filtrado glomerular CKD-EPI', '300113010000N0001681'),\n",
       "  ('Filtrado glomerular (CKD-EPI)', '300113010000N0001681'),\n",
       "  ('FILTRADO GLOMERULAR (CKD-EPI)', '300113010000Q0001058'),\n",
       "  ('Filtrado Glomerular e. (CKD-EPI)', '300113010000N0001681'),\n",
       "  ('Filtrado glomerular', '300113010000Q0001058'),\n",
       "  ('FILTRADO GLOMERULAR', '300113010000N0001681'),\n",
       "  ('Filtrado glomerular estimado (CKD-EPI)', '300113010000N0001681')],\n",
       " ('FOSFATASA ALCALINA',\n",
       "  '300113010000N0000032'): [('FOSFATASA ALCALINA',\n",
       "   '300113010000N0000032'), ('Fosfatasa alcalina', '300113010000N0000032'), ('Fosfatasas alcalinas',\n",
       "   '300113010000N0000032'), ('HP FOSFATASA ALCALINA',\n",
       "   'nan'), ('Fosfatasa Alcalina (ALP), Suero', '300113010000N0000032')],\n",
       " ('Ferritina', '300113030100N0000123'): [('Ferritina', '300113030100N0000123'),\n",
       "  ('FERRITINA', '300113030100N0000123')],\n",
       " ('FiO2', 'CCD00229N'): [('FiO2', 'CCD00229N'),\n",
       "  ('FiO2 ___________ %', 'nan'),\n",
       "  ('FiO2 v-SV', 'CCD00229N')],\n",
       " ('Fibrinogeno',\n",
       "  '300114029900N0000053'): [('Fibrinogeno', '300114029900N0000053')],\n",
       " ('GGT (Gamma Glutamil Transpeptidasa)',\n",
       "  '300113010000N0000038'): [('GGT (Gamma Glutamil Transpeptidasa)',\n",
       "   '300113010000N0000038'),\n",
       "  ('GAMMA GLUTAMIL TRANSPEPTIDASA', '300113010000N0000038'),\n",
       "  ('GGT (Gamma Glutamil Transpeptidasa), Suero', '300113010000N0000038'),\n",
       "  ('Gamma Glutamil Transpeptidasa', '300113010000N0000038'),\n",
       "  ('Gamma-glutamiltranspeptidasa (GGT)', '300113010000N0000038')],\n",
       " ('GLUCOSA', '300113010000N0000043'): [('GLUCOSA', '300113010000N0000043'),\n",
       "  ('GLUCOSA', '300113121000H0001006'),\n",
       "  ('GLUCOSA', 'nan'),\n",
       "  ('Glucosa', '300113010000N0000043'),\n",
       "  ('Glucosa', 'CCD00134N'),\n",
       "  ('Glucosa', 'nan'),\n",
       "  ('HP GLUCOSA', 'nan'),\n",
       "  ('POC GLUCOSA', 'nan'),\n",
       "  ('Glucosa, Suero', '300113010000N0000043'),\n",
       "  ('Glucosa (Gasometro)', 'nan'),\n",
       "  ('Glucosa Capilar', 'nan'),\n",
       "  ('Glucosa (gasometria)', 'nan')],\n",
       " ('GOT/AST (Aspartato amino transferasa)',\n",
       "  '300113010000N0000007'): [('GOT(AST)', '300113010000N0000007'), ('GOT (AST)',\n",
       "   '300113010000N0000007'), ('GOT', '300113010000N0000007'), ('AST',\n",
       "   '300113010000N0000007')],\n",
       " ('GPT/ALT (Alanina amino transferasa)',\n",
       "  '300113010000N0000003'): [('GPT(ALT)', '300113010000N0000003'), ('GPT (ALT)',\n",
       "   '300113010000N0000003'), ('GPT', '300113010000N0000003'), ('ALT',\n",
       "   '300113010000N0000003')],\n",
       " ('Granulocitos Inmaduros (Abs)',\n",
       "  nan): [('Granulocitos Inmaduros (Abs)', 'nan')],\n",
       " ('HEMOGLOBINA GLICOSILADA',\n",
       "  '300113010000N0000044'): [('HEMOGLOBINA GLICOSILADA',\n",
       "   '300113010000N0000044')],\n",
       " ('Hemoglobina', 'CCD00139N'): [('Hemoglobina', 'CCD00139N'),\n",
       "  ('Hemoglobina', 'CCD00141N'),\n",
       "  ('Hemoglobina', 'nan'),\n",
       "  ('HEMOGLOBINA', 'CCD00139N'),\n",
       "  ('Hemoglobina (URG)', 'nan'),\n",
       "  ('HP HEMOGLOBINA', 'nan'),\n",
       "  ('POC HEMOGLOBINA TOTAL', 'nan'),\n",
       "  ('HEMOGLOBINA TOTAL', '300114040000N0000108'),\n",
       "  ('Hemoglobina Total', 'nan')],\n",
       " ('IL', nan): [('IL', 'nan'), ('NEUTROFILOS', 'nan')],\n",
       " ('Interleukina 6 (IL6)',\n",
       "  '300113030100N0000144'): [('Interleukina 6 (IL6)',\n",
       "   '300113030100N0000144'), ('INTERLEUKINA 6', '300113030100N0000144'), ('Interleucina 6 (IL-6)',\n",
       "   '300113030100N0000144')],\n",
       " ('LDH', '300113010000N0000046'): [('LDH', '300113010000N0000046'),\n",
       "  ('HP LDH', 'nan')],\n",
       " ('LINFOCITOS', 'CCD00161N'): [('LINFOCITOS', 'CCD00161N'),\n",
       "  ('Linfocitos', 'CCD00161N'),\n",
       "  ('HP LINFOCITOS', 'nan'),\n",
       "  ('Linfocitos (Abs)', 'CCD00161N'),\n",
       "  ('Linfocitos (absolutos)', 'CCD00161N'),\n",
       "  ('LINFOCITOS ABSOLUTOS', 'CCD00161N'),\n",
       "  ('Linfocitos absolutos', 'CCD00161N'),\n",
       "  ('Linfocitos absolutos (URG)', 'nan'),\n",
       "  ('LINFOCITOS TOTALES', 'CCD00161N')],\n",
       " ('Leucocitos', 'CCD00154N'): [('Leucocitos', 'CCD00154N'),\n",
       "  ('Leucocitos', 'nan'),\n",
       "  ('LEUCOCITOS', 'CCD00154N'),\n",
       "  ('HP LEUCOCITOS', 'nan'),\n",
       "  ('Leucocitos (URG)', 'nan')],\n",
       " ('MAGNESIO', '300113010000N0000049'): [('MAGNESIO', '300113010000N0000049'),\n",
       "  ('Magnesio', '300113010000N0000049'),\n",
       "  ('Magnesio, Suero', '300113010000N0000049')],\n",
       " ('MONOCITOS', 'CCD00168N'): [('MONOCITOS', 'CCD00168N'),\n",
       "  ('Monocitos', 'CCD00168N'),\n",
       "  ('HP MONOCITOS', 'nan'),\n",
       "  ('Monocitos (Abs)', 'CCD00168N'),\n",
       "  ('MONOCITOS ABSOLUTOS', 'CCD00168N'),\n",
       "  ('Monocitos absolutos', 'CCD00168N'),\n",
       "  ('Monocitos absolutos (URG)', 'nan'),\n",
       "  ('MONOCITOS TOTALES', 'CCD00168N')],\n",
       " ('NEUTROFILOS', 'CCD00179N'): [('NEUTROFILOS', 'CCD00179N'),\n",
       "  ('Neutrofilos', 'CCD00179N'),\n",
       "  ('Neutrofilos (Abs)', 'CCD00179N'),\n",
       "  ('Neutrofilos (absolutos)', 'CCD00179N'),\n",
       "  ('NEUTROFILOS ABSOLUTOS', 'CCD00179N'),\n",
       "  ('Neutrofilos absolutos (URG)', 'nan'),\n",
       "  ('NEUTROFILOS TOTALES', 'CCD00179N')],\n",
       " ('NT- PROBNP',\n",
       "  '300113110000N0000898'): [('NT- PROBNP', '300113110000N0000898'), ('proBNP',\n",
       "   '300113110000N0000901')],\n",
       " ('PCR', '300113030100N0000153'): [('PCR', '300113030100N0000153')],\n",
       " ('POTASIO', '300113010000N0000052'): [('POTASIO', '300113010000N0000052'),\n",
       "  ('POTASIO', 'nan'),\n",
       "  ('Potasio', '300113010000N0000052'),\n",
       "  ('Potasio', 'nan'),\n",
       "  ('HP POTASIO', 'nan'),\n",
       "  ('POTASIO-ST', 'CCD00195N'),\n",
       "  ('POC POTASIO', 'nan'),\n",
       "  ('Potasio, Suero', '300113010000N0000052'),\n",
       "  ('Potasio, Sangre', 'CCD00195N'),\n",
       "  ('Potasio, Sangre', 'nan'),\n",
       "  ('Potasio (Gasometro)', 'nan'),\n",
       "  ('Gradiente Transtubular de Potasio (GTTK)', 'nan')],\n",
       " ('PROTEINAS TOTALES',\n",
       "  '300113010000N0000053'): [('PROTEINAS TOTALES',\n",
       "   '300113010000N0000053'), ('Proteinas totales', '300113010000N0000053'), ('Proteinas Totales',\n",
       "   '300113010000N0000053'), ('Proteinas Totales',\n",
       "   'nan'), ('Proteinas Totales, Suero', '300113010000N0000053'), ('HP PROTEINAS TOTALES',\n",
       "   'nan'), ('Proteinas', '300113010000N0000053')],\n",
       " ('Plaquetas', 'CCD00192N'): [('PLAQUETAS', 'CCD00192N'),\n",
       "  ('PLAQUETAS', '#'),\n",
       "  ('Plaquetas', 'CCD00192N'),\n",
       "  ('PLAQUETAS.', 'nan'),\n",
       "  ('HP PLAQUETAS', 'nan'),\n",
       "  ('Plaquetas (URG)', 'nan')],\n",
       " ('Potasio en orina',\n",
       "  '300113020000K0000088'): [('Potasio en orina',\n",
       "   '300113020000K0000088'), ('POTASIO', '300113020000K0000088')],\n",
       " ('Prealbumina',\n",
       "  '300113030100N0000150'): [('PREALBUMINA',\n",
       "   '300113030100N0000150'), ('PREALBUMINA', 'nan'), ('Prealbumina',\n",
       "   '300113030100N0000150'), ('PRE-ALBUMINA',\n",
       "   '300113030100N0000150'), ('Prealbumina (Transtiretina)', '300113030100N0000150')],\n",
       " ('Procalcitonina',\n",
       "  '300113040000N0000660'): [('PROCALCITONINA',\n",
       "   '300113040000N0000660'), ('PROCALCITONINA', '300113110000N0001572'), ('Procalcitonina',\n",
       "   'nan'), ('Procalcitonina', '300113040000N0000660')],\n",
       " ('SBE arterial', 'CCD00032N'): [('SBE arterial', 'CCD00032N'),\n",
       "  ('ABE arterial', 'CCD00031N')],\n",
       " ('SODIO', '300113010000N0000055'): [('SODIO', '300113010000N0000055'),\n",
       "  ('SODIO', 'nan'),\n",
       "  ('Sodio', '300113010000N0000055'),\n",
       "  ('Sodio', 'nan'),\n",
       "  ('POC SODIO', 'nan'),\n",
       "  ('Sodio, Suero', '300113010000N0000055'),\n",
       "  ('Sodio, Sangre', 'CCD00212N'),\n",
       "  ('Sodio, Sangre', 'nan'),\n",
       "  ('Sodio (Gasometro)', 'nan'),\n",
       "  ('HP SODIO', 'nan'),\n",
       "  ('Sodio (Na)', 'nan'),\n",
       "  ('SODIO-ST', 'CCD00212N')],\n",
       " ('Saturacion O2', 'CCD00210N'): [('Saturacion O2', 'CCD00210N'),\n",
       "  ('Saturacion O2', 'nan'),\n",
       "  ('Saturacion', 'nan'),\n",
       "  ('Saturacion de Oxigeno Venoso', 'nan'),\n",
       "  ('Saturacion de Oxigeno', 'nan'),\n",
       "  ('SATURACION DE OXIGENO', 'CCD00210N'),\n",
       "  ('SATURACION DE OXIGENO', 'nan')],\n",
       " ('TROPONINA ULTRASENSIBLE',\n",
       "  '300113030100N0000162'): [('TROPONINA ULTRASENSIBLE',\n",
       "   '300113030100N0000162'), ('Troponina T Ultrasensible',\n",
       "   '300113030100N0000162'), ('Troponina T ultrasensible',\n",
       "   '300113030100N0000162'), ('TROPONINA-T ultrasensible',\n",
       "   '300113030100N0000162'), ('TROPONINA I ULTRASENSIBLE',\n",
       "   'nan'), ('TROPONINA T (Ultrasensible)', '300113030100N0000162')],\n",
       " ('TTPA', '300114029900N0000077'): [('TTPA', '300114029900N0000077'),\n",
       "  ('TTPA (URG)', 'nan')],\n",
       " ('Transferrina',\n",
       "  '300113030100N0000158'): [('Transferrina',\n",
       "   '300113030100N0000158'), ('TRANSFERRINA',\n",
       "   '300113030100N0000158'), ('TRANSFERRINA', 'nan'), ('Transferrina, Suero',\n",
       "   '300113030100N0000158')],\n",
       " ('UREA', '300113010000N0000058'): [('UREA', '300113010000N0000058'),\n",
       "  ('Urea', '300113010000N0000058'),\n",
       "  ('Urea, Suero', '300113010000N0000058'),\n",
       "  ('HP UREA', 'nan')],\n",
       " ('pCO2', 'CCD00186N'): [('pCO2', 'CCD00186N'),\n",
       "  ('pCO2', 'nan'),\n",
       "  ('PCO2', 'CCD00186N'),\n",
       "  ('POC PCO2 SANGUINEO CORREGIDO', 'nan'),\n",
       "  ('POC PCO2 SANGUINEO', 'nan'),\n",
       "  ('pCO2 arterial', 'nan'),\n",
       "  ('pCO2 arterial', 'CCD00186N'),\n",
       "  ('P.P. Carbonico pCO2', 'nan'),\n",
       "  ('pCO2-SA', 'CCD00087N'),\n",
       "  ('pCO2 (T)-SA', 'nan'),\n",
       "  ('pCO2 (arterial)', 'CCD00186N'),\n",
       "  ('P.P. Carbonico pCO2 (Arterial)', 'nan'),\n",
       "  ('P.P. Carbonico pCO2 (Venoso)', 'nan'),\n",
       "  ('pCO2 (venoso)', 'CCD00186N'),\n",
       "  ('pCO2 venoso', 'nan'),\n",
       "  ('pO2 venoso', 'nan'),\n",
       "  ('pO2 (venoso)', 'CCD00193N'),\n",
       "  ('PCO2 SANGUINEO', 'CCD00186N'),\n",
       "  ('pCO2 (T)-SV', 'nan'),\n",
       "  ('pO2 (T)-SV', 'nan'),\n",
       "  ('pCO2 (T)', 'nan'),\n",
       "  ('pCO2-SV', 'CCD00186N'),\n",
       "  ('pO2-SV', 'CCD00193N')],\n",
       " ('pH', 'CCD00190N'): [('pH', 'nan'),\n",
       "  ('pH', 'CCD00190N'),\n",
       "  ('POC PH CORREGIDO', 'nan'),\n",
       "  ('POC PH SANGUINEO', 'nan'),\n",
       "  ('pH arterial', 'nan'),\n",
       "  ('pH arterial', 'CCD00190N'),\n",
       "  ('pH Sanguineo', 'nan'),\n",
       "  ('pH (T)-SA', 'nan'),\n",
       "  ('pH-SA', 'CCD00190N'),\n",
       "  ('pH (arterial)', 'CCD00190N'),\n",
       "  ('pH venoso', 'CCD00190N'),\n",
       "  ('pH venoso', 'nan'),\n",
       "  ('pH Venoso', 'nan'),\n",
       "  ('pH (venoso)', 'CCD00190N'),\n",
       "  ('pH Arterial', 'nan'),\n",
       "  ('PH SANGUINEO', 'CCD00190N'),\n",
       "  ('pH (T)-SV', 'nan'),\n",
       "  ('pH (T)', 'nan'),\n",
       "  ('pH-SV', 'CCD00190N')],\n",
       " ('pO2', 'CCD00193N'): [('pO2', 'CCD00193N'),\n",
       "  ('pO2', 'nan'),\n",
       "  ('POC PO2 SANGUINEO', 'nan'),\n",
       "  ('pO2 arterial', 'nan'),\n",
       "  ('pO2 arterial', 'CCD00193N'),\n",
       "  ('P.P. Oxigeno pO2', 'nan'),\n",
       "  ('pO2-SA', 'CCD00193N'),\n",
       "  ('pO2 (T)-SA', 'nan'),\n",
       "  ('pO2 (arterial)', 'CCD00193N'),\n",
       "  ('PO2 SANGUINEO', 'CCD00193N'),\n",
       "  ('POC PO2 SANGUINEO CORREGIDO', 'nan'),\n",
       "  ('pO2 (T)', 'nan')],\n",
       " ('pro-BNP', '300113110000N0000901'): [('pro-BNP', '300113110000N0000901'),\n",
       "  ('proBNP', '300113110000N0000901')]}"
      ]
     },
     "execution_count": 394,
     "metadata": {},
     "output_type": "execute_result"
    }
   ],
   "source": [
    "lab_dic"
   ]
  },
  {
   "cell_type": "markdown",
   "metadata": {},
   "source": [
    "## Generate tables for experiments"
   ]
  },
  {
   "cell_type": "code",
   "execution_count": 366,
   "metadata": {},
   "outputs": [],
   "source": [
    "lab = df_dict['Lab']\n",
    "lab = lab[lab._limits.isna()]\n",
    "no_norm = list(set(lab._test_code.unique())) #selected codes not normalized\n",
    "def lab_var(x, eval_date, method = 'basal', synonyms = None, codes = None, raw = False): \n",
    "    \n",
    "    in_date = x.iloc[0]._start_date\n",
    "    \n",
    "    out_date = x.iloc[-1]._start_date\n",
    "    verbose = False\n",
    "    \n",
    "    \n",
    "    result = None\n",
    "    if codes and synonyms: #for lab tests,the synonyms param is assumed that is only used for tuples (test, code) where code = 'nan'\n",
    "        if not raw and len(set(no_norm) & set(codes)) == 0: #use normalized values if range limits were provided for all dataset values of this test\n",
    "            result = pd.to_numeric(x[(x._event_type== 'Lab') & (x._test_code.isin(codes) | x._test_name.isin(synonyms))& \n",
    "                                     (x._start_date >= eval_date - datetime.timedelta(1) ) & (x._start_date <  eval_date )]._norm_value, errors = 'coerce')\n",
    "        else: #use raw value\n",
    "            result = pd.to_numeric(x[(x._event_type== 'Lab') & (x._test_code.isin(codes) | x._test_name.isin(synonyms))& \n",
    "                                     (x._start_date >= eval_date - datetime.timedelta(1) ) & (x._start_date <  eval_date )]._event_value, errors = 'coerce')\n",
    "    elif codes: \n",
    "        if not raw and len(set(no_norm) & set(codes)) == 0: #use normalized values if range limits were provided for all dataset values of this test\n",
    "            result = pd.to_numeric(x[(x._event_type== 'Lab') & (x._test_code.isin(codes) )& \n",
    "                                     (x._start_date >= eval_date - datetime.timedelta(1) ) & (x._start_date <  eval_date )]._norm_value, errors = 'coerce')\n",
    "        else: #use raw value\n",
    "            result = pd.to_numeric(x[(x._event_type== 'Lab') & (x._test_code.isin(codes) )& \n",
    "                                     (x._start_date >= eval_date - datetime.timedelta(1) ) & (x._start_date <  eval_date )]._event_value, errors = 'coerce')\n",
    "    \n",
    "    else:\n",
    "        result = pd.to_numeric(x[(x._event_type== 'Lab') & (x._test_name.isin(synonyms)) & \n",
    "              (x._start_date >= eval_date - datetime.timedelta(1) ) & (x._start_date <  eval_date )]._norm_value, errors = 'coerce')\n",
    "    \n",
    "    if not result.empty: \n",
    "        if method == 'min':\n",
    "            result = result.min()\n",
    "        elif method == 'basal':\n",
    "            result = result.iloc[0]\n",
    "        elif method == 'max':\n",
    "            result = result.max()\n",
    "        elif method == 'mean':\n",
    "            result = result.mean()\n",
    "        result = np.round(result,2)\n",
    "    else:\n",
    "        result = np.nan\n",
    "    if verbose:  \n",
    "        print(eval_date)\n",
    "        print(f'result: {result}')\n",
    "    return result"
   ]
  },
  {
   "cell_type": "code",
   "execution_count": 367,
   "metadata": {},
   "outputs": [],
   "source": [
    "def vs_var(x, eval_date, method = 'basal', vs_name = None, synonyms = None): \n",
    "    \n",
    "    in_date = x.iloc[0]._start_date\n",
    "    \n",
    "    out_date = x.iloc[-1]._start_date\n",
    "    verbose = False\n",
    "    if verbose:\n",
    "        print(in_date, out_date)\n",
    "        print(f'date evaluation: {eval_date}')\n",
    "        print(x[(x._event_type== 'VS') & (x._vs_name.str.contains(synonyms, case = False))][['_start_date','_event_value']])\n",
    "    \n",
    "    result = pd.to_numeric(x[(x._event_type== 'VS') & (x._vs_name.str.contains(synonyms, case = False)) & \n",
    "              (x._start_date >= eval_date - datetime.timedelta(1) ) & (x._start_date <  eval_date )]._event_value, errors = 'coerce')\n",
    "    if not result.empty: \n",
    "        if method == 'min':\n",
    "            result = result.min()\n",
    "        elif method == 'basal':\n",
    "            result = result.iloc[0]\n",
    "        elif method == 'max':\n",
    "            result = result.max()\n",
    "        elif method == 'mean':\n",
    "            result = result.mean()\n",
    "    else:\n",
    "        result = np.nan\n",
    "    if verbose:  \n",
    "        print(eval_date)\n",
    "        print(f'result: {result}')\n",
    "    return result"
   ]
  },
  {
   "cell_type": "code",
   "execution_count": 368,
   "metadata": {},
   "outputs": [],
   "source": [
    "\n",
    "ex1_columns = ['_patient_id','_p_id', '_health_dep','_age', '_gender', 'date_in', 'n_days_in', 'worst_barthel_scale', 'n_covid_rel_dx', 'covid_rel_dx', 'n_covid_rel_image','covid_rel_image', 'n_PCRs_+',\n",
    "               'n_days_icu', 'worst_sofa_scale', 'worst_glasgow','critic', 'severity', '_discharge', 'who_out_scale',\n",
    "              'satO2', 'fiO2', 'resp_rate' ]\n"
   ]
  },
  {
   "cell_type": "code",
   "execution_count": 442,
   "metadata": {},
   "outputs": [],
   "source": [
    "\n",
    "#1º Select only admissions with concomitant events associated to ( ( covid related dx-cx) OR (Rx-thorax with infiltrates or condensations or pneumonia)) AND b) PCR confirmed COVID \n",
    "\n",
    "def table(x_p): #x_p is a dataframe with all events for a given patient, one patient may have >= 1 admissions\n",
    "    _p_id, x_p = x_p\n",
    "    #_p_id = x_p.iloc[0]._p_id\n",
    "    verbose = False\n",
    "    df_exp = pd.DataFrame(columns = ex1_columns)\n",
    "    for in_date,out_date in list(zip(x_p[(x_p._event_type == 'State Admission')]._start_date, x_p[(x_p._event_type == 'State Discharge')]._start_date)):\n",
    "        \n",
    "        try:\n",
    "            row_dict = dict.fromkeys(ex1_columns)\n",
    "            #filter events for this admission\n",
    "            x = x_p\n",
    "            #x = x_p[(x_p._start_date >= in_date ) & (x_p._start_date <= out_date )]\n",
    "            if verbose: \n",
    "                print(in_date, out_date)\n",
    "                print(x[((x._event_type.isin(['State Bed', 'State Discharge'])))])\n",
    "            \n",
    "            #n_days_in \n",
    "            n_days_in = out_date - in_date\n",
    "\n",
    "\n",
    "            #scales (barthel best is 100, sofa worst is 24, glasgow best is 15)\n",
    "            worst_barthel_scale = np.min(x[pd.isna(x.barthel) == False].barthel.values) if not x[pd.isna(x.barthel) == False].empty else np.nan\n",
    "            worst_sofa_scale = np.max(x[pd.isna(x.sofa) == False].sofa.values) if not x[pd.isna(x.sofa) == False].empty else np.nan\n",
    "            worst_glasgow_scale = np.min(x[pd.isna(x.glasgow) == False].glasgow.values) if not x[pd.isna(x.glasgow) == False].empty else np.nan\n",
    "\n",
    "            #covid related dx-cx\n",
    "            dx = x[((x._event_type == 'Diagnosis') & (x._event_value.isin(l_covid_dx)) & (x._start_date >= in_date ) & (x._start_date <= out_date ))]\n",
    "            #covid related image\n",
    "            rx = x[ ((x.covid_image != False) & (x._start_date >= in_date ) & (x._start_date <= out_date ))]\n",
    "            #covid confirmed by PCR (extending 3 weeks before admission )\n",
    "            cov = x[((x._event_type == 'Lab Sars-cov-2') & (x._event_value.str.contains('POSITIVO')) & (x._start_date >= in_date - datetime.timedelta(7*3) ) & (x._start_date <= out_date + datetime.timedelta(0*1) ))]\n",
    "            \n",
    "            n_rx = x[((x._event_type.isin(image_event_types))  & (x._start_date >= in_date - datetime.timedelta(7*3) ) & (x._start_date <= out_date + datetime.timedelta(0*1) ))].shape[0]\n",
    "            n_pcr = x[((x._event_type == 'Lab Sars-cov-2') & (x._start_date >= in_date - datetime.timedelta(7*3) ) & (x._start_date <= out_date + datetime.timedelta(0*1) ))].shape[0]\n",
    "\n",
    "            \n",
    "            #ICU \n",
    "            date_icu_in = x[((x._event_type == 'State Bed') & (x._event_value.str.contains(synonym_icu)) & (x._start_date >= in_date ) & (x._start_date <= out_date ))]._start_date\n",
    "            date_icu_out = x[((x._event_type == 'State Bed') & (x._event_value.str.contains(synonym_icu)) & (x._start_date >= in_date ) & (x._start_date <= out_date ))]._end_date\n",
    "            if date_icu_in.shape[0] > 0:\n",
    "                date_icu_in = date_icu_in.min()\n",
    "                date_icu_out = date_icu_out.max() #assume only one ICU admission, TODO improve\n",
    "            else: \n",
    "                date_icu_in = None\n",
    "                date_icu_out = None\n",
    "\n",
    "            #discharge\n",
    "            discharge = x[((x._event_type == 'State Discharge') & (x._start_date >= in_date ) & (x._start_date <= out_date ))]\n",
    "\n",
    "            #Fatal\n",
    "            fatal = False\n",
    "            date_death = None\n",
    "            death_event = discharge[discharge._event_value.isin( ['Éxitus', 'In extremis'])]\n",
    "            if death_event.shape[0] > 0: \n",
    "                date_death = death_event._start_date.iloc[0]\n",
    "                fatal = True \n",
    "\n",
    "            #Critic \n",
    "            critic = fatal or pd.isnull(date_icu_in) == False\n",
    "\n",
    "            #n_days_icu \n",
    "            n_days_icu = datetime.timedelta(0)\n",
    "            if pd.isnull(date_icu_in) == False: \n",
    "                if not pd.isnull(date_icu_out):\n",
    "                    n_days_icu = date_icu_out + datetime.timedelta(.9) - date_icu_in\n",
    "                else:\n",
    "                    n_days_icu = discharge.iloc[0]._start_date + datetime.timedelta(.9) - date_icu_in\n",
    "\n",
    "\n",
    "\n",
    "            #Severity grade (following AE grading system 1-5: \n",
    "            #1-mild(ER only, does not require hospitalization), \n",
    "            #2-moderate( hospitalization <= 5 days)\n",
    "            #3-severe(prolongs hospitalization > 5 days), \n",
    "            #4-critical(life threatening = UCI), \n",
    "            #5-fatal \n",
    "            #Source: lab paper\n",
    "            severity = None\n",
    "            if fatal:\n",
    "                severity = 5\n",
    "            elif pd.isnull(date_icu_in ) == False:\n",
    "                severity = 4\n",
    "            elif(n_days_in.days > 5 ):\n",
    "                severity = 3\n",
    "            elif (n_days_in.days in range(1,6)): \n",
    "                severity = 2 \n",
    "            elif (n_days_in == 0 ):\n",
    "                severity = 1\n",
    "\n",
    "            #Scale- 4C mortality score IASRIC \n",
    "\n",
    "            #PREDICITVE VAR\n",
    "            n = 15 #temporal horizon for var arrays\n",
    "            #SatO2 \n",
    "            synonyms =  '(?:^sat)'\n",
    "            sats = [vs_var(x, in_date + datetime.timedelta(1), method = 'basal', synonyms = synonyms)] #basal value\n",
    "            min_v = [vs_var(x, in_date +  datetime.timedelta(n),  method = 'min', synonyms = synonyms) for n in range(1,n) ]\n",
    "            sats.extend(min_v)\n",
    "            #FiO2\n",
    "            fi = [fiO2(x, in_date + datetime.timedelta(1), method = 'basal')] #basal value\n",
    "            min_v = [fiO2(x, in_date +  datetime.timedelta(n),  method = 'max') for n in range(1,n) ]\n",
    "            fi.extend(min_v)\n",
    "            #Resp_rate \n",
    "            synonyms = '(?:frec.*resp.*)'\n",
    "            fr = [vs_var(x, in_date + datetime.timedelta(1), method = 'basal', synonyms = synonyms)] #basal value\n",
    "            min_v = [vs_var(x, in_date +  datetime.timedelta(n),  method = 'max', synonyms = synonyms) for n in range(1,n) ]\n",
    "            fr.extend(min_v)\n",
    "            #Heart_rate \n",
    "            synonyms = '(?:^frec.*card.*)'\n",
    "            fc = [vs_var(x, in_date + datetime.timedelta(1), method = 'basal', synonyms = synonyms)] #basal value\n",
    "            min_v = [vs_var(x, in_date +  datetime.timedelta(n),  method = 'max', synonyms = synonyms) for n in range(1,n) ]\n",
    "            fc.extend(min_v)\n",
    "            #Temp\n",
    "            synonyms = '(?:^temper|^fiebre)'\n",
    "            te = [vs_var(x, in_date + datetime.timedelta(1), method = 'basal', synonyms = synonyms)] #basal value\n",
    "            te_v = [vs_var(x, in_date +  datetime.timedelta(n),  method = 'max', synonyms = synonyms) for n in range(1,n) ]\n",
    "            te.extend(te_v)\n",
    "            #Weight\n",
    "            synonyms = '(?:^peso)'\n",
    "            wei = vs_var(x, in_date + datetime.timedelta(1), method = 'basal', synonyms = synonyms) #basal value\n",
    "            #Height\n",
    "            synonyms = '(?:^talla)'\n",
    "            hei = [vs_var(x, in_date + datetime.timedelta(1), method = 'basal', synonyms = synonyms)] #basal value\n",
    "            #TAD\n",
    "            synonyms = '(?:diast)'\n",
    "            tad = [vs_var(x, in_date + datetime.timedelta(1), method = 'basal', synonyms = synonyms)] #basal value\n",
    "            tad_v = [vs_var(x, in_date +  datetime.timedelta(n),  method = 'min', synonyms = synonyms) for n in range(1,n) ]\n",
    "            tad.extend(tad_v)\n",
    "            #TAS\n",
    "            synonyms = '(?:sistol)'\n",
    "            tas = [vs_var(x, in_date + datetime.timedelta(1), method = 'basal', synonyms = synonyms)] #basal value\n",
    "            tas_v = [vs_var(x, in_date +  datetime.timedelta(n),  method = 'min', synonyms = synonyms) for n in range(1,n) ]\n",
    "            tas.extend(tas_v)\n",
    "            \n",
    "            #add Lab values \n",
    "            neu_lab = []\n",
    "            lym_lab = []\n",
    "            for t,c in lab_dic.keys():\n",
    "                code_list = [item[1] for item in lab_dic[(t,c)] if str(item[1]) != 'nan']\n",
    "                #test = lab_select[ (lab_select.select == 'x') & (lab_select.codigo_nacional == c)].prueba_lab.iloc[0]\n",
    "                test = t\n",
    "                \n",
    "                #synonyms_nan_code = lab_dic.get(test)\n",
    "                synonyms_nan_code =[item[0] for item in lab_dic[(t,c)] if item[1] == 'nan']\n",
    "                if len(synonyms_nan_code) == 0: synonyms_nan_code = None\n",
    "                if len(code_list) == 0: code_list = None\n",
    "                \n",
    "                if 'CPK' in test: test = 'CPK'\n",
    "                elif 'IL6' in test: test = 'IL6'\n",
    "                elif 'BNP' in test: test = 'BNP'\n",
    "                elif 'PCR' in test: test = 'PCR'\n",
    "                elif 'Procalcit' in test: \n",
    "                    test = 'Prc'\n",
    "                elif 'Potasio en orina' in test: test = 'K_o'\n",
    "                elif 'Fibrin' in test: \n",
    "                    code_list.append('300114029900N0000052')\n",
    "                elif 'B totales' in test: \n",
    "                    test = 'B'\n",
    "                elif 'T totales' in test: \n",
    "                    test = 'T'\n",
    "                elif 'Celulas  T4' in test: \n",
    "                    test = 'T4'\n",
    "                elif 'Celulas  T8' in test: \n",
    "                    test = 'T8'\n",
    "                elif 'CO2 Total' in test: \n",
    "                    test = 'CO2'\n",
    "                    \n",
    "                if verbose:\n",
    "                    print('--------------')\n",
    "                    print(t,c)\n",
    "                    print(code_list, synonyms_nan_code)\n",
    "                  \n",
    "                test = test[:3].strip()\n",
    "                lab = [lab_var(x, in_date + datetime.timedelta(1), method = 'basal', codes = code_list, synonyms = synonyms_nan_code)] #basal value\n",
    "                lab_v = [lab_var(x, in_date +  datetime.timedelta(n),  method = 'mean', codes = code_list, synonyms = synonyms_nan_code) for n in range(1,n) ]\n",
    "                lab.extend(lab_v)\n",
    "                \n",
    "                if code_list:\n",
    "                    if 'CCD00179N' in code_list: \n",
    "                        lab = [lab_var(x, in_date + datetime.timedelta(1), method = 'basal', codes = code_list,  synonyms = synonyms_nan_code, raw = True)] #basal value\n",
    "                        lab_v = [lab_var(x, in_date +  datetime.timedelta(n),  method = 'mean', codes = code_list,  synonyms = synonyms_nan_code, raw = True) for n in range(1,n) ]\n",
    "                        lab.extend(lab_v)\n",
    "                        neu_lab = lab\n",
    "                    elif 'CCD00161N' in code_list:\n",
    "                        lab = [lab_var(x, in_date + datetime.timedelta(1), method = 'basal', codes = code_list,  synonyms = synonyms_nan_code, raw = True)] #basal value\n",
    "                        lab_v = [lab_var(x, in_date +  datetime.timedelta(n),  method = 'mean', codes = code_list,  synonyms = synonyms_nan_code, raw = True) for n in range(1,n) ]\n",
    "                        lab.extend(lab_v)\n",
    "                        lym_lab = lab\n",
    "                \n",
    "                row_dict[test] = lab\n",
    "            \n",
    "            #add NLR (Neutrophil-to-lymphocite ratio)\n",
    "            #code_list = ['CCD00179N'] #Neutrophile\n",
    "            #lab = [lab_var(x, in_date + datetime.timedelta(1), method = 'basal', codes = code_list,  synonyms = synonyms_nan_code, raw = True)] #basal value\n",
    "            #lab_v = [lab_var(x, in_date +  datetime.timedelta(n),  method = 'mean', codes = code_list,  synonyms = synonyms_nan_code, raw = True) for n in range(1,n) ]\n",
    "            #lab.extend(lab_v) \n",
    "            #code_list = ['CCD00161N'] #Lymphocite\n",
    "            #li_lab = [lab_var(x, in_date + datetime.timedelta(1), method = 'basal', codes = code_list,  synonyms = synonyms_nan_code, raw = True)] #basal value\n",
    "            #li_lab_v = [lab_var(x, in_date +  datetime.timedelta(n),  method = 'mean', codes = code_list,  synonyms = synonyms_nan_code,  raw = True) for n in range(1,n) ]\n",
    "            #li_lab.extend(li_lab_v) \n",
    "            row_dict['NLR'] = np.round(np.array(neu_lab) / np.array(lym_lab), 2)\n",
    "            \n",
    "            \n",
    "            \n",
    "            row_dict['_p_id'] = _p_id\n",
    "            row_dict['_patient_id'] = x.iloc[0]._patient_id\n",
    "            row_dict['_health_dep'] = x.iloc[0]._health_dep\n",
    "            row_dict['_gender'] = x.iloc[0]._gender\n",
    "            row_dict['_age'] = x.iloc[0]._age\n",
    "            row_dict['date_in'] = in_date\n",
    "            row_dict['n_days_in'] = n_days_in\n",
    "            row_dict['worst_barthel_scale'] = worst_barthel_scale\n",
    "            row_dict['n_image'] = n_rx\n",
    "            row_dict['n_covid_rel_image'] = rx.shape[0] #n images with related covid findings\n",
    "            row_dict['covid_rel_image'] = list(set([l for i in rx.covid_image.values for l in  i]))\n",
    "            row_dict['n_covid_rel_dx'] = dx.shape[0]\n",
    "            row_dict['covid_rel_dx'] = dx._desc.str.strip().unique()\n",
    "            row_dict['n_PCRs'] = n_pcr\n",
    "            row_dict['n_PCRs_+'] = cov.shape[0]\n",
    "            row_dict['worst_glasgow_scale'] = worst_glasgow_scale\n",
    "            row_dict['worst_sofa_scale'] = worst_sofa_scale\n",
    "            row_dict['date_icu_in'] = date_icu_in\n",
    "            row_dict['n_days_icu'] = n_days_icu\n",
    "            row_dict['_discharge'] = discharge._event_value.values[0]\n",
    "            row_dict['critic'] = critic\n",
    "            row_dict['severity'] = severity\n",
    "            row_dict['who_out_scale'] = [who_out_scale(x, in_date +  datetime.timedelta(n)) for n in range(1,n) ]\n",
    "            row_dict['satO2'] = sats\n",
    "            row_dict['fiO2'] = fi\n",
    "            row_dict['resp_rate'] = fr\n",
    "            row_dict['heart_rate'] = fc\n",
    "            row_dict['tem'] = te\n",
    "            row_dict['weight'] = wei\n",
    "            row_dict['height'] = hei\n",
    "            row_dict['dbp'] = tad\n",
    "            row_dict['sbp'] = tas\n",
    "            \n",
    "            \n",
    "            df_exp = df_exp.append(row_dict, ignore_index = True)\n",
    "\n",
    "            #if (((dx.shape[0] > 0) or (rx.shape[0] >  0)) and (cov.shape[0]> 0)) :\n",
    "                #pass\n",
    "                \n",
    "            if verbose:\n",
    "                print(f'finished {_p_id}')\n",
    "            \n",
    "        except Exception as e:\n",
    "        \n",
    "            print(f'{x_p.iloc[0]._health_dep}, {x_p.iloc[0]._patient_id}')\n",
    "            print(e)\n",
    "            \n",
    "    return df_exp\n"
   ]
  },
  {
   "cell_type": "code",
   "execution_count": 445,
   "metadata": {
    "scrolled": false
   },
   "outputs": [
    {
     "name": "stderr",
     "output_type": "stream",
     "text": [
      "/home/auri/anaconda3/envs/nlpMED/lib/python3.7/site-packages/ipykernel_launcher.py:203: RuntimeWarning: divide by zero encountered in true_divide\n",
      "/home/auri/anaconda3/envs/nlpMED/lib/python3.7/site-packages/ipykernel_launcher.py:203: RuntimeWarning: invalid value encountered in true_divide\n",
      "/home/auri/anaconda3/envs/nlpMED/lib/python3.7/site-packages/ipykernel_launcher.py:203: RuntimeWarning: divide by zero encountered in true_divide\n",
      "/home/auri/anaconda3/envs/nlpMED/lib/python3.7/site-packages/ipykernel_launcher.py:203: RuntimeWarning: divide by zero encountered in true_divide\n",
      "/home/auri/anaconda3/envs/nlpMED/lib/python3.7/site-packages/ipykernel_launcher.py:203: RuntimeWarning: divide by zero encountered in true_divide\n",
      "/home/auri/anaconda3/envs/nlpMED/lib/python3.7/site-packages/ipykernel_launcher.py:203: RuntimeWarning: divide by zero encountered in true_divide\n",
      "/home/auri/anaconda3/envs/nlpMED/lib/python3.7/site-packages/ipykernel_launcher.py:203: RuntimeWarning: divide by zero encountered in true_divide\n"
     ]
    }
   ],
   "source": [
    "df_experiment = pd.DataFrame(columns = ex1_columns)\n",
    "with ProcessPoolExecutor() as executor:\n",
    "        for dh in executor.map(table, df.groupby('_p_id')):\n",
    "            df_experiment = pd.concat([df_experiment,dh]) "
   ]
  },
  {
   "cell_type": "code",
   "execution_count": 452,
   "metadata": {},
   "outputs": [
    {
     "data": {
      "text/plain": [
       "89"
      ]
     },
     "execution_count": 452,
     "metadata": {},
     "output_type": "execute_result"
    }
   ],
   "source": [
    "pd.set_option('display.max_columns', None)\n",
    "df_experiment[df_experiment._p_id ==1]\n",
    "len(df_experiment.columns)"
   ]
  },
  {
   "cell_type": "code",
   "execution_count": 448,
   "metadata": {},
   "outputs": [],
   "source": [
    "df_experiment.drop(columns = ['_p_id']).reset_index().to_csv('table_extended_PCR.csv', index = False)"
   ]
  },
  {
   "cell_type": "code",
   "execution_count": 449,
   "metadata": {},
   "outputs": [],
   "source": [
    "target_pop = df_experiment[( (df_experiment['n_PCRs_+'] > 0) & ((df_experiment['n_covid_rel_dx'] > 0) | (df_experiment['n_covid_rel_image'] > 0) ))]"
   ]
  },
  {
   "cell_type": "code",
   "execution_count": null,
   "metadata": {},
   "outputs": [],
   "source": [
    "target_pop[((target_pop.severity == 4) ) & (target_pop.n_days_icu < pd.Timedelta(1, unit='d'))]"
   ]
  },
  {
   "cell_type": "code",
   "execution_count": null,
   "metadata": {},
   "outputs": [],
   "source": [
    "df_experiment[df_experiment._p_id == 1806]"
   ]
  },
  {
   "cell_type": "code",
   "execution_count": 450,
   "metadata": {},
   "outputs": [
    {
     "data": {
      "text/plain": [
       "2822"
      ]
     },
     "execution_count": 450,
     "metadata": {},
     "output_type": "execute_result"
    }
   ],
   "source": [
    "target_pop.shape[0]"
   ]
  },
  {
   "cell_type": "code",
   "execution_count": null,
   "metadata": {},
   "outputs": [],
   "source": [
    "df_experiment[df_experiment._health_dep == '21']"
   ]
  },
  {
   "cell_type": "code",
   "execution_count": null,
   "metadata": {},
   "outputs": [],
   "source": [
    "\n"
   ]
  },
  {
   "cell_type": "code",
   "execution_count": null,
   "metadata": {},
   "outputs": [],
   "source": [
    "df_experiment[df_experiment._health_dep == '21']"
   ]
  },
  {
   "cell_type": "code",
   "execution_count": null,
   "metadata": {},
   "outputs": [],
   "source": [
    "df[df._p_id ==  4450]._patient_id"
   ]
  },
  {
   "cell_type": "code",
   "execution_count": null,
   "metadata": {},
   "outputs": [],
   "source": [
    "df_experiment.date_icu_in.value_counts()"
   ]
  },
  {
   "cell_type": "code",
   "execution_count": null,
   "metadata": {},
   "outputs": [],
   "source": [
    "df_experiment.iloc[0].covid_rel_image"
   ]
  },
  {
   "cell_type": "code",
   "execution_count": null,
   "metadata": {},
   "outputs": [],
   "source": [
    "df[(df._p_id == 4467) & (df._event_type == 'Lab Sars-cov-2')]"
   ]
  },
  {
   "cell_type": "code",
   "execution_count": null,
   "metadata": {},
   "outputs": [],
   "source": [
    "\n",
    "\n",
    "import pandas as pd\n",
    "admissions_df = df_dict['State Admission']\n",
    "discharge_df = df_dict['State Discharge']\n"
   ]
  },
  {
   "cell_type": "code",
   "execution_count": null,
   "metadata": {},
   "outputs": [],
   "source": [
    "admissions_df.loc[admissions_df._p_id == 3308]"
   ]
  },
  {
   "cell_type": "code",
   "execution_count": null,
   "metadata": {},
   "outputs": [],
   "source": [
    "p = 3308\n",
    "#df_admissions "
   ]
  },
  {
   "cell_type": "code",
   "execution_count": null,
   "metadata": {
    "scrolled": true
   },
   "outputs": [],
   "source": [
    "list(zip(admissions_df.loc[admissions_df._p_id == p]._start_date, \n",
    "         discharge_df.loc[discharge_df._p_id == p]._start_date,\n",
    "         discharge_df.loc[discharge_df._p_id == p]._health_dep,\n",
    "        admissions_df.loc[admissions_df._p_id == p]._p_id,\n",
    "        admissions_df.loc[admissions_df._p_id == p]._gender,\n",
    "        admissions_df.loc[admissions_df._p_id == p]._age,\n",
    "        discharge_df.loc[discharge_df._p_id == p]._event_value))"
   ]
  },
  {
   "cell_type": "code",
   "execution_count": null,
   "metadata": {},
   "outputs": [],
   "source": [
    "discharge_df['date'] = discharge_df['_start_date'] \n",
    "discharge_df"
   ]
  },
  {
   "cell_type": "code",
   "execution_count": null,
   "metadata": {},
   "outputs": [],
   "source": [
    "m = pd.merge(admissions_df,discharge_df[['_p_id', 'date']], sort = True)\n",
    "m.loc[m._p_id == 3308]._start_date.values, m.loc[m._p_id == 3308].date.values"
   ]
  },
  {
   "cell_type": "code",
   "execution_count": null,
   "metadata": {},
   "outputs": [],
   "source": [
    "m.loc[m._p_id == 3308]._health_dep.unique()"
   ]
  },
  {
   "cell_type": "code",
   "execution_count": null,
   "metadata": {},
   "outputs": [],
   "source": [
    "m.loc[m._p_id == 3308]._patient_id.unique()"
   ]
  },
  {
   "cell_type": "code",
   "execution_count": null,
   "metadata": {},
   "outputs": [],
   "source": [
    "pd.merge(admissions_df,discharge_df, how='outer',on='_p_id')"
   ]
  },
  {
   "cell_type": "code",
   "execution_count": null,
   "metadata": {},
   "outputs": [],
   "source": [
    "df_out = df"
   ]
  },
  {
   "cell_type": "code",
   "execution_count": null,
   "metadata": {},
   "outputs": [],
   "source": [
    "def f(x):\n",
    "    df.groupby('_p_id')\n",
    "    \n",
    "    return i\n",
    "\n",
    "df_out['_out_discharge'] = df_out.apply(lambda x: f(x), axis = 1)"
   ]
  },
  {
   "cell_type": "code",
   "execution_count": null,
   "metadata": {},
   "outputs": [],
   "source": [
    "DT = dt.Frame(df)"
   ]
  },
  {
   "cell_type": "code",
   "execution_count": null,
   "metadata": {},
   "outputs": [],
   "source": [
    "DT.names"
   ]
  },
  {
   "cell_type": "code",
   "execution_count": null,
   "metadata": {},
   "outputs": [],
   "source": [
    "DT[:,{'count':count()} , by('_p_id')]"
   ]
  },
  {
   "cell_type": "code",
   "execution_count": null,
   "metadata": {},
   "outputs": [],
   "source": [
    "DT[1,classes_field_dict['Patient'] , by('_p_id')]"
   ]
  },
  {
   "cell_type": "code",
   "execution_count": null,
   "metadata": {},
   "outputs": [],
   "source": []
  },
  {
   "cell_type": "code",
   "execution_count": null,
   "metadata": {},
   "outputs": [],
   "source": [
    "df._patient_id.value_counts()"
   ]
  },
  {
   "cell_type": "code",
   "execution_count": null,
   "metadata": {},
   "outputs": [],
   "source": [
    "#profile = ProfileReport(df,  pool_size = 32)\n",
    "df._dose.describe()"
   ]
  },
  {
   "cell_type": "code",
   "execution_count": null,
   "metadata": {},
   "outputs": [],
   "source": []
  },
  {
   "cell_type": "code",
   "execution_count": null,
   "metadata": {},
   "outputs": [],
   "source": [
    "DT[ (f._event_value == 'POTASIO CLORURO') ,fields_fluid]"
   ]
  },
  {
   "cell_type": "code",
   "execution_count": null,
   "metadata": {},
   "outputs": [],
   "source": [
    "dt.unique(DT[:, f._health_dep])"
   ]
  },
  {
   "cell_type": "code",
   "execution_count": null,
   "metadata": {},
   "outputs": [],
   "source": [
    "DT[(f.event_type == 'Text Discharge') ,:]"
   ]
  },
  {
   "cell_type": "code",
   "execution_count": null,
   "metadata": {},
   "outputs": [],
   "source": [
    "e = DT[(f.event_type == 'Text Discharge'), :][:,{'N': dt.count()} , by('_event_value')]"
   ]
  },
  {
   "cell_type": "code",
   "execution_count": null,
   "metadata": {},
   "outputs": [],
   "source": [
    "e.to_csv(str(csv_dir/'Text_Discharge.csv'))"
   ]
  },
  {
   "cell_type": "code",
   "execution_count": null,
   "metadata": {},
   "outputs": [],
   "source": [
    "DT[(dt.isna(f.date) == False),[f.date, f._start_date]]"
   ]
  },
  {
   "cell_type": "code",
   "execution_count": null,
   "metadata": {},
   "outputs": [],
   "source": [
    "DT[dt.rowany(dt.isna(f.date) == False),[f.date, f._start_date]]"
   ]
  },
  {
   "cell_type": "code",
   "execution_count": null,
   "metadata": {},
   "outputs": [],
   "source": [
    "DT.names"
   ]
  },
  {
   "cell_type": "code",
   "execution_count": null,
   "metadata": {},
   "outputs": [],
   "source": [
    "pdict['08_01d7a0442ab14089134c009df5aafdc1a8d206197e27db555281cf6582fda9fd'].__dict__.keys()"
   ]
  },
  {
   "cell_type": "code",
   "execution_count": null,
   "metadata": {},
   "outputs": [],
   "source": [
    "DT.names"
   ]
  },
  {
   "cell_type": "code",
   "execution_count": null,
   "metadata": {},
   "outputs": [],
   "source": [
    "DT[(dt.isna(f.event_value) == True) & (dt.isna(f._event_value) == False),['event_type', '_event_value', 'event_value']]"
   ]
  },
  {
   "cell_type": "code",
   "execution_count": null,
   "metadata": {},
   "outputs": [],
   "source": [
    "DT[dt.rowany(dt.isna(f.event_value) == False),[f.event_value, f._event_value, f._desc]]"
   ]
  },
  {
   "cell_type": "code",
   "execution_count": null,
   "metadata": {},
   "outputs": [],
   "source": [
    "DT[((f.event_type == 'Medication') & dt.isna(f._dose) == True  & (f._health_dep == '08')), :]"
   ]
  },
  {
   "cell_type": "code",
   "execution_count": null,
   "metadata": {},
   "outputs": [],
   "source": []
  }
 ],
 "metadata": {
  "kernelspec": {
   "display_name": "nlpMED",
   "language": "python",
   "name": "nlpmed"
  },
  "language_info": {
   "codemirror_mode": {
    "name": "ipython",
    "version": 3
   },
   "file_extension": ".py",
   "mimetype": "text/x-python",
   "name": "python",
   "nbconvert_exporter": "python",
   "pygments_lexer": "ipython3",
   "version": "3.7.7"
  }
 },
 "nbformat": 4,
 "nbformat_minor": 4
}
